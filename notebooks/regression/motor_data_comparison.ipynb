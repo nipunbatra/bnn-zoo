{
 "cells": [
  {
   "cell_type": "code",
   "execution_count": 10,
   "metadata": {},
   "outputs": [],
   "source": [
    "import os\n",
    "os.chdir(\"../../\")\n",
    "\n",
    "os.environ['LATEXIFY']=str(1)\n",
    "os.environ['FIG_DIR']='figures/motorhelmet'\n",
    "from probml_utils import savefig, latexify\n",
    "latexify(width_scale_factor=2.4, fig_height=2)"
   ]
  },
  {
   "cell_type": "code",
   "execution_count": 11,
   "metadata": {},
   "outputs": [],
   "source": [
    "from models.gaussian_mlp import gmlp\n",
    "from models.mlp import mlp\n",
    "from utilities.fits import fit\n",
    "from utilities.gmm import gmm_mean_var\n",
    "from utilities.predict import predict\n",
    "from utilities import plot,errors"
   ]
  },
  {
   "cell_type": "code",
   "execution_count": 12,
   "metadata": {},
   "outputs": [],
   "source": [
    "try:\n",
    "  import GPy\n",
    "except ModuleNotFoundError:\n",
    "  %pip install GPy\n",
    "  import GPy\n",
    "\n",
    "from probml_utils.blackjax_utils import inference_loop\n",
    "import blackjax\n",
    "import flax\n",
    "from flax import linen as nn\n",
    "from flax.core import unfreeze\n",
    "import jax\n",
    "import jax.numpy as jnp\n",
    "import matplotlib.pyplot as plt\n",
    "import seaborn as sns\n",
    "from datasets import sin_data\n",
    "import tensorflow_probability.substrates.jax as tfp\n",
    "from jax import tree_map\n",
    "from jax.flatten_util import ravel_pytree\n",
    "import tensorflow_probability.substrates.jax as tfp\n",
    "tfd = tfp.distributions\n",
    "from functools import partial\n",
    "import regdata as rd\n"
   ]
  },
  {
   "cell_type": "code",
   "execution_count": 13,
   "metadata": {},
   "outputs": [],
   "source": [
    "n_points = 300\n",
    "x_train, y_train = rd.MotorcycleHelmet(return_test=False).get_data()\n",
    "x_train = jnp.array(x_train)\n",
    "y_train = jnp.array(y_train).reshape(-1,1)\n",
    "x_linspace_test = jnp.linspace(-4, 4, n_points).reshape(-1, 1)"
   ]
  },
  {
   "cell_type": "code",
   "execution_count": 9,
   "metadata": {},
   "outputs": [],
   "source": [
    "\n",
    "batch_size = 32\n",
    "epochs = 200\n",
    "learning_rate = 0.006"
   ]
  },
  {
   "cell_type": "code",
   "execution_count": 10,
   "metadata": {},
   "outputs": [
    {
     "data": {
      "image/png": "[encoded data removed]",
      "text/plain": [
       "<Figure size 180x144 with 1 Axes>"
      ]
     },
     "metadata": {
      "needs_background": "light"
     },
     "output_type": "display_data"
    }
   ],
   "source": [
    "plt.plot(x_train,y_train,'o')\n",
    "x_train=jnp.array(x_train)\n",
    "y_train=jnp.array(y_train)\n",
    "sns.despine()"
   ]
  },
  {
   "cell_type": "markdown",
   "metadata": {},
   "source": [
    "## MLP"
   ]
  },
  {
   "cell_type": "code",
   "execution_count": 11,
   "metadata": {},
   "outputs": [],
   "source": [
    "mlp_model = mlp([16,16, 1], [nn.relu] * 2, [0] * 2)\n",
    "mlp_params = mlp_model.init(jax.random.PRNGKey(0), x_train, True)"
   ]
  },
  {
   "cell_type": "code",
   "execution_count": 12,
   "metadata": {},
   "outputs": [],
   "source": [
    "mlp_params, mlp_loss = fit(\n",
    "    mlp_model, mlp_params, x_train, y_train, False, learning_rate=learning_rate, epochs=epochs,batch_size=batch_size,rng=jax.random.PRNGKey(1)\n",
    ")"
   ]
  },
  {
   "cell_type": "code",
   "execution_count": 13,
   "metadata": {},
   "outputs": [
    {
     "data": {
      "text/plain": [
       "[<matplotlib.lines.Line2D at 0x7f3f7035ea70>]"
      ]
     },
     "execution_count": 13,
     "metadata": {},
     "output_type": "execute_result"
    },
    {
     "data": {
      "image/png": "[encoded data removed]",
      "text/plain": [
       "<Figure size 180x144 with 1 Axes>"
      ]
     },
     "metadata": {
      "needs_background": "light"
     },
     "output_type": "display_data"
    }
   ],
   "source": [
    "plt.plot(mlp_loss)"
   ]
  },
  {
   "cell_type": "code",
   "execution_count": 15,
   "metadata": {},
   "outputs": [
    {
     "name": "stderr",
     "output_type": "stream",
     "text": [
      " /home/summer2022/miniconda3/envs/env-00/lib/python3.10/site-packages/probml_utils/plotting.py:69: UserWarning:renaming figures/motorhelmet/MLP.pdf to figures/motorhelmet/MLP_latexified.pdf because LATEXIFY is True\n"
     ]
    },
    {
     "name": "stdout",
     "output_type": "stream",
     "text": [
      "saving image to figures/motorhelmet/MLP_latexified.pdf\n",
      "Figure size: [2.5 2. ]\n"
     ]
    },
    {
     "data": {
      "image/png": "[encoded data removed]",
      "text/plain": [
       "<Figure size 180x144 with 1 Axes>"
      ]
     },
     "metadata": {
      "needs_background": "light"
     },
     "output_type": "display_data"
    }
   ],
   "source": [
    "n_points = 300\n",
    "y_hat = mlp_model.apply(mlp_params, x_linspace_test, True).reshape(-1)\n",
    "y_hat_train = mlp_model.apply(mlp_params, x_train, True)\n",
    "ax = plot.plot_prediction_regression_without_test(x_train,y_train,x_linspace_test,y_hat,\n",
    "jnp.zeros(y_hat.shape[0]),y_min=-3,y_max=3,title=f'Train : {mlp_loss[-1]:.2f}')\n",
    "\n",
    "sns.despine()\n",
    "savefig('MLP.pdf')"
   ]
  },
  {
   "cell_type": "markdown",
   "metadata": {},
   "source": [
    "## Gaussian MLP"
   ]
  },
  {
   "cell_type": "code",
   "execution_count": 16,
   "metadata": {},
   "outputs": [],
   "source": [
    "gmlp_model = gmlp(features=[16,16], activations=[nn.relu] * 2, dropout_rate=[0.01] * 2)"
   ]
  },
  {
   "cell_type": "code",
   "execution_count": 17,
   "metadata": {},
   "outputs": [],
   "source": [
    "gmlp_params = gmlp_model.init(jax.random.PRNGKey(11), x_train, True)"
   ]
  },
  {
   "cell_type": "code",
   "execution_count": 18,
   "metadata": {},
   "outputs": [],
   "source": [
    "gmlp_params, loss = fit(\n",
    "    gmlp_model,\n",
    "    gmlp_params,\n",
    "    x_train,\n",
    "    y_train,\n",
    "    deterministic=False,\n",
    "    learning_rate=learning_rate,\n",
    "    epochs=epochs,batch_size=batch_size\n",
    ")"
   ]
  },
  {
   "cell_type": "code",
   "execution_count": 19,
   "metadata": {},
   "outputs": [],
   "source": [
    "gmlp_mean, gmlp_sigma = gmlp_model.apply(gmlp_params, x_linspace_test, True)\n",
    "gmlp_mean_train, gmlp_sigma_train = gmlp_model.apply(gmlp_params, x_train, True)\n",
    "gmlp_train_loss = gmlp_model.loss_fn(gmlp_params, x_train,y_train, True, jax.random.PRNGKey(0))\n"
   ]
  },
  {
   "cell_type": "code",
   "execution_count": 20,
   "metadata": {},
   "outputs": [
    {
     "name": "stderr",
     "output_type": "stream",
     "text": [
      " /home/summer2022/miniconda3/envs/env-00/lib/python3.10/site-packages/probml_utils/plotting.py:69: UserWarning:renaming figures/motorhelmet/GMLP.pdf to figures/motorhelmet/GMLP_latexified.pdf because LATEXIFY is True\n"
     ]
    },
    {
     "name": "stdout",
     "output_type": "stream",
     "text": [
      "saving image to figures/motorhelmet/GMLP_latexified.pdf\n",
      "Figure size: [2.5 2. ]\n"
     ]
    },
    {
     "data": {
      "image/png": "[encoded data removed]",
      "text/plain": [
       "<Figure size 180x144 with 1 Axes>"
      ]
     },
     "metadata": {
      "needs_background": "light"
     },
     "output_type": "display_data"
    }
   ],
   "source": [
    "ax = plot.plot_prediction_regression_without_test(x_train,y_train,x_linspace_test,gmlp_mean,gmlp_sigma,y_min=-3,y_max=3,title=f'Train {gmlp_train_loss:.2f}')\n",
    "ax.legend()\n",
    "ax.set_xlim(-4,4)\n",
    "savefig('GMLP.pdf')"
   ]
  },
  {
   "cell_type": "code",
   "execution_count": 21,
   "metadata": {},
   "outputs": [
    {
     "name": "stderr",
     "output_type": "stream",
     "text": [
      " /home/summer2022/miniconda3/envs/env-00/lib/python3.10/site-packages/probml_utils/plotting.py:69: UserWarning:renaming figures/motorhelmet/Calibration_GMLP.pdf to figures/motorhelmet/Calibration_GMLP_latexified.pdf because LATEXIFY is True\n"
     ]
    },
    {
     "name": "stdout",
     "output_type": "stream",
     "text": [
      "saving image to figures/motorhelmet/Calibration_GMLP_latexified.pdf\n",
      "Figure size: [2.5 2. ]\n"
     ]
    },
    {
     "data": {
      "image/png": "[encoded data removed]",
      "text/plain": [
       "<Figure size 180x144 with 1 Axes>"
      ]
     },
     "metadata": {
      "needs_background": "light"
     },
     "output_type": "display_data"
    }
   ],
   "source": [
    "fig, ax = plt.subplots(1)\n",
    "_, df_train = plot.calibration_regression(\n",
    "    gmlp_mean_train, gmlp_sigma_train, y_train, \"Train\", \"black\", ax\n",
    ")\n",
    "ax.set_title(f\"Train {errors.ace(df_train):.2f}\")\n",
    "k = jnp.arange(0, 1.1, 0.1)\n",
    "ax.plot(k,k,label='Ideal',color='Green')\n",
    "ax.legend()\n",
    "savefig('Calibration_GMLP.pdf')"
   ]
  },
  {
   "cell_type": "markdown",
   "metadata": {},
   "source": [
    "## Bootstrap"
   ]
  },
  {
   "cell_type": "code",
   "execution_count": 22,
   "metadata": {},
   "outputs": [],
   "source": [
    "params_list = []\n",
    "losses_list = []\n",
    "n_models = 5\n",
    "keys = jax.random.split(jax.random.PRNGKey(0),n_models)\n",
    "for i in range(n_models):\n",
    "    ids = jax.random.choice(keys[i], jnp.array(range(len(x_train))), (x_train.shape))\n",
    "    x, y = x_train[ids].reshape(-1,1), y_train[ids].reshape(-1,1)\n",
    "    params = gmlp_model.init(jax.random.PRNGKey(i), x_train, deterministic = True)\n",
    "    params, loss =  fit(gmlp_model, params, x, y, deterministic=False, learning_rate=learning_rate, epochs=epochs,batch_size=batch_size)\n",
    "    params_list.append(params)\n",
    "    losses_list.append(loss)"
   ]
  },
  {
   "cell_type": "code",
   "execution_count": 23,
   "metadata": {},
   "outputs": [],
   "source": [
    "means_list,sigmas_list = predict(n_models, gmlp_model, params_list, x_linspace_test)\n",
    "bs_mean, bs_sigma = gmm_mean_var(means_list,sigmas_list)\n",
    "means_list,sigmas_list = predict(n_models, gmlp_model, params_list, x_train)\n",
    "bs_mean_train, bs_sigma_train = gmm_mean_var(means_list,sigmas_list)"
   ]
  },
  {
   "cell_type": "code",
   "execution_count": 24,
   "metadata": {},
   "outputs": [],
   "source": [
    "bs_mean, bs_sigma = bs_mean.reshape(n_points),bs_sigma.reshape(n_points)"
   ]
  },
  {
   "cell_type": "code",
   "execution_count": 25,
   "metadata": {},
   "outputs": [
    {
     "name": "stderr",
     "output_type": "stream",
     "text": [
      " /home/summer2022/miniconda3/envs/env-00/lib/python3.10/site-packages/probml_utils/plotting.py:69: UserWarning:renaming figures/motorhelmet/Bootstrap.pdf to figures/motorhelmet/Bootstrap_latexified.pdf because LATEXIFY is True\n"
     ]
    },
    {
     "name": "stdout",
     "output_type": "stream",
     "text": [
      "saving image to figures/motorhelmet/Bootstrap_latexified.pdf\n",
      "Figure size: [2.5 2. ]\n"
     ]
    },
    {
     "data": {
      "image/png": "[encoded data removed]",
      "text/plain": [
       "<Figure size 180x144 with 1 Axes>"
      ]
     },
     "metadata": {
      "needs_background": "light"
     },
     "output_type": "display_data"
    }
   ],
   "source": [
    "ax =plot.plot_prediction_regression_without_test(x_train,y_train,x_linspace_test,bs_mean,bs_sigma,y_min=-3,y_max=3,\n",
    "title=f\"Train {errors.loss(bs_mean_train,bs_sigma_train,y_train):.2f}\")\n",
    "ax.set_xlim(-4,4)\n",
    "savefig('Bootstrap.pdf')"
   ]
  },
  {
   "cell_type": "code",
   "execution_count": 26,
   "metadata": {},
   "outputs": [
    {
     "name": "stderr",
     "output_type": "stream",
     "text": [
      " /home/summer2022/miniconda3/envs/env-00/lib/python3.10/site-packages/probml_utils/plotting.py:69: UserWarning:renaming figures/motorhelmet/Calibration_Bootstrap.pdf to figures/motorhelmet/Calibration_Bootstrap_latexified.pdf because LATEXIFY is True\n"
     ]
    },
    {
     "name": "stdout",
     "output_type": "stream",
     "text": [
      "saving image to figures/motorhelmet/Calibration_Bootstrap_latexified.pdf\n",
      "Figure size: [2.5 2. ]\n"
     ]
    },
    {
     "data": {
      "image/png": "[encoded data removed]",
      "text/plain": [
       "<Figure size 180x144 with 1 Axes>"
      ]
     },
     "metadata": {
      "needs_background": "light"
     },
     "output_type": "display_data"
    }
   ],
   "source": [
    "fig, ax = plt.subplots(1)\n",
    "_, df_train = plot.calibration_regression(\n",
    "    bs_mean_train, bs_sigma_train, y_train, \"Train\", \"black\", ax\n",
    ")\n",
    "\n",
    "ax.set_title(f\"Train {errors.ace(df_train):.2f} \")\n",
    "savefig('Calibration_Bootstrap.pdf')"
   ]
  },
  {
   "cell_type": "markdown",
   "metadata": {},
   "source": [
    "## MC Dropout Gaussian MLP"
   ]
  },
  {
   "cell_type": "code",
   "execution_count": 27,
   "metadata": {},
   "outputs": [],
   "source": [
    "n_stacks = 100\n",
    "fn = lambda x, i: gmlp_model.apply(\n",
    "    gmlp_params, x, deterministic=False, rngs={\"dropout\": jax.random.PRNGKey(i)}\n",
    ")\n"
   ]
  },
  {
   "cell_type": "code",
   "execution_count": 28,
   "metadata": {},
   "outputs": [],
   "source": [
    "y_stacks = jax.vmap(fn, in_axes=(None, 0))(x_linspace_test, jnp.arange(n_stacks))\n",
    "mc_mean, mc_sigma = gmm_mean_var(y_stacks[0], y_stacks[1])\n",
    "# y_stacks = jax.vmap(fn, in_axes=(None, 0))(x_test, jnp.arange(n_stacks))\n",
    "# mc_mean_test, mc_sigma_test = gmm_mean_var(y_stacks[0], y_stacks[1])\n",
    "y_stacks = jax.vmap(fn, in_axes=(None, 0))(x_train, jnp.arange(n_stacks))\n",
    "mc_mean_train, mc_sigma_train = gmm_mean_var(y_stacks[0], y_stacks[1])"
   ]
  },
  {
   "cell_type": "code",
   "execution_count": 29,
   "metadata": {},
   "outputs": [
    {
     "name": "stderr",
     "output_type": "stream",
     "text": [
      " /home/summer2022/miniconda3/envs/env-00/lib/python3.10/site-packages/probml_utils/plotting.py:69: UserWarning:renaming figures/motorhelmet/Calibration_MC.pdf to figures/motorhelmet/Calibration_MC_latexified.pdf because LATEXIFY is True\n"
     ]
    },
    {
     "name": "stdout",
     "output_type": "stream",
     "text": [
      "saving image to figures/motorhelmet/Calibration_MC_latexified.pdf\n",
      "Figure size: [2.5 2. ]\n"
     ]
    },
    {
     "data": {
      "image/png": "[encoded data removed]",
      "text/plain": [
       "<Figure size 180x144 with 1 Axes>"
      ]
     },
     "metadata": {
      "needs_background": "light"
     },
     "output_type": "display_data"
    }
   ],
   "source": [
    "fig, ax = plt.subplots(1)\n",
    "# _, df_test = plot.calibration_regression(\n",
    "#     mc_mean_test, mc_sigma_test, y_test, \"Test\", \"blue\", ax\n",
    "# )\n",
    "_, df_train = plot.calibration_regression(\n",
    "    mc_mean_train, mc_sigma_train, y_train, \"Train\", \"black\", ax\n",
    ")\n",
    "ax.set_title(f\"Train {errors.ace(df_train):.2f} \")\n",
    "savefig(\"Calibration_MC.pdf\")"
   ]
  },
  {
   "cell_type": "code",
   "execution_count": 30,
   "metadata": {},
   "outputs": [
    {
     "name": "stderr",
     "output_type": "stream",
     "text": [
      " /home/summer2022/miniconda3/envs/env-00/lib/python3.10/site-packages/probml_utils/plotting.py:69: UserWarning:renaming figures/motorhelmet/MC_Dropout.pdf to figures/motorhelmet/MC_Dropout_latexified.pdf because LATEXIFY is True\n"
     ]
    },
    {
     "name": "stdout",
     "output_type": "stream",
     "text": [
      "saving image to figures/motorhelmet/MC_Dropout_latexified.pdf\n",
      "Figure size: [2.5 2. ]\n"
     ]
    },
    {
     "data": {
      "image/png": "[encoded data removed]",
      "text/plain": [
       "<Figure size 180x144 with 1 Axes>"
      ]
     },
     "metadata": {
      "needs_background": "light"
     },
     "output_type": "display_data"
    }
   ],
   "source": [
    "ax =plot.plot_prediction_regression_without_test(x_train,y_train,x_linspace_test,mc_mean,mc_sigma,y_min=-3,y_max=3,\n",
    "title=f\"Train {errors.loss(mc_mean_train,mc_sigma_train,y_train):.2f}\")\n",
    "ax.set_xlim(-4,4)\n",
    "savefig('MC_Dropout.pdf')"
   ]
  },
  {
   "cell_type": "markdown",
   "metadata": {},
   "source": [
    "## Deep Ensemble Gaussian MLP"
   ]
  },
  {
   "cell_type": "code",
   "execution_count": 31,
   "metadata": {},
   "outputs": [],
   "source": [
    "params_list = []\n",
    "losses_list = []\n",
    "n_models = 5\n",
    "for i in range(n_models):\n",
    "    params = gmlp_model.init(jax.random.PRNGKey(4*i), x_train, deterministic=True)\n",
    "    params, loss = fit(\n",
    "        gmlp_model,\n",
    "        params,\n",
    "        x_train,\n",
    "        y_train,\n",
    "        deterministic=False,\n",
    "        learning_rate=learning_rate,\n",
    "        epochs=epochs,\n",
    "        batch_size=batch_size\n",
    "    )\n",
    "    params_list.append(params)\n",
    "    losses_list.append(loss)"
   ]
  },
  {
   "cell_type": "code",
   "execution_count": 32,
   "metadata": {},
   "outputs": [],
   "source": [
    "means_list, sigmas_list = predict(n_models, gmlp_model, params_list, x_linspace_test)\n",
    "de_mean, de_sigma = gmm_mean_var(means_list, sigmas_list)\n",
    "means_list, sigmas_list = predict(n_models, gmlp_model, params_list, x_train)\n",
    "de_mean_train, de_sigma_train = gmm_mean_var(means_list, sigmas_list)"
   ]
  },
  {
   "cell_type": "code",
   "execution_count": 33,
   "metadata": {},
   "outputs": [
    {
     "name": "stderr",
     "output_type": "stream",
     "text": [
      " /home/summer2022/miniconda3/envs/env-00/lib/python3.10/site-packages/probml_utils/plotting.py:69: UserWarning:renaming figures/motorhelmet/Deep Ensemble.pdf to figures/motorhelmet/Deep Ensemble_latexified.pdf because LATEXIFY is True\n"
     ]
    },
    {
     "name": "stdout",
     "output_type": "stream",
     "text": [
      "saving image to figures/motorhelmet/Deep Ensemble_latexified.pdf\n",
      "Figure size: [2.5 2. ]\n"
     ]
    },
    {
     "data": {
      "image/png": "[encoded data removed]",
      "text/plain": [
       "<Figure size 180x144 with 1 Axes>"
      ]
     },
     "metadata": {
      "needs_background": "light"
     },
     "output_type": "display_data"
    }
   ],
   "source": [
    "de_mean, de_sigma = de_mean.reshape(n_points), de_sigma.reshape(n_points)\n",
    "ax=plot.plot_prediction_regression_without_test(x_train,y_train,x_linspace_test,de_mean,de_sigma,y_min=-3,y_max=3,\n",
    "title=f\"Train {errors.loss(de_mean_train,de_sigma_train,y_train):.2f}\")\n",
    "ax.set_xlim(-4,4)\n",
    "savefig('Deep Ensemble.pdf')"
   ]
  },
  {
   "cell_type": "code",
   "execution_count": 34,
   "metadata": {},
   "outputs": [
    {
     "name": "stderr",
     "output_type": "stream",
     "text": [
      " /home/summer2022/miniconda3/envs/env-00/lib/python3.10/site-packages/probml_utils/plotting.py:69: UserWarning:renaming figures/motorhelmet/Calibration_GMLP Deep Ensemble.pdf to figures/motorhelmet/Calibration_GMLP Deep Ensemble_latexified.pdf because LATEXIFY is True\n"
     ]
    },
    {
     "name": "stdout",
     "output_type": "stream",
     "text": [
      "saving image to figures/motorhelmet/Calibration_GMLP Deep Ensemble_latexified.pdf\n",
      "Figure size: [2.5 2. ]\n"
     ]
    },
    {
     "data": {
      "image/png": "[encoded data removed]",
      "text/plain": [
       "<Figure size 180x144 with 1 Axes>"
      ]
     },
     "metadata": {
      "needs_background": "light"
     },
     "output_type": "display_data"
    }
   ],
   "source": [
    "fig, ax = plt.subplots(1)\n",
    "_, df_train = plot.calibration_regression(\n",
    "    de_mean_train, de_sigma_train, y_train, \"Train\", \"black\", ax\n",
    ")\n",
    "ax.set_title(f\"Train {errors.ace(df_train):.2f} \")\n",
    "\n",
    "savefig('Calibration_GMLP Deep Ensemble.pdf')"
   ]
  },
  {
   "cell_type": "code",
   "execution_count": 35,
   "metadata": {},
   "outputs": [],
   "source": [
    "key = jax.random.PRNGKey(42)\n",
    "sigmaf = 1.0\n",
    "len_scale = 1.0\n",
    "kernel = GPy.kern.RBF(1, sigmaf, len_scale)"
   ]
  },
  {
   "cell_type": "code",
   "execution_count": 36,
   "metadata": {},
   "outputs": [
    {
     "data": {
      "application/vnd.jupyter.widget-view+json": {
       "model_id": "a266512c9df248ee9b76fd0f3fdb42aa",
       "version_major": 2,
       "version_minor": 0
      },
      "text/plain": [
       "HBox(children=(VBox(children=(IntProgress(value=0, max=1000), HTML(value=''))), Box(children=(HTML(value=''),)…"
      ]
     },
     "metadata": {},
     "output_type": "display_data"
    },
    {
     "name": "stdout",
     "output_type": "stream",
     "text": [
      "Optimization restart 1/5, f = 72.61568450927734\n",
      "Optimization restart 2/5, f = 72.61568450927734\n",
      "Optimization restart 3/5, f = 72.61569213867188\n",
      "Optimization restart 4/5, f = 72.61569213867188\n",
      "Optimization restart 5/5, f = 72.61569213867188\n"
     ]
    },
    {
     "data": {
      "text/plain": [
       "[<paramz.optimization.optimization.opt_lbfgsb at 0x7f3f701903a0>,\n",
       " <paramz.optimization.optimization.opt_lbfgsb at 0x7f3f302ff220>,\n",
       " <paramz.optimization.optimization.opt_lbfgsb at 0x7f3ef4768520>,\n",
       " <paramz.optimization.optimization.opt_lbfgsb at 0x7f3f1c3630d0>,\n",
       " <paramz.optimization.optimization.opt_lbfgsb at 0x7f3f302ff3d0>,\n",
       " <paramz.optimization.optimization.opt_lbfgsb at 0x7f3f3032dc90>]"
      ]
     },
     "execution_count": 36,
     "metadata": {},
     "output_type": "execute_result"
    }
   ],
   "source": [
    "# %%capture\n",
    "model_gp = GPy.models.GPRegression(x_train, y_train, kernel, normalizer=False)\n",
    "model_gp.Gaussian_noise = 1.0\n",
    "model_gp.optimize(messages=True)\n",
    "model_gp.optimize_restarts(num_restarts=5)"
   ]
  },
  {
   "cell_type": "code",
   "execution_count": 37,
   "metadata": {},
   "outputs": [
    {
     "name": "stderr",
     "output_type": "stream",
     "text": [
      " /home/summer2022/miniconda3/envs/env-00/lib/python3.10/site-packages/jax/_src/numpy/lax_numpy.py:4459: UserWarning:Explicitly requested dtype float requested in astype is not available, and will be truncated to dtype float32. To enable more dtypes, set the jax_enable_x64 configuration option or the JAX_ENABLE_X64 shell environment variable. See https://github.com/google/jax#current-gotchas for more.\n"
     ]
    }
   ],
   "source": [
    "# %%capture\n",
    "mu_gp, cov_gp = model_gp.predict(x_linspace_test)\n",
    "mu_gp_train, cov_gp_train = model_gp.predict(x_train)\n",
    "# mu_gp_test, cov_gp_test = model_gp.predict(x_test)\n",
    "mu_gp = mu_gp.reshape(n_points)\n",
    "sigma_gp = jnp.sqrt(cov_gp).reshape(n_points)"
   ]
  },
  {
   "cell_type": "code",
   "execution_count": 38,
   "metadata": {},
   "outputs": [
    {
     "name": "stderr",
     "output_type": "stream",
     "text": [
      " /home/summer2022/miniconda3/envs/env-00/lib/python3.10/site-packages/probml_utils/plotting.py:69: UserWarning:renaming figures/motorhelmet/calibraion_gp.pdf to figures/motorhelmet/calibraion_gp_latexified.pdf because LATEXIFY is True\n"
     ]
    },
    {
     "name": "stdout",
     "output_type": "stream",
     "text": [
      "saving image to figures/motorhelmet/calibraion_gp_latexified.pdf\n",
      "Figure size: [2.5 2. ]\n"
     ]
    },
    {
     "data": {
      "image/png": "[encoded data removed]",
      "text/plain": [
       "<Figure size 180x144 with 1 Axes>"
      ]
     },
     "metadata": {
      "needs_background": "light"
     },
     "output_type": "display_data"
    }
   ],
   "source": [
    "fig, ax = plt.subplots(1)\n",
    "_, df_train = plot.calibration_regression(\n",
    "    mu_gp_train.reshape(-1),\n",
    "    jnp.sqrt(cov_gp_train).reshape(-1),\n",
    "    y_train,\n",
    "    \"Train\",\n",
    "    'black',\n",
    "    ax=ax,\n",
    ")\n",
    "ax.set_title(f\"Train {errors.ace(df_train):.2f} \")\n",
    "savefig('calibraion_gp.pdf')"
   ]
  },
  {
   "cell_type": "code",
   "execution_count": 39,
   "metadata": {},
   "outputs": [
    {
     "name": "stderr",
     "output_type": "stream",
     "text": [
      " /home/summer2022/miniconda3/envs/env-00/lib/python3.10/site-packages/probml_utils/plotting.py:69: UserWarning:renaming figures/motorhelmet/GP.pdf to figures/motorhelmet/GP_latexified.pdf because LATEXIFY is True\n"
     ]
    },
    {
     "name": "stdout",
     "output_type": "stream",
     "text": [
      "saving image to figures/motorhelmet/GP_latexified.pdf\n",
      "Figure size: [2.5 2. ]\n"
     ]
    },
    {
     "data": {
      "image/png": "[encoded data removed]",
      "text/plain": [
       "<Figure size 180x144 with 1 Axes>"
      ]
     },
     "metadata": {
      "needs_background": "light"
     },
     "output_type": "display_data"
    }
   ],
   "source": [
    "ax=plot.plot_prediction_regression_without_test(x_train,y_train,x_linspace_test,mu_gp,sigma_gp,y_min=-3,y_max=3\n",
    ",title=f\"Train {errors.loss( mu_gp_train.reshape(-1),    jnp.sqrt(cov_gp_train).reshape(-1),y_train):.2f}\")\n",
    "ax.set_xlim(-4,4)\n",
    "savefig('GP.pdf')\n"
   ]
  },
  {
   "cell_type": "code",
   "execution_count": 40,
   "metadata": {},
   "outputs": [
    {
     "data": {
      "text/plain": [
       "DeviceArray(-560.6869, dtype=float32)"
      ]
     },
     "execution_count": 40,
     "metadata": {},
     "output_type": "execute_result"
    }
   ],
   "source": [
    "def bnn_log_joint(params, X, y, model):\n",
    "    mean, sigma = model.apply(params, X, deterministic=True)\n",
    "\n",
    "    flatten_params, _ = ravel_pytree(params)\n",
    "    log_prior = tfd.Normal(0.0, 2.0).log_prob(flatten_params).sum()\n",
    "    # log_likelihood = tfd.Bernoulli(logits=logits).log_prob(y).sum()\n",
    "    log_likelihood = tfd.Normal(mean, sigma).log_prob(y.reshape((-1,))).sum()\n",
    "    log_joint = log_prior + log_likelihood\n",
    "    return log_joint\n",
    "\n",
    "\n",
    "bnn_log_joint_partial = partial(bnn_log_joint, X=x_train, y=y_train, model=gmlp_model)\n",
    "bnn_log_joint_partial(params)"
   ]
  },
  {
   "cell_type": "code",
   "execution_count": 41,
   "metadata": {},
   "outputs": [],
   "source": [
    "num_warmup = 3000\n",
    "potential = bnn_log_joint_partial\n",
    "key = jax.random.PRNGKey(314)\n",
    "key_samples, key_init, key_warmup, key = jax.random.split(key, 4)\n",
    "adapt = blackjax.window_adaptation(blackjax.nuts, potential, num_warmup)\n",
    "final_state, kernel, _ = adapt.run(key_warmup, params)\n",
    "num_samples = 1000\n",
    "states, infos = inference_loop(key_samples, kernel, final_state, num_samples)"
   ]
  },
  {
   "cell_type": "code",
   "execution_count": 42,
   "metadata": {},
   "outputs": [],
   "source": [
    "def x_one_step(x):\n",
    "    def one_step(carry, state):\n",
    "        params_cur = state.position\n",
    "        mean, sigma = gmlp_model.apply(params_cur, x, deterministic=True)\n",
    "        return carry, (mean, sigma)\n",
    "    return one_step\n",
    "\n",
    "one_step_lin = x_one_step(x_linspace_test)\n",
    "one_step_train = x_one_step(x_train)\n",
    "_, (mean_stacks, sigma_stacks) = jax.lax.scan(one_step_lin, None, states)\n",
    "_, (mean_stacks_train, sigma_stacks_train) = jax.lax.scan(one_step_train, None, states)"
   ]
  },
  {
   "cell_type": "code",
   "execution_count": 43,
   "metadata": {},
   "outputs": [],
   "source": [
    "mean_mcmc, sigma_mcmc = gmm_mean_var(mean_stacks, sigma_stacks)\n",
    "mean_mcmc_train, sigma_mcmc_train = gmm_mean_var(mean_stacks_train, sigma_stacks_train)"
   ]
  },
  {
   "cell_type": "code",
   "execution_count": 46,
   "metadata": {},
   "outputs": [
    {
     "name": "stderr",
     "output_type": "stream",
     "text": [
      " /home/summer2022/miniconda3/envs/env-00/lib/python3.10/site-packages/probml_utils/plotting.py:69: UserWarning:renaming figures/motorhelmet/MCMC_calibration.pdf to figures/motorhelmet/MCMC_calibration_latexified.pdf because LATEXIFY is True\n"
     ]
    },
    {
     "name": "stdout",
     "output_type": "stream",
     "text": [
      "saving image to figures/motorhelmet/MCMC_calibration_latexified.pdf\n",
      "Figure size: [2.5 2. ]\n"
     ]
    },
    {
     "data": {
      "image/png": "[encoded data removed]",
      "text/plain": [
       "<Figure size 180x144 with 1 Axes>"
      ]
     },
     "metadata": {
      "needs_background": "light"
     },
     "output_type": "display_data"
    }
   ],
   "source": [
    "fig, ax = plt.subplots(1)\n",
    "_, df_train = plot.calibration_regression(\n",
    "    mean_mcmc_train, sigma_mcmc_train, y_train, \"Train\", \"black\", ax\n",
    ")\n",
    "ax.set_title(f\"Train {errors.ace(df_train):.2f}\")\n",
    "savefig('MCMC_calibration.pdf')"
   ]
  },
  {
   "cell_type": "code",
   "execution_count": 47,
   "metadata": {},
   "outputs": [
    {
     "name": "stdout",
     "output_type": "stream",
     "text": [
      "saving image to figures/motorhelmet/MCMC_latexified.pdf\n",
      "Figure size: [2.5 2. ]\n"
     ]
    },
    {
     "name": "stderr",
     "output_type": "stream",
     "text": [
      " /home/summer2022/miniconda3/envs/env-00/lib/python3.10/site-packages/probml_utils/plotting.py:69: UserWarning:renaming figures/motorhelmet/MCMC.pdf to figures/motorhelmet/MCMC_latexified.pdf because LATEXIFY is True\n"
     ]
    },
    {
     "data": {
      "image/png": "[encoded data removed]",
      "text/plain": [
       "<Figure size 180x144 with 1 Axes>"
      ]
     },
     "metadata": {
      "needs_background": "light"
     },
     "output_type": "display_data"
    }
   ],
   "source": [
    "ax =plot.plot_prediction_regression_without_test(x_train,y_train,x_linspace_test,mean_mcmc,sigma_mcmc,y_min=-3,y_max=3,\n",
    "title=f\"Train {errors.loss(mean_mcmc_train, sigma_mcmc_train,y_train):.2f}\")\n",
    "ax.set_xlim(-4,4)\n",
    "savefig('MCMC.pdf')"
   ]
  },
  {
   "cell_type": "markdown",
   "metadata": {},
   "source": [
    "## VI"
   ]
  },
  {
   "cell_type": "code",
   "execution_count": 25,
   "metadata": {},
   "outputs": [],
   "source": [
    "from utilities.vi_helper import vi_model,vi_predict\n",
    "params =  [[16,16,1],[nn.relu]*2]\n",
    "\n",
    "mlp_model_vi, vi_model, results = vi_model(params,x_train, y_train.flatten())\n",
    "\n",
    "mean_vi = vi_predict(vi_model, results,mlp_model_vi,x_linspace_test).mean(axis = 0)\n",
    "sigma_vi = vi_predict(vi_model, results,mlp_model_vi,x_linspace_test).std(axis = 0)\n",
    "mean_vi_train = vi_predict(vi_model, results,mlp_model_vi,x_train).mean(axis = 0)\n",
    "sigma_vi_train = vi_predict(vi_model, results,mlp_model_vi,x_train).std(axis = 0)"
   ]
  },
  {
   "cell_type": "code",
   "execution_count": 26,
   "metadata": {},
   "outputs": [
    {
     "name": "stderr",
     "output_type": "stream",
     "text": [
      " /home/shobro/anaconda3/lib/python3.7/site-packages/probml_utils/plotting.py:70: UserWarning:renaming figures/motorhelmet/MLP_VI.pdf to figures/motorhelmet/MLP_VI_latexified.pdf because LATEXIFY is True\n"
     ]
    },
    {
     "name": "stdout",
     "output_type": "stream",
     "text": [
      "saving image to figures/motorhelmet/MLP_VI_latexified.pdf\n",
      "Figure size: [2.5 2. ]\n"
     ]
    },
    {
     "data": {
      "image/png": "[encoded data removed]",
      "text/plain": [
       "<Figure size 180x144 with 1 Axes>"
      ]
     },
     "metadata": {
      "needs_background": "light"
     },
     "output_type": "display_data"
    }
   ],
   "source": [
    "train_loss = errors.loss(mean_vi_train, sigma_vi_train, y_train)\n",
    "\n",
    "ax =plot.plot_prediction_regression_without_test(x_train,y_train,x_linspace_test,mean_vi,sigma_vi,y_min=-3,y_max=3,\n",
    "title=f\"Train {errors.loss(mean_vi_train, sigma_vi_train,y_train):.2f}\")\n",
    "ax.set_xlim(-4,4)\n",
    "savefig(\"MLP_VI.pdf\")"
   ]
  },
  {
   "cell_type": "code",
   "execution_count": 27,
   "metadata": {},
   "outputs": [
    {
     "name": "stderr",
     "output_type": "stream",
     "text": [
      " /home/shobro/anaconda3/lib/python3.7/site-packages/probml_utils/plotting.py:70: UserWarning:renaming figures/motorhelmet/Calibration_VI.pdf to figures/motorhelmet/Calibration_VI_latexified.pdf because LATEXIFY is True\n"
     ]
    },
    {
     "name": "stdout",
     "output_type": "stream",
     "text": [
      "saving image to figures/motorhelmet/Calibration_VI_latexified.pdf\n",
      "Figure size: [2.5 2. ]\n"
     ]
    },
    {
     "data": {
      "image/png": "[encoded data removed]",
      "text/plain": [
       "<Figure size 180x144 with 1 Axes>"
      ]
     },
     "metadata": {
      "needs_background": "light"
     },
     "output_type": "display_data"
    }
   ],
   "source": [
    "fig, ax = plt.subplots(1)\n",
    "_, df_train = plot.calibration_regression(\n",
    "    mean_vi_train, sigma_vi_train, y_train, \"Train\", \"black\", ax\n",
    ")\n",
    "ax.set_title(f\"Train {errors.ace(df_train):.2f}\")\n",
    "k = jnp.arange(0, 1.1, 0.1)\n",
    "ax.plot(k,k,label='Ideal',color='Green')\n",
    "savefig('Calibration_VI.pdf')"
   ]
  },
  {
   "cell_type": "code",
   "execution_count": null,
   "metadata": {},
   "outputs": [],
   "source": []
  }
 ],
 "metadata": {
  "kernelspec": {
   "display_name": "Python 3.10.4 ('env-00')",
   "language": "python",
   "name": "python3"
  },
  "language_info": {
   "codemirror_mode": {
    "name": "ipython",
    "version": 3
   },
   "file_extension": ".py",
   "mimetype": "text/x-python",
   "name": "python",
   "nbconvert_exporter": "python",
   "pygments_lexer": "ipython3",
   "version": "3.7.13"
  },
  "vscode": {
   "interpreter": {
    "hash": "d1d8c77f09ee36b52e36a2a0ca7bf206edbe012965f6b1f404f5b7dde400380a"
   }
  }
 },
 "nbformat": 4,
 "nbformat_minor": 2
}
