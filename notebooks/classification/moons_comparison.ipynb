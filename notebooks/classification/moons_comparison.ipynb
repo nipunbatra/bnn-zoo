{
  "cells": [
    {
      "cell_type": "code",
      "execution_count": 2,
      "id": "09f9cd8d",
      "metadata": {
        "id": "09f9cd8d"
      },
      "outputs": [],
      "source": [
        "import os\n",
        "os.chdir('../../')"
      ]
    },
    {
      "cell_type": "code",
      "execution_count": 3,
      "id": "a04bafa3",
      "metadata": {
        "id": "a04bafa3",
        "outputId": "3eb21d93-892a-46b6-cd63-232bf8cd04b7"
      },
      "outputs": [
        {
          "name": "stderr",
          "output_type": "stream",
          "text": [
            "WARNING:absl:No GPU/TPU found, falling back to CPU. (Set TF_CPP_MIN_LOG_LEVEL=0 and rerun for more info.)\n",
            "2022-07-22 21:46:56.676303: W tensorflow/stream_executor/platform/default/dso_loader.cc:64] Could not load dynamic library 'libcudart.so.11.0'; dlerror: libcudart.so.11.0: cannot open shared object file: No such file or directory\n"
          ]
        }
      ],
      "source": [
        "import jax\n",
        "import jax.numpy as jnp\n",
        "import matplotlib.pyplot as plt\n",
        "import seaborn as sns\n",
        "import sklearn.datasets as datasets\n",
        "from models import cmlp\n",
        "from utilities import fits\n",
        "from flax import linen as nn\n",
        "from sklearn.model_selection import train_test_split\n",
        "from sklearn.metrics import brier_score_loss\n",
        "from utilities.plot import plot_binary_class,plot_caliberation_classification\n",
        "import tensorflow_probability.substrates.jax as tfp\n",
        "tfd = tfp.distributions\n",
        "from functools import partial\n",
        "from jax.flatten_util import ravel_pytree\n",
        "import blackjax\n",
        "import probml_utils as pml\n",
        "from probml_utils.blackjax_utils import inference_loop\n",
        "from sklearn.calibration import calibration_curve,CalibrationDisplay\n",
        "import logging\n",
        "logger = logging.getLogger()\n",
        "class CheckTypesFilter(logging.Filter):\n",
        "    def filter(self, record):\n",
        "        return \"check_types\" not in record.getMessage()\n",
        "logger.addFilter(CheckTypesFilter())\n",
        "from jax.random import PRNGKey as rng_key"
      ]
    },
    {
      "cell_type": "code",
      "execution_count": 4,
      "id": "d38898e7",
      "metadata": {},
      "outputs": [],
      "source": [
        "os.environ['LATEXIFY'] = ''\n",
        "os.environ['FIG_DIR'] = '.'"
      ]
    },
    {
      "cell_type": "code",
      "execution_count": 5,
      "id": "dfac2ffd",
      "metadata": {},
      "outputs": [],
      "source": [
        "pml.latexify(width_scale_factor=2.4,fig_height=2)"
      ]
    },
    {
      "cell_type": "markdown",
      "id": "05a21f51",
      "metadata": {
        "id": "05a21f51"
      },
      "source": [
        "# Dataset Visualization"
      ]
    },
    {
      "cell_type": "code",
      "execution_count": 6,
      "id": "9d60856d",
      "metadata": {
        "id": "9d60856d"
      },
      "outputs": [],
      "source": [
        "X,Y =  datasets.make_moons(1000, noise=0.20,random_state=6)"
      ]
    },
    {
      "cell_type": "code",
      "execution_count": 7,
      "id": "b4b6a30e",
      "metadata": {
        "id": "b4b6a30e",
        "outputId": "d73b39a3-0164-420b-a65c-b3c17f4b65a5"
      },
      "outputs": [],
      "source": [
        "plt.scatter(X[:,0],X[:,1],c=Y,cmap=\"bwr\")\n",
        "sns.despine()"
      ]
    },
    {
      "cell_type": "code",
      "execution_count": 8,
      "id": "f8a2ffec",
      "metadata": {},
      "outputs": [],
      "source": [
        "X_ood = tfd.MultivariateNormalDiag([-1,-2],[0.2,0.2]).sample(seed =rng_key(0),sample_shape=50 )"
      ]
    },
    {
      "cell_type": "code",
      "execution_count": 9,
      "id": "d161bf52",
      "metadata": {},
      "outputs": [],
      "source": [
        "plt.scatter(X[:,0],X[:,1],c=Y,cmap=\"bwr\")\n",
        "plt.scatter(*X_ood.T,c='c')\n",
        "sns.despine()"
      ]
    },
    {
      "cell_type": "code",
      "execution_count": 10,
      "id": "8b26cc39",
      "metadata": {
        "id": "8b26cc39"
      },
      "outputs": [],
      "source": [
        "h=0.05\n",
        "x_min, x_max = X[:, 0].min() - 1, X[:, 0].max() + 2\n",
        "y_min, y_max = X[:, 1].min() - 2, X[:, 1].max() + 1\n",
        "xx, yy = jnp.meshgrid(jnp.arange(x_min, x_max, h),\n",
        "                     jnp.arange(y_min, y_max, h))"
      ]
    },
    {
      "cell_type": "code",
      "execution_count": 11,
      "id": "5671232b",
      "metadata": {
        "id": "5671232b",
        "outputId": "dfa140ba-8f49-4956-b6ac-df733f4a9da8"
      },
      "outputs": [
        {
          "data": {
            "text/plain": [
              "(112, 136)"
            ]
          },
          "execution_count": 11,
          "metadata": {},
          "output_type": "execute_result"
        }
      ],
      "source": [
        "xx.shape"
      ]
    },
    {
      "cell_type": "code",
      "execution_count": 12,
      "id": "32d2a5a3",
      "metadata": {
        "id": "32d2a5a3"
      },
      "outputs": [],
      "source": [
        "X_train, X_test, y_train, y_test = train_test_split(X, Y, test_size=0.5, random_state=45)"
      ]
    },
    {
      "cell_type": "code",
      "execution_count": 13,
      "id": "5eb2c4e1",
      "metadata": {
        "id": "5eb2c4e1"
      },
      "outputs": [],
      "source": [
        "X_train = jnp.array(X_train)\n",
        "X_test = jnp.array(X_test)\n",
        "y_train = jnp.array(y_train)\n",
        "y_test = jnp.array(y_test)\n"
      ]
    },
    {
      "cell_type": "markdown",
      "id": "fdade465",
      "metadata": {
        "id": "fdade465"
      },
      "source": [
        "# Single MLP"
      ]
    },
    {
      "cell_type": "code",
      "execution_count": 28,
      "id": "b07b08d1",
      "metadata": {
        "id": "b07b08d1"
      },
      "outputs": [],
      "source": [
        "model = cmlp.cmlp([8,16,16,8,1],[nn.relu,nn.relu,nn.relu,nn.relu],[0.03]*4)"
      ]
    },
    {
      "cell_type": "code",
      "execution_count": 29,
      "id": "aed78874",
      "metadata": {
        "id": "aed78874"
      },
      "outputs": [],
      "source": [
        "auxs = {\n",
        "    \"X\" : X_train,\n",
        "    \"y\" : y_train,\n",
        "    \"deterministic\": True,\n",
        "}"
      ]
    },
    {
      "cell_type": "markdown",
      "id": "aec1273e",
      "metadata": {
        "id": "aec1273e"
      },
      "source": [
        "## Train"
      ]
    },
    {
      "cell_type": "code",
      "execution_count": 30,
      "id": "e3d4eaca",
      "metadata": {
        "id": "e3d4eaca"
      },
      "outputs": [],
      "source": [
        "seed=0\n",
        "params = model.init(jax.random.PRNGKey(seed), X_train, deterministic = True)\n",
        "params, loss =  fits.fit(model, params,X_train,y_train,True,learning_rate=0.01, epochs=1000,batch_size=64)"
      ]
    },
    {
      "cell_type": "code",
      "execution_count": 31,
      "id": "681cd823",
      "metadata": {
        "id": "681cd823",
        "outputId": "98fc2acb-6e77-48c5-fd21-b472462e5774"
      },
      "outputs": [],
      "source": [
        "plt.plot(jnp.arange(0,loss.shape[0],1),loss)\n",
        "sns.despine()"
      ]
    },
    {
      "cell_type": "code",
      "execution_count": 48,
      "id": "1e551a93",
      "metadata": {},
      "outputs": [],
      "source": [
        "def plot_caliberation_classification(pred_train,pred_test,title,y_train,y_test,legend=0):\n",
        "    fig,ax1 = plt.subplots(1,1)\n",
        "    prob_true_train,prob_pred_train = calibration_curve(y_train,pred_train,n_bins=5)\n",
        "    prob_true_test,prob_pred_test = calibration_curve(y_test,pred_test)\n",
        "\n",
        "    disp_train = CalibrationDisplay(prob_true_train,prob_pred_train,pred_train,estimator_name=\"Train\")\n",
        "    disp_test = CalibrationDisplay(prob_true_test,prob_pred_test,pred_test,estimator_name=\"Test\",)\n",
        "    disp_train.plot(ax=ax1)\n",
        "    disp_test.plot(ax=ax1)\n",
        "    handles,labels = ax1.get_legend_handles_labels()\n",
        "    labels[0] = 'Ideal'\n",
        "    sns.despine(ax=ax1)\n",
        "\n",
        "    ax1.legend(handles,labels,loc=legend)\n",
        "    ax1.set_title(title)"
      ]
    },
    {
      "cell_type": "code",
      "execution_count": 33,
      "id": "e3a3d1ba",
      "metadata": {
        "id": "e3a3d1ba"
      },
      "outputs": [],
      "source": [
        "y_pred_train = model.apply(params, X_train, deterministic=True)\n",
        "y_pred_test = model.apply(params, X_test, deterministic=True)"
      ]
    },
    {
      "cell_type": "code",
      "execution_count": 49,
      "id": "60f0d68c",
      "metadata": {},
      "outputs": [],
      "source": [
        "plot_caliberation_classification = partial(plot_caliberation_classification,y_train=y_train,y_test=y_test)"
      ]
    },
    {
      "cell_type": "code",
      "execution_count": 35,
      "id": "4b59aa2a",
      "metadata": {
        "id": "4b59aa2a",
        "outputId": "0c77c0b9-5849-4655-8f7f-a2a4c2fba127"
      },
      "outputs": [
        {
          "name": "stdout",
          "output_type": "stream",
          "text": [
            "saving image to ./figures/MLP_caliberation_latexified.pdf\n",
            "Figure size: [2.5 2. ]\n"
          ]
        },
        {
          "name": "stderr",
          "output_type": "stream",
          "text": [
            "/home/anand/Desktop/ML/probml-utils/probml_utils/plotting.py:70: UserWarning: renaming ./figures/MLP_caliberation.pdf to ./figures/MLP_caliberation_latexified.pdf because LATEXIFY is True\n",
            "  f\"renaming {fname_full} to {fname}{extention} because LATEXIFY is {LATEXIFY}\",\n"
          ]
        }
      ],
      "source": [
        "mlp_pred_train = model.apply(params,X_train,deterministic=True).reshape(y_train.shape)\n",
        "mlp_pred_test = model.apply(params,X_test,deterministic=True).reshape(y_test.shape)\n",
        "plot_caliberation_classification(mlp_pred_train,mlp_pred_test,title=\"\")\n",
        "pml.savefig(\"figures/MLP_caliberation.pdf\")"
      ]
    },
    {
      "cell_type": "code",
      "execution_count": 36,
      "id": "ae05ec2a",
      "metadata": {
        "id": "ae05ec2a",
        "outputId": "b287a0f9-4568-4387-c634-d25e04386642"
      },
      "outputs": [
        {
          "name": "stderr",
          "output_type": "stream",
          "text": [
            "/home/anand/Desktop/ML/probml-utils/probml_utils/plotting.py:70: UserWarning: renaming ./figures/mlp_moons.pdf to ./figures/mlp_moons_latexified.pdf because LATEXIFY is True\n",
            "  f\"renaming {fname_full} to {fname}{extention} because LATEXIFY is {LATEXIFY}\",\n"
          ]
        },
        {
          "name": "stdout",
          "output_type": "stream",
          "text": [
            "saving image to ./figures/mlp_moons_latexified.pdf\n",
            "Figure size: [2.5 2. ]\n"
          ]
        }
      ],
      "source": [
        "p =model.apply(params,jnp.c_[xx.ravel(), yy.ravel()],deterministic=True).reshape(xx.shape)\n",
        "var = p*(1-p).reshape(xx.shape)\n",
        "\n",
        "plot_binary_class(X,Y,X_ood,xx,yy,p,titles=(\"Probability with Single MLP\",\"Variance with Single MLP\"),legend=True,color_bar=True)\n",
        "pml.savefig(\"figures/mlp_moons.pdf\",tight_bbox=False)\n",
        "#pml.savefig(\"MLP_moons.pdf\")"
      ]
    },
    {
      "cell_type": "markdown",
      "id": "6cb16908",
      "metadata": {
        "id": "6cb16908"
      },
      "source": [
        "# Deep Ensemble"
      ]
    },
    {
      "cell_type": "code",
      "execution_count": 37,
      "id": "e5b21113",
      "metadata": {
        "id": "e5b21113"
      },
      "outputs": [],
      "source": [
        "params_lst= []\n",
        "loss_lst =[]\n",
        "for i in range(5):\n",
        "    params =  model.init(jax.random.PRNGKey(i),X,deterministic=True)\n",
        "    params,loss = fits.fit(model, params,X_train,y_train,True,learning_rate=0.01, epochs=100)\n",
        "    params_lst.append(params)\n",
        "    loss_lst.append(loss)"
      ]
    },
    {
      "cell_type": "code",
      "execution_count": 38,
      "id": "400960b5",
      "metadata": {
        "id": "400960b5"
      },
      "outputs": [],
      "source": [
        "p_de_train_ensemble = []\n",
        "p_de_test_ensemble = []\n",
        "\n",
        "for i in range(5):\n",
        "    params = params_lst[i]\n",
        "    p =model.apply(params,X_train,deterministic=True)\n",
        "    p_de_train_ensemble.append(p)\n",
        "    p =model.apply(params,X_test,deterministic=True)\n",
        "    p_de_test_ensemble.append(p)\n",
        "ensemble_pred_train = jnp.array(p_de_train_ensemble).mean(axis=0).reshape(y_train.shape)\n",
        "ensemble_pred_test= jnp.array(p_de_test_ensemble).mean(axis=0).reshape(y_test.shape)"
      ]
    },
    {
      "cell_type": "code",
      "execution_count": 39,
      "id": "0da49735",
      "metadata": {
        "id": "0da49735",
        "outputId": "6babc2e7-fc65-460a-edc5-eb71fad11ba0"
      },
      "outputs": [
        {
          "name": "stderr",
          "output_type": "stream",
          "text": [
            "/home/anand/Desktop/ML/probml-utils/probml_utils/plotting.py:70: UserWarning: renaming ./figures/Deep Ensemble caliberation.pdf to ./figures/Deep Ensemble caliberation_latexified.pdf because LATEXIFY is True\n",
            "  f\"renaming {fname_full} to {fname}{extention} because LATEXIFY is {LATEXIFY}\",\n"
          ]
        },
        {
          "name": "stdout",
          "output_type": "stream",
          "text": [
            "saving image to ./figures/Deep Ensemble caliberation_latexified.pdf\n",
            "Figure size: [2.5 2. ]\n"
          ]
        }
      ],
      "source": [
        "plot_caliberation_classification(ensemble_pred_train,ensemble_pred_test,title=\"\",legend=0)\n",
        "pml.savefig(\"figures/Deep Ensemble caliberation.pdf\")"
      ]
    },
    {
      "cell_type": "code",
      "execution_count": 40,
      "id": "aee7f59b",
      "metadata": {
        "id": "aee7f59b"
      },
      "outputs": [],
      "source": [
        "p_grid_ensemble = []\n",
        "\n",
        "for i in range(5):\n",
        "    params = params_lst[i]\n",
        "    p =  model.apply(params,jnp.c_[xx.ravel(), yy.ravel()],deterministic=True).reshape(xx.shape)\n",
        "    p_grid_ensemble.append(p)\n",
        "ensemble_p_mean = jnp.array(p_grid_ensemble).mean(axis=0)\n",
        "# ensemble_p_sigma =  jnp.array(p_grid_ensemble).std(axis=0)\n",
        "ensemble_p_sigma = jnp.sqrt(ensemble_p_mean*(1-ensemble_p_mean))\n"
      ]
    },
    {
      "cell_type": "code",
      "execution_count": 41,
      "id": "7bf76592",
      "metadata": {
        "id": "7bf76592",
        "outputId": "3a3f2a3e-fdce-4f4a-ab2e-ce9aa6669a44"
      },
      "outputs": [
        {
          "name": "stderr",
          "output_type": "stream",
          "text": [
            "/home/anand/Desktop/ML/probml-utils/probml_utils/plotting.py:70: UserWarning: renaming ./figures/Deep Ensemble Moons.pdf to ./figures/Deep Ensemble Moons_latexified.pdf because LATEXIFY is True\n",
            "  f\"renaming {fname_full} to {fname}{extention} because LATEXIFY is {LATEXIFY}\",\n"
          ]
        },
        {
          "name": "stdout",
          "output_type": "stream",
          "text": [
            "saving image to ./figures/Deep Ensemble Moons_latexified.pdf\n",
            "Figure size: [2.5 2. ]\n"
          ]
        }
      ],
      "source": [
        "plot_binary_class(X,Y,X_ood,xx,yy,ensemble_p_mean,titles=(\"Probability with Deep ensemble\",\"Variance with Deep Ensemble\"),legend=False)\n",
        "pml.savefig(\"figures/Deep Ensemble Moons.pdf\")"
      ]
    },
    {
      "cell_type": "markdown",
      "id": "ef637b49",
      "metadata": {
        "id": "ef637b49"
      },
      "source": [
        "### MC Dropout"
      ]
    },
    {
      "cell_type": "code",
      "execution_count": 42,
      "id": "0c15f4d8",
      "metadata": {
        "id": "0c15f4d8"
      },
      "outputs": [],
      "source": [
        "y_stacks = []\n",
        "\n",
        "@jax.jit\n",
        "def func(params, i):\n",
        "    z = model.apply(params, jnp.c_[xx.ravel(), yy.ravel()], deterministic=False, \n",
        "                    rngs={\"dropout\": jax.random.PRNGKey(i)}).reshape(xx.shape)\n",
        "    return z\n",
        "y_stacks = jax.vmap(fun=func, in_axes=(None, 0))(params, jnp.arange(50))"
      ]
    },
    {
      "cell_type": "code",
      "execution_count": 43,
      "id": "109c3106",
      "metadata": {
        "id": "109c3106"
      },
      "outputs": [],
      "source": [
        "mc_pred_mean= jnp.array(y_stacks).mean(axis=0).reshape(xx.shape)\n",
        "mc_pred_sigma = (jnp.array(y_stacks).std(axis=0)).reshape(yy.shape)"
      ]
    },
    {
      "cell_type": "code",
      "execution_count": 44,
      "id": "76329a22",
      "metadata": {
        "id": "76329a22",
        "outputId": "d37cbec7-e78c-4946-be7f-c87ea962c58f"
      },
      "outputs": [
        {
          "name": "stderr",
          "output_type": "stream",
          "text": [
            "/home/anand/Desktop/ML/probml-utils/probml_utils/plotting.py:70: UserWarning: renaming ./figures/MC Dropout Moons.pdf to ./figures/MC Dropout Moons_latexified.pdf because LATEXIFY is True\n",
            "  f\"renaming {fname_full} to {fname}{extention} because LATEXIFY is {LATEXIFY}\",\n"
          ]
        },
        {
          "name": "stdout",
          "output_type": "stream",
          "text": [
            "saving image to ./figures/MC Dropout Moons_latexified.pdf\n",
            "Figure size: [2.5 2. ]\n"
          ]
        }
      ],
      "source": [
        "plot_binary_class(X,Y,X_ood,xx,yy,mc_pred_mean,titles=(\"Probability with MC Droput\",\"Variance with MC Dropout\"))\n",
        "pml.savefig(\"figures/MC Dropout Moons.pdf\")"
      ]
    },
    {
      "cell_type": "code",
      "execution_count": 45,
      "id": "c44daedd",
      "metadata": {
        "id": "c44daedd"
      },
      "outputs": [],
      "source": [
        "y_stacks_train = []\n",
        "y_stacks_test = []\n",
        "\n",
        "\n",
        "def create_apply_func(X_test):\n",
        "    def func(params, i):\n",
        "        z = model.apply(params, X_test, deterministic=False, \n",
        "                        rngs={\"dropout\": jax.random.PRNGKey(i)})\n",
        "        return z\n",
        "    return func\n",
        "y_stacks_train = jax.vmap(fun=create_apply_func(X_train), in_axes=(None, 0))(params, jnp.arange(50))\n",
        "y_stacks_test = jax.vmap(fun=create_apply_func(X_test), in_axes=(None, 0))(params, jnp.arange(50))\n"
      ]
    },
    {
      "cell_type": "code",
      "execution_count": 46,
      "id": "e9664e8b",
      "metadata": {
        "id": "e9664e8b"
      },
      "outputs": [],
      "source": [
        "mc_pred_train = y_stacks_train.mean(axis=0)\n",
        "mc_pred_test = y_stacks_test.mean(axis=0)"
      ]
    },
    {
      "cell_type": "code",
      "execution_count": 47,
      "id": "36751c9f",
      "metadata": {
        "id": "36751c9f",
        "outputId": "d8f0de51-99bc-4de6-cda4-37be3c92cb40"
      },
      "outputs": [
        {
          "name": "stderr",
          "output_type": "stream",
          "text": [
            "/home/anand/Desktop/ML/probml-utils/probml_utils/plotting.py:70: UserWarning: renaming ./figures/MC_dropout_caliberation.pdf to ./figures/MC_dropout_caliberation_latexified.pdf because LATEXIFY is True\n",
            "  f\"renaming {fname_full} to {fname}{extention} because LATEXIFY is {LATEXIFY}\",\n"
          ]
        },
        {
          "name": "stdout",
          "output_type": "stream",
          "text": [
            "saving image to ./figures/MC_dropout_caliberation_latexified.pdf\n",
            "Figure size: [2.5 2. ]\n"
          ]
        }
      ],
      "source": [
        "plot_caliberation_classification(mc_pred_train,mc_pred_test,title='')\n",
        "pml.savefig(\"figures/MC_dropout_caliberation.pdf\")"
      ]
    },
    {
      "cell_type": "markdown",
      "id": "623c6bc3",
      "metadata": {
        "id": "623c6bc3"
      },
      "source": [
        "### Bootstrap"
      ]
    },
    {
      "cell_type": "code",
      "execution_count": 48,
      "id": "186d0f21",
      "metadata": {
        "id": "186d0f21"
      },
      "outputs": [],
      "source": [
        "num_bootstraps = 10\n",
        "params_list=[]\n",
        "loss_list=[]\n",
        "keys = jax.random.split(jax.random.PRNGKey(0),num_bootstraps)\n",
        "for i in range(num_bootstraps):\n",
        "    ids = jax.random.choice(keys[i], jnp.array(range(len(X_train))), (len(X_train),))\n",
        "    x, y = X_train[ids], y_train[ids]\n",
        "    params =  model.init(jax.random.PRNGKey(i),X_train,deterministic=True)\n",
        "    params,loss = fits.fit(model, params, x, y, True, batch_size=len(x), learning_rate=0.01, epochs=100)\n",
        "    params_list.append(params) \n",
        "    loss_list.append(loss)"
      ]
    },
    {
      "cell_type": "code",
      "execution_count": 49,
      "id": "f9e3304d",
      "metadata": {
        "id": "f9e3304d"
      },
      "outputs": [],
      "source": [
        "bs_train = []\n",
        "bs_test = []\n",
        "\n",
        "for i in range(num_bootstraps):\n",
        "    params = params_list[i]\n",
        "    b =model.apply(params,X_train,deterministic=True)\n",
        "    bs_train.append(b)\n",
        "    b =model.apply(params,X_test,deterministic=True)\n",
        "    bs_test.append(b)\n",
        "bootstrap_pred_train = jnp.array(bs_train).mean(axis=0).reshape(y_train.shape)\n",
        "bootstrap_pred_test= jnp.array(bs_test).mean(axis=0).reshape(y_test.shape)"
      ]
    },
    {
      "cell_type": "code",
      "execution_count": 50,
      "id": "3bdac644",
      "metadata": {
        "id": "3bdac644",
        "outputId": "816cb8b1-ee77-4864-ef1d-d3671338811c"
      },
      "outputs": [
        {
          "name": "stderr",
          "output_type": "stream",
          "text": [
            "/home/anand/Desktop/ML/probml-utils/probml_utils/plotting.py:70: UserWarning: renaming ./figures/Bootstrap caliberation.pdf to ./figures/Bootstrap caliberation_latexified.pdf because LATEXIFY is True\n",
            "  f\"renaming {fname_full} to {fname}{extention} because LATEXIFY is {LATEXIFY}\",\n"
          ]
        },
        {
          "name": "stdout",
          "output_type": "stream",
          "text": [
            "saving image to ./figures/Bootstrap caliberation_latexified.pdf\n",
            "Figure size: [2.5 2. ]\n"
          ]
        }
      ],
      "source": [
        "plot_caliberation_classification(bootstrap_pred_train,bootstrap_pred_test,title=\"\")\n",
        "pml.savefig(\"figures/Bootstrap caliberation.pdf\")"
      ]
    },
    {
      "cell_type": "code",
      "execution_count": 51,
      "id": "c531aec2",
      "metadata": {
        "id": "c531aec2"
      },
      "outputs": [],
      "source": [
        "bootstrap = []\n",
        "\n",
        "for i in range(num_bootstraps):\n",
        "    params = params_list[i]\n",
        "    b =  model.apply(params,jnp.c_[xx.ravel(), yy.ravel()],deterministic=True).reshape(xx.shape)\n",
        "    bootstrap.append(b)\n",
        "bootstrap_mean = jnp.array(bootstrap).mean(axis=0)\n",
        "bootstrap_sigma = jnp.sqrt(bootstrap_mean*(1-bootstrap_mean))"
      ]
    },
    {
      "cell_type": "code",
      "execution_count": 52,
      "id": "450f4d3c",
      "metadata": {
        "id": "450f4d3c",
        "outputId": "01b53873-1e0f-4d86-c94b-cbe3a6dd0f41"
      },
      "outputs": [
        {
          "name": "stderr",
          "output_type": "stream",
          "text": [
            "/home/anand/Desktop/ML/probml-utils/probml_utils/plotting.py:70: UserWarning: renaming ./figures/Bootstrap Moons.pdf to ./figures/Bootstrap Moons_latexified.pdf because LATEXIFY is True\n",
            "  f\"renaming {fname_full} to {fname}{extention} because LATEXIFY is {LATEXIFY}\",\n"
          ]
        },
        {
          "name": "stdout",
          "output_type": "stream",
          "text": [
            "saving image to ./figures/Bootstrap Moons_latexified.pdf\n",
            "Figure size: [2.5 2. ]\n"
          ]
        }
      ],
      "source": [
        "plot_binary_class(X,Y,X_ood,xx,yy,bootstrap_mean,titles=(\"Probability with Bootstrap\",\"Variance with Bootstrap\"))\n",
        "pml.savefig(\"figures/Bootstrap Moons.pdf\")"
      ]
    },
    {
      "cell_type": "markdown",
      "id": "2f150351",
      "metadata": {
        "id": "2f150351"
      },
      "source": [
        "# NUTS"
      ]
    },
    {
      "cell_type": "code",
      "execution_count": 53,
      "id": "a0fbd609",
      "metadata": {},
      "outputs": [],
      "source": [
        "params = model.init(jax.random.PRNGKey(seed), X_train, deterministic = True)\n"
      ]
    },
    {
      "cell_type": "code",
      "execution_count": 54,
      "id": "8bd2be36",
      "metadata": {},
      "outputs": [
        {
          "data": {
            "text/plain": [
              "DeviceArray(-922.1937, dtype=float32)"
            ]
          },
          "execution_count": 54,
          "metadata": {},
          "output_type": "execute_result"
        }
      ],
      "source": [
        "from jax import tree_map,tree_leaves\n",
        "def glorot_prior(param):\n",
        "    if(param.ndim==1):\n",
        "        return tfd.Normal(loc = jnp.zeros_like(param), scale = (1.414/jnp.sqrt(param.shape[0])) )\n",
        "    else:\n",
        "        return tfd.Normal(loc=jnp.zeros_like(param),scale=(1.414/jnp.sqrt(param.shape[0]+param.shape[1])))\n",
        "\n",
        "def one_prior(param):\n",
        "    if(param.ndim==1):\n",
        "        return tfd.Normal(loc = jnp.zeros_like(param), scale =1)\n",
        "    else:\n",
        "        return tfd.Normal(loc=jnp.zeros_like(param),scale=1)\n",
        "\n",
        "\n",
        "def set_prior(mean,scale,params):\n",
        "    priors = tree_map(one_prior,params)\n",
        "    return priors\n",
        "\n",
        "\n",
        "def eval_log(prior,param):\n",
        "    return prior.log_prob(param).sum()\n",
        "\n",
        "def eval_log_prior(params,priors):\n",
        "    is_leaf = lambda x: isinstance(x, tfd.Distribution)\n",
        "    # params_unfreezed = unfreeze(params)\n",
        "    log_priors = tree_map(eval_log,priors,params,is_leaf=is_leaf)\n",
        "    return jnp.array(tree_leaves(log_priors)).sum()\n",
        "\n",
        "def eval_likelihood(params,model,X,Y):\n",
        "    return tfd.Bernoulli(logits=model.apply(params,X,deterministic=True)).log_prob(Y.reshape((-1,1))).sum()\n",
        "\n",
        "def log_joint(params,priors,model,X,Y):\n",
        "    log_prior = eval_log_prior(params,priors=priors)\n",
        "    log_likelihood = eval_likelihood(params,model,X,Y)\n",
        "    return log_prior+log_likelihood\n",
        "    # return log_likelihood\n",
        "\n",
        "priors = set_prior(0,1,params)\n",
        "bnn_log_joint_partial = partial(log_joint,model=model,priors=priors,X=X_train,Y=y_train)\n",
        "bnn_log_joint_partial(params)"
      ]
    },
    {
      "cell_type": "code",
      "execution_count": 55,
      "id": "08f2738a",
      "metadata": {
        "id": "08f2738a",
        "outputId": "a29645f5-9573-4889-9c7e-cdcd400a9cb1"
      },
      "outputs": [
        {
          "data": {
            "text/plain": [
              "DeviceArray(-1999.243, dtype=float32)"
            ]
          },
          "execution_count": 55,
          "metadata": {},
          "output_type": "execute_result"
        }
      ],
      "source": [
        "def bnn_log_joint(params:dict, X, y, model):\n",
        "    \"\"\"\n",
        "    computes the numerator term of the posterior funtion.\n",
        "\n",
        "    params: dictionary initalized by model \n",
        "    X: shape-(n_samples,2) training points \n",
        "    y: shape-(n_samples,) labels for training points\n",
        "    model: bnn model\n",
        "    \"\"\"\n",
        "    \n",
        "    logits = model.apply(params, X,deterministic=True).ravel()\n",
        "    # flatten_params gives a list with all the parameters. its dimension will be 1.\n",
        "    flatten_params, _ = ravel_pytree(params)\n",
        "    log_prior = tfd.Normal(0.0, 1.0).log_prob(flatten_params).sum()\n",
        "    log_likelihood = tfd.Bernoulli(logits=logits).log_prob(y).sum()\n",
        "    log_joint = log_prior + log_likelihood\n",
        "    return log_joint +log_likelihood\n",
        "\n",
        "params = model.init(jax.random.PRNGKey(0), X_train, deterministic = True)\n",
        "bnn_log_joint_partial =partial(bnn_log_joint,X=X,y=Y,model=model)\n",
        "bnn_log_joint_partial(params)"
      ]
    },
    {
      "cell_type": "code",
      "execution_count": 56,
      "id": "8e69e73c",
      "metadata": {
        "id": "8e69e73c"
      },
      "outputs": [],
      "source": [
        "from pandas import read_pickle\n",
        "states,infos = read_pickle(\"mcmc_moons.pkl\")['states'],read_pickle(\"mcmc_moons.pkl\")['infos']"
      ]
    },
    {
      "cell_type": "code",
      "execution_count": 57,
      "id": "83383b41",
      "metadata": {},
      "outputs": [
        {
          "name": "stdout",
          "output_type": "stream",
          "text": [
            "Running window adaptation\n"
          ]
        },
        {
          "data": {
            "text/html": [
              "\n",
              "<style>\n",
              "    /* Turns off some styling */\n",
              "    progress {\n",
              "        /* gets rid of default border in Firefox and Opera. */\n",
              "        border: none;\n",
              "        /* Needs to be in here for Safari polyfill so background images work as expected. */\n",
              "        background-size: auto;\n",
              "    }\n",
              "    .progress-bar-interrupted, .progress-bar-interrupted::-webkit-progress-bar {\n",
              "        background: #F44336;\n",
              "    }\n",
              "</style>\n"
            ],
            "text/plain": [
              "<IPython.core.display.HTML object>"
            ]
          },
          "metadata": {},
          "output_type": "display_data"
        },
        {
          "data": {
            "text/html": [
              "\n",
              "    <div>\n",
              "      <progress value='3000' class='' max='3000' style='width:300px; height:20px; vertical-align: middle;'></progress>\n",
              "      100.00% [3000/3000 00:00<00:00]\n",
              "    </div>\n",
              "    "
            ],
            "text/plain": [
              "<IPython.core.display.HTML object>"
            ]
          },
          "metadata": {},
          "output_type": "display_data"
        },
        {
          "name": "stdout",
          "output_type": "stream",
          "text": [
            "\n"
          ]
        }
      ],
      "source": [
        "num_warmup = 3000\n",
        "key = jax.random.PRNGKey(314)\n",
        "key_samples, key_init, key_warmup, key = jax.random.split(key, 4)\n",
        "adapt = blackjax.window_adaptation(blackjax.nuts, bnn_log_joint_partial, num_warmup,progress_bar=True)\n",
        "final_state, kernel, _ = adapt.run(key_warmup, params)"
      ]
    },
    {
      "cell_type": "code",
      "execution_count": 58,
      "id": "4cab42a1",
      "metadata": {},
      "outputs": [],
      "source": [
        "num_samples = 3000\n",
        "states,infos = inference_loop(key_samples, kernel, final_state, num_samples)"
      ]
    },
    {
      "cell_type": "code",
      "execution_count": 59,
      "id": "f873857f",
      "metadata": {},
      "outputs": [],
      "source": [
        "from pandas import to_pickle\n",
        "to_pickle({\"states\":states,\"infos\":infos},\"mcmc_moons_good.pkl\")"
      ]
    },
    {
      "cell_type": "code",
      "execution_count": 60,
      "id": "98200a30",
      "metadata": {
        "id": "98200a30",
        "outputId": "e509fca9-d8aa-4d76-85e6-903c7d3d0311"
      },
      "outputs": [],
      "source": [
        "seed = jax.random.PRNGKey(0)\n",
        "\n",
        "def predict_mcmc(x_test):\n",
        "    def one_step(carry, state):\n",
        "        params_cur = state.position\n",
        "        # samples = tfd.Bernoulli(probs=model.apply(params_cur,x_test,deterministic=True)).sample(seed=seed)\n",
        "        probs=model.apply(params_cur,x_test,deterministic=True)\n",
        "        return carry, probs\n",
        "    _, y_stacks = jax.lax.scan(one_step, None, states)\n",
        "    y_stacks = y_stacks>=0.5\n",
        "    mean = y_stacks.mean(axis=0)\n",
        "    std_dev = y_stacks.std(axis=0)\n",
        "    return mean,std_dev\n",
        "\n",
        "mcmc_pred_mean,mcmc_pred_sigma = predict_mcmc(jnp.c_[xx.ravel(), yy.ravel()])\n",
        "mcmc_pred_mean,mcmc_pred_sigma = mcmc_pred_mean.reshape(xx.shape),mcmc_pred_sigma.reshape(xx.shape)"
      ]
    },
    {
      "cell_type": "code",
      "execution_count": 61,
      "id": "e5bec09b",
      "metadata": {},
      "outputs": [
        {
          "data": {
            "text/plain": [
              "DeviceArray(0.445, dtype=float32)"
            ]
          },
          "execution_count": 61,
          "metadata": {},
          "output_type": "execute_result"
        }
      ],
      "source": [
        "mcmc_pred_mean[0][0]"
      ]
    },
    {
      "cell_type": "code",
      "execution_count": 62,
      "id": "c87ebcbb",
      "metadata": {
        "id": "c87ebcbb",
        "outputId": "dec5985c-29fa-4e5e-cb4a-4df04c11b066"
      },
      "outputs": [
        {
          "name": "stdout",
          "output_type": "stream",
          "text": [
            "saving image to ./figures/MCMC_caliberation_glorot__latexified.pdf\n",
            "Figure size: [2.5 2. ]\n"
          ]
        },
        {
          "name": "stderr",
          "output_type": "stream",
          "text": [
            "/home/anand/Desktop/ML/probml-utils/probml_utils/plotting.py:70: UserWarning: renaming ./figures/MCMC_caliberation_glorot_.pdf to ./figures/MCMC_caliberation_glorot__latexified.pdf because LATEXIFY is True\n",
            "  f\"renaming {fname_full} to {fname}{extention} because LATEXIFY is {LATEXIFY}\",\n"
          ]
        }
      ],
      "source": [
        "mcmc_pred_train, _= predict_mcmc(X_train)\n",
        "mcmc_pred_test,_ = predict_mcmc(X_test)\n",
        "plot_caliberation_classification(mcmc_pred_train,mcmc_pred_test,title=\"\")\n",
        "pml.savefig(\"figures/MCMC_caliberation_glorot_.pdf\")"
      ]
    },
    {
      "cell_type": "code",
      "execution_count": 63,
      "id": "51aa5c7d",
      "metadata": {},
      "outputs": [],
      "source": [
        "# def plot_binary_class(\n",
        "#     X_scatters,\n",
        "#     y_scatters,\n",
        "#     XX1_grid,\n",
        "#     XX2_grid,\n",
        "#     grid_preds_mean,\n",
        "#     grid_preds_sigma,\n",
        "#     titles: tuple,\n",
        "# ):\n",
        "#     \"\"\"\n",
        "#   funtion to binary classificaton outputs\n",
        "# @@ -160,22 +161,25 @@ def plot_binary_class(\n",
        "#   titles: tuple with title of the two images. \n",
        "#   \"\"\"\n",
        "\n",
        "#     fig, ax = plt.subplots(1, 2, figsize=(20, 6))\n",
        "\n",
        "#     ax[0].set_title(titles[0], fontsize=16)\n",
        "#     ax[0].contourf(XX1_grid, XX2_grid, grid_preds_mean, cmap=\"coolwarm\", alpha=0.8)\n",
        "#     hs = ax[0].scatter(X_scatters.T[0], X_scatters.T[1], c=y_scatters, cmap=\"bwr\")\n",
        "#     ax[0].legend(*hs.legend_elements(), fontsize=20)\n",
        "\n",
        "#     ax[1].set_title(titles[1], fontsize=16)\n",
        "#     CS = ax[1].contourf(XX1_grid, XX2_grid, grid_preds_sigma, cmap=\"viridis\", alpha=0.8)\n",
        "#     hs = ax[1].scatter(X_scatters.T[0], X_scatters.T[1], c=y_scatters, cmap=\"bwr\")\n",
        "#     # ax[1].legend(*hs.legend_elements(), fontsize=20)\n",
        "#     fig.colorbar(CS, ax=ax[1])\n",
        "#     sns.despine()"
      ]
    },
    {
      "cell_type": "code",
      "execution_count": 66,
      "id": "485f0163",
      "metadata": {
        "id": "485f0163",
        "outputId": "09093dd3-3697-4ca6-9b29-84f3f76fcbf5"
      },
      "outputs": [
        {
          "name": "stderr",
          "output_type": "stream",
          "text": [
            "/home/anand/Desktop/ML/probml-utils/probml_utils/plotting.py:70: UserWarning: renaming ./figures/BNN using MCMC.pdf to ./figures/BNN using MCMC_latexified.pdf because LATEXIFY is True\n",
            "  f\"renaming {fname_full} to {fname}{extention} because LATEXIFY is {LATEXIFY}\",\n"
          ]
        },
        {
          "name": "stdout",
          "output_type": "stream",
          "text": [
            "saving image to ./figures/BNN using MCMC_latexified.pdf\n",
            "Figure size: [2.5 2. ]\n"
          ]
        },
        {
          "name": "stderr",
          "output_type": "stream",
          "text": [
            "/home/anand/anaconda3/envs/srip/lib/python3.7/site-packages/ipykernel_launcher.py:5: UserWarning: Matplotlib is currently using ps, which is a non-GUI backend, so cannot show the figure.\n",
            "  \"\"\"\n"
          ]
        }
      ],
      "source": [
        "titles_mcmc = (\"Mean of Predictions of NUTS\",\"Variance of Predictions of NUTS\")\n",
        "plot_binary_class(X_scatters=X,y_scatters=Y,XX1_grid=xx,\n",
        "XX2_grid = yy,grid_preds_mean=mcmc_pred_mean,X_outside = X_ood,titles=titles_mcmc)\n",
        "pml.savefig(\"figures/BNN using MCMC.pdf\")\n",
        "plt.show()"
      ]
    },
    {
      "cell_type": "markdown",
      "id": "d340d849",
      "metadata": {
        "id": "d340d849"
      },
      "source": [
        "# GP"
      ]
    },
    {
      "cell_type": "code",
      "execution_count": 67,
      "id": "f9a38383",
      "metadata": {
        "colab": {
          "referenced_widgets": [
            "871f07105c1e4e93899fd052747bc1a6"
          ]
        },
        "id": "f9a38383",
        "outputId": "879c4bef-065e-4ed8-d1bd-246327c0e851"
      },
      "outputs": [
        {
          "name": "stdout",
          "output_type": "stream",
          "text": [
            "\n",
            "Name : gp_classification\n",
            "Objective : 109.74521507089162\n",
            "Number of Parameters : 2\n",
            "Number of Optimization Parameters : 2\n",
            "Updates : True\n",
            "Parameters:\n",
            "  \u001b[1mgp_classification.\u001b[0;0m  |  value  |  constraints  |  priors\n",
            "  \u001b[1mrbf.variance      \u001b[0;0m  |    1.0  |      +ve      |        \n",
            "  \u001b[1mrbf.lengthscale   \u001b[0;0m  |    1.0  |      +ve      |        \n",
            "-109.74521507089162\n"
          ]
        },
        {
          "data": {
            "application/vnd.jupyter.widget-view+json": {
              "model_id": "b1845a9da3954ee1ac2797bbb1db910e",
              "version_major": 2,
              "version_minor": 0
            },
            "text/plain": [
              "HBox(children=(VBox(children=(IntProgress(value=0, max=1000), HTML(value=''))), Box(children=(HTML(value=''),)…"
            ]
          },
          "metadata": {},
          "output_type": "display_data"
        },
        {
          "name": "stdout",
          "output_type": "stream",
          "text": [
            "Optimization restart 1/5, f = 57.93479031079556\n",
            "Optimization restart 2/5, f = 87.89248015636133\n",
            "Optimization restart 3/5, f = 65.79696928778316\n",
            "Optimization restart 4/5, f = 76.6686355350339\n",
            "Optimization restart 5/5, f = 66.22382809115038\n",
            "\n",
            "Name : gp_classification\n",
            "Objective : 68.24582311586948\n",
            "Number of Parameters : 2\n",
            "Number of Optimization Parameters : 2\n",
            "Updates : True\n",
            "Parameters:\n",
            "  \u001b[1mgp_classification.\u001b[0;0m  |               value  |  constraints  |  priors\n",
            "  \u001b[1mrbf.variance      \u001b[0;0m  |  13.753845426549372  |      +ve      |        \n",
            "  \u001b[1mrbf.lengthscale   \u001b[0;0m  |  0.7116805207154344  |      +ve      |        \n"
          ]
        },
        {
          "name": "stderr",
          "output_type": "stream",
          "text": [
            " /home/anand/anaconda3/envs/srip/lib/python3.7/site-packages/GPy/plotting/matplot_dep/plot_definitions.py:184: UserWarning:The following kwargs were not used by contour: 'label', 'linewidth'\n",
            " /home/anand/anaconda3/envs/srip/lib/python3.7/site-packages/jax/_src/numpy/lax_numpy.py:4459: UserWarning:Explicitly requested dtype float requested in astype is not available, and will be truncated to dtype float32. To enable more dtypes, set the jax_enable_x64 configuration option or the JAX_ENABLE_X64 shell environment variable. See https://github.com/google/jax#current-gotchas for more.\n"
          ]
        }
      ],
      "source": [
        "import GPy\n",
        "import numpy as np\n",
        "# h=0.02\n",
        "# x_min, x_max = X[:, 0].min() - 1, X[:, 0].max() + 1\n",
        "# y_min, y_max = X[:, 1].min() - 1, X[:, 1].max() + 1\n",
        "# xx, yy = jnp.meshgrid(jnp.arange(x_min, x_max, h),\n",
        "#                      jnp.arange(y_min, y_max, h))\n",
        "\n",
        "model = GPy.models.GPClassification(np.array(X_train), np.array(y_train.reshape(-1,1)))\n",
        "print(model)\n",
        "print(model.log_likelihood())\n",
        "model.optimize(messages=True)\n",
        "model.optimize_restarts(num_restarts=5)\n",
        "print(model)\n",
        "model.plot_f()\n",
        "probability_gp,na = model.predict(jnp.c_[xx.ravel(), yy.ravel()])"
      ]
    },
    {
      "cell_type": "code",
      "execution_count": 68,
      "id": "8ee8ef70",
      "metadata": {
        "id": "8ee8ef70"
      },
      "outputs": [],
      "source": [
        "probability_gp = probability_gp.reshape(xx.shape)\n",
        "# sigma_gp = jnp.sqrt(probability_gp*(1-probability_gp)).reshape(xx.shape)\n"
      ]
    },
    {
      "cell_type": "code",
      "execution_count": 69,
      "id": "4ce5ef5c",
      "metadata": {
        "id": "4ce5ef5c",
        "outputId": "73ae0223-0281-484c-d30d-ae4207bb801e"
      },
      "outputs": [
        {
          "name": "stderr",
          "output_type": "stream",
          "text": [
            " /home/anand/Desktop/ML/probml-utils/probml_utils/plotting.py:70: UserWarning:renaming ./figures/GP moons.pdf to ./figures/GP moons_latexified.pdf because LATEXIFY is True\n"
          ]
        },
        {
          "name": "stdout",
          "output_type": "stream",
          "text": [
            "saving image to ./figures/GP moons_latexified.pdf\n",
            "Figure size: [2.5 2. ]\n"
          ]
        }
      ],
      "source": [
        "plot_binary_class(X,Y,X_ood,xx,yy,probability_gp,titles=(\"Probability with GP\",\"Variance with GP\"))\n",
        "pml.savefig(\"figures/GP moons.pdf\")"
      ]
    },
    {
      "cell_type": "code",
      "execution_count": 70,
      "id": "a7ce96ae",
      "metadata": {
        "id": "a7ce96ae",
        "outputId": "3d58fff6-2070-4510-b3ed-82ea15a33a0f"
      },
      "outputs": [
        {
          "name": "stdout",
          "output_type": "stream",
          "text": [
            "saving image to ./figures/GP_caliberation_latexified.pdf\n",
            "Figure size: [2.5 2. ]\n"
          ]
        },
        {
          "name": "stderr",
          "output_type": "stream",
          "text": [
            " /home/anand/Desktop/ML/probml-utils/probml_utils/plotting.py:70: UserWarning:renaming ./figures/GP_caliberation.pdf to ./figures/GP_caliberation_latexified.pdf because LATEXIFY is True\n"
          ]
        }
      ],
      "source": [
        "gp_pred_train,na = model.predict(X_train)\n",
        "gp_pred_test, na = model.predict(X_test)\n",
        "plot_caliberation_classification(gp_pred_train,gp_pred_test,title=\"\")\n",
        "pml.savefig(\"figures/GP_caliberation.pdf\")"
      ]
    },
    {
      "cell_type": "markdown",
      "id": "75f30049",
      "metadata": {},
      "source": [
        "# SNGP"
      ]
    },
    {
      "cell_type": "code",
      "execution_count": null,
      "id": "37cfb12d",
      "metadata": {},
      "outputs": [],
      "source": [
        "%pip install -qq tf-models-official"
      ]
    },
    {
      "cell_type": "code",
      "execution_count": 14,
      "id": "K4uwjqk534-k",
      "metadata": {
        "colab": {
          "base_uri": "https://localhost:8080/"
        },
        "id": "K4uwjqk534-k",
        "outputId": "ea930f79-c045-4bf8-a5ab-b231310c41d2"
      },
      "outputs": [
        {
          "data": {
            "text/plain": [
              "<module 'pkg_resources' from '/home/anand/anaconda3/envs/srip/lib/python3.7/site-packages/pkg_resources/__init__.py'>"
            ]
          },
          "execution_count": 14,
          "metadata": {},
          "output_type": "execute_result"
        }
      ],
      "source": [
        "import pkg_resources\n",
        "import importlib\n",
        "importlib.reload(pkg_resources)"
      ]
    },
    {
      "cell_type": "code",
      "execution_count": 15,
      "id": "FtPezyey38hN",
      "metadata": {
        "id": "FtPezyey38hN"
      },
      "outputs": [],
      "source": [
        "import matplotlib.pyplot as plt\n",
        "import matplotlib.colors as colors\n",
        "\n",
        "from sklearn.model_selection import train_test_split\n",
        "import numpy as np\n",
        "import tensorflow as tf\n",
        "try:\n",
        "    import official.nlp.modeling.layers as nlp_layers\n",
        "except ModuleNotFoundError:\n",
        "    %pip install -qq tf-models-official\n",
        "    import official.nlp.modeling.layers as nlp_layers\n",
        "\n",
        "    "
      ]
    },
    {
      "cell_type": "code",
      "execution_count": 16,
      "id": "qYHD88p040nk",
      "metadata": {
        "id": "qYHD88p040nk"
      },
      "outputs": [],
      "source": [
        "class DeepResNet(tf.keras.Model):\n",
        "  \"\"\"Defines a multi-layer residual network.\"\"\"\n",
        "  def __init__(self, num_classes, num_layers=3, num_hidden=128,\n",
        "               dropout_rate=0.1, **classifier_kwargs):\n",
        "    super().__init__()\n",
        "    # Defines class meta data.\n",
        "    self.num_hidden = num_hidden\n",
        "    self.num_layers = num_layers\n",
        "    self.dropout_rate = dropout_rate\n",
        "    self.classifier_kwargs = classifier_kwargs\n",
        "\n",
        "    # Defines the hidden layers.\n",
        "    self.input_layer = tf.keras.layers.Dense(self.num_hidden, trainable=False)\n",
        "    self.dense_layers = [self.make_dense_layer() for _ in range(num_layers)]\n",
        "\n",
        "    # Defines the output layer.\n",
        "    self.classifier = self.make_output_layer(num_classes)\n",
        "\n",
        "  def call(self, inputs):\n",
        "    # Projects the 2d input data to high dimension.\n",
        "    hidden = self.input_layer(inputs)\n",
        "\n",
        "    # Computes the resnet hidden representations.\n",
        "    for i in range(self.num_layers):\n",
        "      resid = self.dense_layers[i](hidden)\n",
        "      resid = tf.keras.layers.Dropout(self.dropout_rate)(resid)\n",
        "      hidden += resid\n",
        "\n",
        "    return self.classifier(hidden)\n",
        "\n",
        "  def make_dense_layer(self):\n",
        "    \"\"\"Uses the Dense layer as the hidden layer.\"\"\"\n",
        "    return tf.keras.layers.Dense(self.num_hidden, activation=\"relu\")\n",
        "\n",
        "  def make_output_layer(self, num_classes):\n",
        "    \"\"\"Uses the Dense layer as the output layer.\"\"\"\n",
        "    return tf.keras.layers.Dense(\n",
        "        num_classes, **self.classifier_kwargs)"
      ]
    },
    {
      "cell_type": "code",
      "execution_count": 17,
      "id": "nnjMiyL-4i55",
      "metadata": {
        "id": "nnjMiyL-4i55"
      },
      "outputs": [],
      "source": [
        "class DeepResNetSNGP(DeepResNet):\n",
        "  def __init__(self, spec_norm_bound=0.9, **kwargs):\n",
        "    self.spec_norm_bound = spec_norm_bound\n",
        "    super().__init__(**kwargs)\n",
        "\n",
        "  def make_dense_layer(self):\n",
        "    \"\"\"Applies spectral normalization to the hidden layer.\"\"\"\n",
        "    dense_layer = super().make_dense_layer()\n",
        "    return nlp_layers.SpectralNormalization(\n",
        "        dense_layer, norm_multiplier=self.spec_norm_bound)\n",
        "\n",
        "  def make_output_layer(self, num_classes):\n",
        "    \"\"\"Uses Gaussian process as the output layer.\"\"\"\n",
        "    return nlp_layers.RandomFeatureGaussianProcess(\n",
        "        num_classes, \n",
        "        gp_cov_momentum=-1,\n",
        "        **self.classifier_kwargs)\n",
        "\n",
        "  def call(self, inputs, training=False, return_covmat=False):\n",
        "    # Gets logits and covariance matrix from GP layer.\n",
        "    logits, covmat = super().call(inputs)\n",
        "\n",
        "    # Returns only logits during training.\n",
        "    if not training and return_covmat:\n",
        "      return logits, covmat\n",
        "\n",
        "    return logits"
      ]
    },
    {
      "cell_type": "code",
      "execution_count": 18,
      "id": "fvzYHSiP5gh7",
      "metadata": {
        "id": "fvzYHSiP5gh7"
      },
      "outputs": [],
      "source": [
        "class ResetCovarianceCallback(tf.keras.callbacks.Callback):\n",
        "\n",
        "  def on_epoch_begin(self, epoch, logs=None):\n",
        "    \"\"\"Resets covariance matrix at the beginning of the epoch.\"\"\"\n",
        "    if epoch > 0:\n",
        "      self.model.classifier.reset_covariance_matrix()"
      ]
    },
    {
      "cell_type": "code",
      "execution_count": 19,
      "id": "KSaZUyJo5kZX",
      "metadata": {
        "id": "KSaZUyJo5kZX"
      },
      "outputs": [],
      "source": [
        "class DeepResNetSNGPWithCovReset(DeepResNetSNGP):\n",
        "  def fit(self, *args, **kwargs):\n",
        "    \"\"\"Adds ResetCovarianceCallback to model callbacks.\"\"\"\n",
        "    kwargs[\"callbacks\"] = list(kwargs.get(\"callbacks\", []))\n",
        "    kwargs[\"callbacks\"].append(ResetCovarianceCallback())\n",
        "\n",
        "    return super().fit(*args, **kwargs)"
      ]
    },
    {
      "cell_type": "code",
      "execution_count": 20,
      "id": "667A7uEhnMNi",
      "metadata": {
        "id": "667A7uEhnMNi"
      },
      "outputs": [],
      "source": [
        "def compute_posterior_mean_probability(logits, covmat, lambda_param=np.pi / 8.):\n",
        "  # Computes uncertainty-adjusted logits using the built-in method.\n",
        "  logits_adjusted = nlp_layers.gaussian_process.mean_field_logits(\n",
        "      logits, covmat, mean_field_factor=lambda_param)\n",
        "\n",
        "  return tf.nn.softmax(logits_adjusted, axis=-1)[:, 0]"
      ]
    },
    {
      "cell_type": "code",
      "execution_count": 21,
      "id": "ddccf6c2",
      "metadata": {},
      "outputs": [],
      "source": [
        "DEFAULT_X_RANGE = (-3.5, 3.5)\n",
        "DEFAULT_Y_RANGE = (-2.5, 2.5)\n",
        "DEFAULT_N_GRID = 100\n"
      ]
    },
    {
      "cell_type": "code",
      "execution_count": 22,
      "id": "aff49a07",
      "metadata": {},
      "outputs": [],
      "source": [
        "# def make_training_data(sample_size=500):\n",
        "#   \"\"\"Create two moon training dataset.\"\"\"\n",
        "#   train_examples, train_labels = sklearn.datasets.make_moons(\n",
        "#       n_samples=2 * sample_size, noise=0.1)\n",
        "\n",
        "#   # Adjust data position slightly.\n",
        "#   train_examples[train_labels == 0] += [-0.1, 0.2]\n",
        "#   train_examples[train_labels == 1] += [0.1, -0.2]\n",
        "\n",
        "#   return train_examples, train_labels\n",
        "\n",
        "# def make_testing_data(x_range=DEFAULT_X_RANGE, y_range=DEFAULT_Y_RANGE, n_grid=DEFAULT_N_GRID):\n",
        "#   \"\"\"Create a mesh grid in 2D space.\"\"\"\n",
        "#   # testing data (mesh grid over data space)\n",
        "#   x = np.linspace(x_range[0], x_range[1], n_grid)\n",
        "#   y = np.linspace(y_range[0], y_range[1], n_grid)\n",
        "#   xv, yv = np.meshgrid(x, y)\n",
        "#   return np.stack([xv.flatten(), yv.flatten()], axis=-1),xv,yv\n",
        "\n",
        "# X_train,y_train = make_training_data(\n",
        "#     sample_size=500)\n",
        "\n",
        "# X_test,xx,yy = make_testing_data()"
      ]
    },
    {
      "cell_type": "code",
      "execution_count": 23,
      "id": "4dIQ65senOAq",
      "metadata": {
        "id": "4dIQ65senOAq"
      },
      "outputs": [],
      "source": [
        "def train_and_test_sngp(X_train, X_test):\n",
        "  sngp_model = DeepResNetSNGPWithCovReset(**resnet_config)\n",
        "\n",
        "  sngp_model.compile(**train_config)\n",
        "  sngp_model.fit(X_train, np.array(y_train), verbose=0, **fit_config)\n",
        "\n",
        "  sngp_logits, sngp_covmat = sngp_model(X_test, return_covmat=True)\n",
        "  sngp_probs = compute_posterior_mean_probability(sngp_logits, sngp_covmat)\n",
        "\n",
        "  return sngp_model, sngp_probs"
      ]
    },
    {
      "cell_type": "code",
      "execution_count": 24,
      "id": "pwfaGlnE59WO",
      "metadata": {
        "id": "pwfaGlnE59WO"
      },
      "outputs": [
        {
          "name": "stderr",
          "output_type": "stream",
          "text": [
            "2022-07-22 21:47:21.497754: W tensorflow/stream_executor/platform/default/dso_loader.cc:64] Could not load dynamic library 'libcuda.so.1'; dlerror: libcuda.so.1: cannot open shared object file: No such file or directory\n",
            "2022-07-22 21:47:21.497822: W tensorflow/stream_executor/cuda/cuda_driver.cc:269] failed call to cuInit: UNKNOWN ERROR (303)\n"
          ]
        }
      ],
      "source": [
        "loss = tf.keras.losses.SparseCategoricalCrossentropy(from_logits=True)\n",
        "metrics = tf.keras.metrics.SparseCategoricalAccuracy(),\n",
        "optimizer = tf.keras.optimizers.Adam(learning_rate=1e-4)\n",
        "resnet_config = dict(num_classes=2, num_layers=6, num_hidden=128)\n",
        "train_config = dict(loss=loss, metrics=metrics, optimizer=optimizer)\n",
        "fit_config = dict(batch_size=128, epochs=1000)"
      ]
    },
    {
      "cell_type": "code",
      "execution_count": 25,
      "id": "de108bdf",
      "metadata": {},
      "outputs": [
        {
          "data": {
            "text/plain": [
              "((500, 2), (500, 2))"
            ]
          },
          "execution_count": 25,
          "metadata": {},
          "output_type": "execute_result"
        }
      ],
      "source": [
        "X_train.shape, X_test.shape"
      ]
    },
    {
      "cell_type": "code",
      "execution_count": null,
      "id": "c4a7a4e6",
      "metadata": {},
      "outputs": [],
      "source": []
    },
    {
      "cell_type": "code",
      "execution_count": 26,
      "id": "omAwMdWo9Yug",
      "metadata": {
        "id": "omAwMdWo9Yug"
      },
      "outputs": [],
      "source": [
        "import numpy as np\n",
        "sngp_model, sngp_probs = train_and_test_sngp(np.array(X_train), np.array(X_test))"
      ]
    },
    {
      "cell_type": "code",
      "execution_count": 27,
      "id": "42cc2065",
      "metadata": {},
      "outputs": [],
      "source": [
        "sngp_std = np.sqrt(sngp_probs*(1-sngp_probs))"
      ]
    },
    {
      "cell_type": "code",
      "execution_count": 28,
      "id": "91902816",
      "metadata": {},
      "outputs": [],
      "source": [
        "sngp_logits, sngp_covmat = sngp_model(np.c_[xx.ravel(), yy.ravel()], return_covmat=True)\n",
        "sngp_grid_probs = compute_posterior_mean_probability(sngp_logits, sngp_covmat)"
      ]
    },
    {
      "cell_type": "code",
      "execution_count": 64,
      "id": "1db0a631",
      "metadata": {},
      "outputs": [],
      "source": [
        "sngp_grid_probs = 1-np.array(sngp_grid_probs).reshape(xx.shape)"
      ]
    },
    {
      "cell_type": "code",
      "execution_count": 65,
      "id": "44c9a639",
      "metadata": {},
      "outputs": [
        {
          "name": "stderr",
          "output_type": "stream",
          "text": [
            "/home/anand/Desktop/ML/probml-utils/probml_utils/plotting.py:70: UserWarning: renaming ./figures/SNGP Moons.pdf to ./figures/SNGP Moons_latexified.pdf because LATEXIFY is True\n",
            "  f\"renaming {fname_full} to {fname}{extention} because LATEXIFY is {LATEXIFY}\",\n"
          ]
        },
        {
          "name": "stdout",
          "output_type": "stream",
          "text": [
            "saving image to ./figures/SNGP Moons_latexified.pdf\n",
            "Figure size: [2.5 2. ]\n"
          ]
        }
      ],
      "source": [
        "# plot_binary_class(X,Y,xx,yy,sngp_probs,sngp_std,titles=(\"Probability with SNGP\",\"Variance with SNGP\"))\n",
        "plot_binary_class(X,Y,X_ood,xx,yy,sngp_grid_probs,titles=(\"Probability with GP\",\"Variance with GP\"))\n",
        "\n",
        "pml.savefig(\"figures/SNGP Moons.pdf\")\n"
      ]
    },
    {
      "cell_type": "code",
      "execution_count": 39,
      "id": "f245d088",
      "metadata": {},
      "outputs": [],
      "source": [
        "sngp_pred_train = train_and_test_sngp(np.array(X_train), np.array(X_train))"
      ]
    },
    {
      "cell_type": "code",
      "execution_count": 59,
      "id": "acec4b59",
      "metadata": {},
      "outputs": [],
      "source": [
        "sngp_pred_train_actual = 1-sngp_pred_train[1]\n",
        "sngp_probs = 1-sngp_probs"
      ]
    },
    {
      "cell_type": "code",
      "execution_count": 63,
      "id": "f8f177f2",
      "metadata": {},
      "outputs": [
        {
          "name": "stdout",
          "output_type": "stream",
          "text": [
            "saving image to ./figures/SNGP_caliberation_latexified.pdf\n",
            "Figure size: [2.5 2. ]\n"
          ]
        },
        {
          "name": "stderr",
          "output_type": "stream",
          "text": [
            "/home/anand/Desktop/ML/probml-utils/probml_utils/plotting.py:70: UserWarning: renaming ./figures/SNGP_caliberation.pdf to ./figures/SNGP_caliberation_latexified.pdf because LATEXIFY is True\n",
            "  f\"renaming {fname_full} to {fname}{extention} because LATEXIFY is {LATEXIFY}\",\n"
          ]
        }
      ],
      "source": [
        "plot_caliberation_classification(jnp.array(sngp_pred_train_actual),jnp.array(sngp_probs),title=\"\")\n",
        "pml.savefig(\"figures/SNGP_caliberation.pdf\")"
      ]
    },
    {
      "cell_type": "markdown",
      "id": "0635c930",
      "metadata": {},
      "source": [
        "# VI"
      ]
    },
    {
      "cell_type": "code",
      "execution_count": 81,
      "id": "a9c22218",
      "metadata": {},
      "outputs": [],
      "source": [
        "from flax.core.frozen_dict import freeze, unfreeze\n",
        "from jax.flatten_util import ravel_pytree\n",
        "from ajax.advi import ADVI\n",
        "from ajax.utils import train\n",
        "tfb = tfp.bijectors\n",
        "import optax\n"
      ]
    },
    {
      "cell_type": "code",
      "execution_count": 82,
      "id": "03f630ea",
      "metadata": {},
      "outputs": [],
      "source": [
        "class MLP(nn.Module):\n",
        "    layers: list\n",
        "    \n",
        "    @nn.compact\n",
        "    def __call__(self, x):\n",
        "        for num_features in self.layers[:-1]:\n",
        "            x = nn.relu(nn.Dense(num_features)(x))\n",
        "        x = nn.Dense(self.layers[-1])(x)\n",
        "        return x.ravel()\n",
        "\n",
        "mlp = MLP([8,16,16,8,1])"
      ]
    },
    {
      "cell_type": "code",
      "execution_count": 83,
      "id": "97548895",
      "metadata": {},
      "outputs": [],
      "source": [
        "seed = jax.random.PRNGKey(45)\n",
        "frozen_params = mlp.init(seed, X_train)\n",
        "params = unfreeze(frozen_params)"
      ]
    },
    {
      "cell_type": "code",
      "execution_count": 84,
      "id": "63419fa4",
      "metadata": {},
      "outputs": [],
      "source": [
        "prior = jax.tree_map(\n",
        "    lambda param: tfd.Independent(\n",
        "        tfd.Normal(loc=jnp.zeros(param.shape), scale=jnp.ones(param.shape)),\n",
        "        reinterpreted_batch_ndims=len(param.shape),\n",
        "    ),\n",
        "    params,\n",
        ")\n",
        "\n",
        "bijector = jax.tree_map(lambda param: tfb.Identity(), params)\n",
        "\n",
        "def get_log_likelihood(latent_sample,data,aux, **kwargs):\n",
        "    frozen_params = freeze(latent_sample)\n",
        "    logit = mlp.apply(frozen_params, aux['X'])\n",
        "    def sigmoid(x, scale=100):\n",
        "        return 0.5 * (jnp.tanh(x * scale / 2) + 1)\n",
        "    #prob = sigmoid(logit)\n",
        "    return tfd.Bernoulli(logits=logit).log_prob(data).sum()\n",
        "\n",
        "model = ADVI(prior, bijector, get_log_likelihood, vi_type = \"mean_field\")\n"
      ]
    },
    {
      "cell_type": "code",
      "execution_count": 85,
      "id": "a325d7e3",
      "metadata": {},
      "outputs": [],
      "source": [
        "params = model.init(jax.random.PRNGKey(8))\n",
        "mean = params[\"posterior\"].mean()\n",
        "params[\"posterior\"] = tfd.MultivariateNormalDiag(\n",
        "    loc=mean,\n",
        "    scale_diag=jax.random.normal(jax.random.PRNGKey(3), shape=(len(mean),))-10,\n",
        ")"
      ]
    },
    {
      "cell_type": "code",
      "execution_count": 87,
      "id": "ef697502",
      "metadata": {},
      "outputs": [
        {
          "ename": "TypeError",
          "evalue": "Using a non-tuple sequence for multidimensional indexing is not allowed; use `arr[tuple(seq)]` instead of `arr[seq]`. See https://github.com/google/jax/issues/4564 for more information.",
          "output_type": "error",
          "traceback": [
            "\u001b[0;31m---------------------------------------------------------------------------\u001b[0m",
            "\u001b[0;31mTypeError\u001b[0m                                 Traceback (most recent call last)",
            "\u001b[0;32m<timed exec>\u001b[0m in \u001b[0;36m<module>\u001b[0;34m\u001b[0m\n",
            "\u001b[0;32m~/anaconda3/envs/srip/lib/python3.7/site-packages/ajax/utils.py\u001b[0m in \u001b[0;36mtrain\u001b[0;34m(loss_fn, params, optimizer, n_epochs, seed, return_args)\u001b[0m\n\u001b[1;32m     17\u001b[0m \u001b[0;34m\u001b[0m\u001b[0m\n\u001b[1;32m     18\u001b[0m     \u001b[0mseeds\u001b[0m \u001b[0;34m=\u001b[0m \u001b[0mjax\u001b[0m\u001b[0;34m.\u001b[0m\u001b[0mrandom\u001b[0m\u001b[0;34m.\u001b[0m\u001b[0msplit\u001b[0m\u001b[0;34m(\u001b[0m\u001b[0mseed\u001b[0m\u001b[0;34m,\u001b[0m \u001b[0mn_epochs\u001b[0m\u001b[0;34m)\u001b[0m\u001b[0;34m\u001b[0m\u001b[0;34m\u001b[0m\u001b[0m\n\u001b[0;32m---> 19\u001b[0;31m     \u001b[0;34m(\u001b[0m\u001b[0mparams\u001b[0m\u001b[0;34m,\u001b[0m \u001b[0mstates\u001b[0m\u001b[0;34m)\u001b[0m\u001b[0;34m,\u001b[0m \u001b[0;34m(\u001b[0m\u001b[0mlosses\u001b[0m\u001b[0;34m,\u001b[0m \u001b[0mparams_list\u001b[0m\u001b[0;34m)\u001b[0m \u001b[0;34m=\u001b[0m \u001b[0mjax\u001b[0m\u001b[0;34m.\u001b[0m\u001b[0mlax\u001b[0m\u001b[0;34m.\u001b[0m\u001b[0mscan\u001b[0m\u001b[0;34m(\u001b[0m\u001b[0mone_step\u001b[0m\u001b[0;34m,\u001b[0m \u001b[0;34m(\u001b[0m\u001b[0mparams\u001b[0m\u001b[0;34m,\u001b[0m \u001b[0mstate\u001b[0m\u001b[0;34m)\u001b[0m\u001b[0;34m,\u001b[0m \u001b[0mxs\u001b[0m\u001b[0;34m=\u001b[0m\u001b[0mseeds\u001b[0m\u001b[0;34m)\u001b[0m\u001b[0;34m\u001b[0m\u001b[0;34m\u001b[0m\u001b[0m\n\u001b[0m\u001b[1;32m     20\u001b[0m     \u001b[0mreturn_dict\u001b[0m \u001b[0;34m=\u001b[0m \u001b[0;34m{\u001b[0m\u001b[0;34m\"params\"\u001b[0m\u001b[0;34m:\u001b[0m \u001b[0mparams\u001b[0m\u001b[0;34m}\u001b[0m\u001b[0;34m\u001b[0m\u001b[0;34m\u001b[0m\u001b[0m\n\u001b[1;32m     21\u001b[0m     \u001b[0;32mfor\u001b[0m \u001b[0mkey\u001b[0m \u001b[0;32min\u001b[0m \u001b[0mreturn_args\u001b[0m\u001b[0;34m:\u001b[0m\u001b[0;34m\u001b[0m\u001b[0;34m\u001b[0m\u001b[0m\n",
            "    \u001b[0;31m[... skipping hidden 20 frame]\u001b[0m\n",
            "\u001b[0;32m~/anaconda3/envs/srip/lib/python3.7/site-packages/ajax/utils.py\u001b[0m in \u001b[0;36mone_step\u001b[0;34m(params_and_state, seed)\u001b[0m\n\u001b[1;32m     11\u001b[0m     \u001b[0;32mdef\u001b[0m \u001b[0mone_step\u001b[0m\u001b[0;34m(\u001b[0m\u001b[0mparams_and_state\u001b[0m\u001b[0;34m,\u001b[0m \u001b[0mseed\u001b[0m\u001b[0;34m)\u001b[0m\u001b[0;34m:\u001b[0m\u001b[0;34m\u001b[0m\u001b[0;34m\u001b[0m\u001b[0m\n\u001b[1;32m     12\u001b[0m         \u001b[0mparams\u001b[0m\u001b[0;34m,\u001b[0m \u001b[0mstate\u001b[0m \u001b[0;34m=\u001b[0m \u001b[0mparams_and_state\u001b[0m\u001b[0;34m\u001b[0m\u001b[0;34m\u001b[0m\u001b[0m\n\u001b[0;32m---> 13\u001b[0;31m         \u001b[0mloss\u001b[0m\u001b[0;34m,\u001b[0m \u001b[0mgrads\u001b[0m \u001b[0;34m=\u001b[0m \u001b[0mvalue_and_grad_fn\u001b[0m\u001b[0;34m(\u001b[0m\u001b[0mparams\u001b[0m\u001b[0;34m,\u001b[0m \u001b[0mseed\u001b[0m\u001b[0;34m=\u001b[0m\u001b[0mseed\u001b[0m\u001b[0;34m)\u001b[0m\u001b[0;34m\u001b[0m\u001b[0;34m\u001b[0m\u001b[0m\n\u001b[0m\u001b[1;32m     14\u001b[0m         \u001b[0mupdates\u001b[0m\u001b[0;34m,\u001b[0m \u001b[0mstate\u001b[0m \u001b[0;34m=\u001b[0m \u001b[0moptimizer\u001b[0m\u001b[0;34m.\u001b[0m\u001b[0mupdate\u001b[0m\u001b[0;34m(\u001b[0m\u001b[0mgrads\u001b[0m\u001b[0;34m,\u001b[0m \u001b[0mstate\u001b[0m\u001b[0;34m)\u001b[0m\u001b[0;34m\u001b[0m\u001b[0;34m\u001b[0m\u001b[0m\n\u001b[1;32m     15\u001b[0m         \u001b[0mparams\u001b[0m \u001b[0;34m=\u001b[0m \u001b[0moptax\u001b[0m\u001b[0;34m.\u001b[0m\u001b[0mapply_updates\u001b[0m\u001b[0;34m(\u001b[0m\u001b[0mparams\u001b[0m\u001b[0;34m,\u001b[0m \u001b[0mupdates\u001b[0m\u001b[0;34m)\u001b[0m\u001b[0;34m\u001b[0m\u001b[0;34m\u001b[0m\u001b[0m\n",
            "    \u001b[0;31m[... skipping hidden 8 frame]\u001b[0m\n",
            "\u001b[0;32m~/anaconda3/envs/srip/lib/python3.7/site-packages/ajax/advi.py\u001b[0m in \u001b[0;36mloss_fn\u001b[0;34m(self, params, batch, aux, data_size, seed, n_samples)\u001b[0m\n\u001b[1;32m     96\u001b[0m \u001b[0;34m\u001b[0m\u001b[0m\n\u001b[1;32m     97\u001b[0m         \u001b[0mseeds\u001b[0m \u001b[0;34m=\u001b[0m \u001b[0mjax\u001b[0m\u001b[0;34m.\u001b[0m\u001b[0mrandom\u001b[0m\u001b[0;34m.\u001b[0m\u001b[0msplit\u001b[0m\u001b[0;34m(\u001b[0m\u001b[0mseed\u001b[0m\u001b[0;34m,\u001b[0m \u001b[0mn_samples\u001b[0m\u001b[0;34m)\u001b[0m\u001b[0;34m\u001b[0m\u001b[0;34m\u001b[0m\u001b[0m\n\u001b[0;32m---> 98\u001b[0;31m         \u001b[0;32mreturn\u001b[0m \u001b[0mjax\u001b[0m\u001b[0;34m.\u001b[0m\u001b[0mvmap\u001b[0m\u001b[0;34m(\u001b[0m\u001b[0mloss_fn_per_sample\u001b[0m\u001b[0;34m)\u001b[0m\u001b[0;34m(\u001b[0m\u001b[0mseeds\u001b[0m\u001b[0;34m)\u001b[0m\u001b[0;34m.\u001b[0m\u001b[0mmean\u001b[0m\u001b[0;34m(\u001b[0m\u001b[0;34m)\u001b[0m\u001b[0;34m\u001b[0m\u001b[0;34m\u001b[0m\u001b[0m\n\u001b[0m\u001b[1;32m     99\u001b[0m \u001b[0;34m\u001b[0m\u001b[0m\n\u001b[1;32m    100\u001b[0m     \u001b[0;32mdef\u001b[0m \u001b[0mapply\u001b[0m\u001b[0;34m(\u001b[0m\u001b[0mself\u001b[0m\u001b[0;34m,\u001b[0m \u001b[0mparams\u001b[0m\u001b[0;34m)\u001b[0m\u001b[0;34m:\u001b[0m\u001b[0;34m\u001b[0m\u001b[0;34m\u001b[0m\u001b[0m\n",
            "    \u001b[0;31m[... skipping hidden 3 frame]\u001b[0m\n",
            "\u001b[0;32m~/anaconda3/envs/srip/lib/python3.7/site-packages/ajax/advi.py\u001b[0m in \u001b[0;36mloss_fn_per_sample\u001b[0;34m(seed)\u001b[0m\n\u001b[1;32m     91\u001b[0m             \u001b[0mp_log_prob\u001b[0m \u001b[0;34m=\u001b[0m \u001b[0mlog_prob_dist\u001b[0m\u001b[0;34m(\u001b[0m\u001b[0mself\u001b[0m\u001b[0;34m.\u001b[0m\u001b[0mapprox_normal_prior\u001b[0m\u001b[0;34m,\u001b[0m \u001b[0msample_tree\u001b[0m\u001b[0;34m)\u001b[0m\u001b[0;34m\u001b[0m\u001b[0;34m\u001b[0m\u001b[0m\n\u001b[1;32m     92\u001b[0m             \u001b[0mtransformed_sample_tree\u001b[0m \u001b[0;34m=\u001b[0m \u001b[0mtransform_tree\u001b[0m\u001b[0;34m(\u001b[0m\u001b[0msample_tree\u001b[0m\u001b[0;34m,\u001b[0m \u001b[0mself\u001b[0m\u001b[0;34m.\u001b[0m\u001b[0mbijector\u001b[0m\u001b[0;34m)\u001b[0m\u001b[0;34m\u001b[0m\u001b[0;34m\u001b[0m\u001b[0m\n\u001b[0;32m---> 93\u001b[0;31m             \u001b[0mlog_likelihood\u001b[0m \u001b[0;34m=\u001b[0m \u001b[0mself\u001b[0m\u001b[0;34m.\u001b[0m\u001b[0mget_log_likelihood\u001b[0m\u001b[0;34m(\u001b[0m\u001b[0mtransformed_sample_tree\u001b[0m\u001b[0;34m,\u001b[0m \u001b[0maux\u001b[0m\u001b[0;34m,\u001b[0m \u001b[0mbatch\u001b[0m\u001b[0;34m,\u001b[0m \u001b[0;34m**\u001b[0m\u001b[0mparams\u001b[0m\u001b[0;34m)\u001b[0m\u001b[0;34m\u001b[0m\u001b[0;34m\u001b[0m\u001b[0m\n\u001b[0m\u001b[1;32m     94\u001b[0m             \u001b[0mlog_likelihood\u001b[0m \u001b[0;34m=\u001b[0m \u001b[0;34m(\u001b[0m\u001b[0mlog_likelihood\u001b[0m \u001b[0;34m/\u001b[0m \u001b[0mlen\u001b[0m\u001b[0;34m(\u001b[0m\u001b[0mbatch\u001b[0m\u001b[0;34m)\u001b[0m\u001b[0;34m)\u001b[0m \u001b[0;34m*\u001b[0m \u001b[0mdata_size\u001b[0m  \u001b[0;31m# normalize by data size\u001b[0m\u001b[0;34m\u001b[0m\u001b[0;34m\u001b[0m\u001b[0m\n\u001b[1;32m     95\u001b[0m             \u001b[0;32mreturn\u001b[0m \u001b[0;34m(\u001b[0m\u001b[0mq_log_prob\u001b[0m \u001b[0;34m-\u001b[0m \u001b[0mp_log_prob\u001b[0m \u001b[0;34m-\u001b[0m \u001b[0mlog_likelihood\u001b[0m\u001b[0;34m)\u001b[0m \u001b[0;34m/\u001b[0m \u001b[0mdata_size\u001b[0m\u001b[0;34m\u001b[0m\u001b[0;34m\u001b[0m\u001b[0m\n",
            "\u001b[0;32m/tmp/ipykernel_14244/1446731054.py\u001b[0m in \u001b[0;36mget_log_likelihood\u001b[0;34m(latent_sample, data, aux, **kwargs)\u001b[0m\n\u001b[1;32m     11\u001b[0m \u001b[0;32mdef\u001b[0m \u001b[0mget_log_likelihood\u001b[0m\u001b[0;34m(\u001b[0m\u001b[0mlatent_sample\u001b[0m\u001b[0;34m,\u001b[0m\u001b[0mdata\u001b[0m\u001b[0;34m,\u001b[0m\u001b[0maux\u001b[0m\u001b[0;34m,\u001b[0m \u001b[0;34m**\u001b[0m\u001b[0mkwargs\u001b[0m\u001b[0;34m)\u001b[0m\u001b[0;34m:\u001b[0m\u001b[0;34m\u001b[0m\u001b[0;34m\u001b[0m\u001b[0m\n\u001b[1;32m     12\u001b[0m     \u001b[0mfrozen_params\u001b[0m \u001b[0;34m=\u001b[0m \u001b[0mfreeze\u001b[0m\u001b[0;34m(\u001b[0m\u001b[0mlatent_sample\u001b[0m\u001b[0;34m)\u001b[0m\u001b[0;34m\u001b[0m\u001b[0;34m\u001b[0m\u001b[0m\n\u001b[0;32m---> 13\u001b[0;31m     \u001b[0mlogit\u001b[0m \u001b[0;34m=\u001b[0m \u001b[0mmlp\u001b[0m\u001b[0;34m.\u001b[0m\u001b[0mapply\u001b[0m\u001b[0;34m(\u001b[0m\u001b[0mfrozen_params\u001b[0m\u001b[0;34m,\u001b[0m \u001b[0maux\u001b[0m\u001b[0;34m[\u001b[0m\u001b[0;34m'X'\u001b[0m\u001b[0;34m]\u001b[0m\u001b[0;34m)\u001b[0m\u001b[0;34m\u001b[0m\u001b[0;34m\u001b[0m\u001b[0m\n\u001b[0m\u001b[1;32m     14\u001b[0m     \u001b[0;32mdef\u001b[0m \u001b[0msigmoid\u001b[0m\u001b[0;34m(\u001b[0m\u001b[0mx\u001b[0m\u001b[0;34m,\u001b[0m \u001b[0mscale\u001b[0m\u001b[0;34m=\u001b[0m\u001b[0;36m100\u001b[0m\u001b[0;34m)\u001b[0m\u001b[0;34m:\u001b[0m\u001b[0;34m\u001b[0m\u001b[0;34m\u001b[0m\u001b[0m\n\u001b[1;32m     15\u001b[0m         \u001b[0;32mreturn\u001b[0m \u001b[0;36m0.5\u001b[0m \u001b[0;34m*\u001b[0m \u001b[0;34m(\u001b[0m\u001b[0mjnp\u001b[0m\u001b[0;34m.\u001b[0m\u001b[0mtanh\u001b[0m\u001b[0;34m(\u001b[0m\u001b[0mx\u001b[0m \u001b[0;34m*\u001b[0m \u001b[0mscale\u001b[0m \u001b[0;34m/\u001b[0m \u001b[0;36m2\u001b[0m\u001b[0;34m)\u001b[0m \u001b[0;34m+\u001b[0m \u001b[0;36m1\u001b[0m\u001b[0;34m)\u001b[0m\u001b[0;34m\u001b[0m\u001b[0;34m\u001b[0m\u001b[0m\n",
            "\u001b[0;32m~/anaconda3/envs/srip/lib/python3.7/site-packages/jax/_src/numpy/lax_numpy.py\u001b[0m in \u001b[0;36m_rewriting_take\u001b[0;34m(arr, idx, indices_are_sorted, unique_indices, mode, fill_value)\u001b[0m\n\u001b[1;32m   3538\u001b[0m     \u001b[0;32mreturn\u001b[0m \u001b[0m_getslice\u001b[0m\u001b[0;34m(\u001b[0m\u001b[0marr\u001b[0m\u001b[0;34m,\u001b[0m \u001b[0mstart\u001b[0m\u001b[0;34m,\u001b[0m \u001b[0mstop\u001b[0m\u001b[0;34m)\u001b[0m\u001b[0;34m\u001b[0m\u001b[0;34m\u001b[0m\u001b[0m\n\u001b[1;32m   3539\u001b[0m \u001b[0;34m\u001b[0m\u001b[0m\n\u001b[0;32m-> 3540\u001b[0;31m   \u001b[0mtreedef\u001b[0m\u001b[0;34m,\u001b[0m \u001b[0mstatic_idx\u001b[0m\u001b[0;34m,\u001b[0m \u001b[0mdynamic_idx\u001b[0m \u001b[0;34m=\u001b[0m \u001b[0m_split_index_for_jit\u001b[0m\u001b[0;34m(\u001b[0m\u001b[0midx\u001b[0m\u001b[0;34m,\u001b[0m \u001b[0marr\u001b[0m\u001b[0;34m.\u001b[0m\u001b[0mshape\u001b[0m\u001b[0;34m)\u001b[0m\u001b[0;34m\u001b[0m\u001b[0;34m\u001b[0m\u001b[0m\n\u001b[0m\u001b[1;32m   3541\u001b[0m   return _gather(arr, treedef, static_idx, dynamic_idx, indices_are_sorted,\n\u001b[1;32m   3542\u001b[0m                  unique_indices, mode, fill_value)\n",
            "\u001b[0;32m~/anaconda3/envs/srip/lib/python3.7/site-packages/jax/_src/numpy/lax_numpy.py\u001b[0m in \u001b[0;36m_split_index_for_jit\u001b[0;34m(idx, shape)\u001b[0m\n\u001b[1;32m   3613\u001b[0m   \"\"\"\n\u001b[1;32m   3614\u001b[0m   \u001b[0;31m# Convert list indices to tuples in cases (deprecated by NumPy.)\u001b[0m\u001b[0;34m\u001b[0m\u001b[0;34m\u001b[0m\u001b[0;34m\u001b[0m\u001b[0m\n\u001b[0;32m-> 3615\u001b[0;31m   \u001b[0midx\u001b[0m \u001b[0;34m=\u001b[0m \u001b[0m_eliminate_deprecated_list_indexing\u001b[0m\u001b[0;34m(\u001b[0m\u001b[0midx\u001b[0m\u001b[0;34m)\u001b[0m\u001b[0;34m\u001b[0m\u001b[0;34m\u001b[0m\u001b[0m\n\u001b[0m\u001b[1;32m   3616\u001b[0m \u001b[0;34m\u001b[0m\u001b[0m\n\u001b[1;32m   3617\u001b[0m   \u001b[0;31m# Expand any (concrete) boolean indices. We can then use advanced integer\u001b[0m\u001b[0;34m\u001b[0m\u001b[0;34m\u001b[0m\u001b[0;34m\u001b[0m\u001b[0m\n",
            "\u001b[0;32m~/anaconda3/envs/srip/lib/python3.7/site-packages/jax/_src/numpy/lax_numpy.py\u001b[0m in \u001b[0;36m_eliminate_deprecated_list_indexing\u001b[0;34m(idx)\u001b[0m\n\u001b[1;32m   3893\u001b[0m                \u001b[0;34m\"use `arr[array(seq)]` instead of `arr[seq]`. \"\u001b[0m\u001b[0;34m\u001b[0m\u001b[0;34m\u001b[0m\u001b[0m\n\u001b[1;32m   3894\u001b[0m                \"See https://github.com/google/jax/issues/4564 for more information.\")\n\u001b[0;32m-> 3895\u001b[0;31m       \u001b[0;32mraise\u001b[0m \u001b[0mTypeError\u001b[0m\u001b[0;34m(\u001b[0m\u001b[0mmsg\u001b[0m\u001b[0;34m)\u001b[0m\u001b[0;34m\u001b[0m\u001b[0;34m\u001b[0m\u001b[0m\n\u001b[0m\u001b[1;32m   3896\u001b[0m     \u001b[0;32melse\u001b[0m\u001b[0;34m:\u001b[0m\u001b[0;34m\u001b[0m\u001b[0;34m\u001b[0m\u001b[0m\n\u001b[1;32m   3897\u001b[0m       \u001b[0midx\u001b[0m \u001b[0;34m=\u001b[0m \u001b[0;34m(\u001b[0m\u001b[0midx\u001b[0m\u001b[0;34m,\u001b[0m\u001b[0;34m)\u001b[0m\u001b[0;34m\u001b[0m\u001b[0;34m\u001b[0m\u001b[0m\n",
            "\u001b[0;31mTypeError\u001b[0m: Using a non-tuple sequence for multidimensional indexing is not allowed; use `arr[tuple(seq)]` instead of `arr[seq]`. See https://github.com/google/jax/issues/4564 for more information."
          ]
        }
      ],
      "source": [
        "%%time\n",
        "tx = optax.adam(learning_rate=0.01)\n",
        "seed1 = jax.random.PRNGKey(4)\n",
        "seed2 = jax.random.PRNGKey(100)\n",
        "\n",
        "loss_fn = partial(model.loss_fn, aux={\"X\": X_train}, batch=y_train, data_size=len(y_train), n_samples = 100)\n",
        "results = train(\n",
        "    loss_fn,\n",
        "    params,\n",
        "    n_epochs=3000,\n",
        "    optimizer=tx,\n",
        "    seed=seed2,\n",
        "    return_args={\"losses\"}\n",
        ")"
      ]
    },
    {
      "cell_type": "code",
      "execution_count": null,
      "id": "6816bd94",
      "metadata": {},
      "outputs": [],
      "source": []
    }
  ],
  "metadata": {
    "colab": {
      "name": "makemoons_comparison.ipynb",
      "provenance": []
    },
    "kernelspec": {
      "display_name": "Python 3 (ipykernel)",
      "language": "python",
      "name": "python3"
    },
    "language_info": {
      "codemirror_mode": {
        "name": "ipython",
        "version": 3
      },
      "file_extension": ".py",
      "mimetype": "text/x-python",
      "name": "python",
      "nbconvert_exporter": "python",
      "pygments_lexer": "ipython3",
      "version": "3.7.13"
    },
    "vscode": {
      "interpreter": {
        "hash": "31cf91725cfa433ed6f8f914e51425bfdb4b966b135703f258bb56c1780b6111"
      }
    }
  },
  "nbformat": 4,
  "nbformat_minor": 5
}
