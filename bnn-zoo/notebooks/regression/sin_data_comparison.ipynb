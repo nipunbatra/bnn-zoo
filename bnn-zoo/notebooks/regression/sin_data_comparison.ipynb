{
 "cells": [
  {
   "cell_type": "code",
   "execution_count": 1,
   "metadata": {},
   "outputs": [],
   "source": [
    "import os\n",
    "os.chdir(\"../../\")\n",
    "os.environ['LATEXIFY']=str(1)\n",
    "os.environ['FIG_DIR']='figures/sindata'\n",
    "from probml_utils import savefig, latexify\n",
    "latexify(width_scale_factor=2.4, fig_height=2)"
   ]
  },
  {
   "cell_type": "code",
   "execution_count": 2,
   "metadata": {},
   "outputs": [
    {
     "name": "stderr",
     "output_type": "stream",
     "text": [
      "WARNING:absl:No GPU/TPU found, falling back to CPU. (Set TF_CPP_MIN_LOG_LEVEL=0 and rerun for more info.)\n"
     ]
    }
   ],
   "source": [
    "from models.gaussian_mlp import gmlp\n",
    "from models.mlp import mlp\n",
    "from utilities.fits import fit\n",
    "from utilities.gmm import gmm_mean_var\n",
    "from utilities.predict import predict\n",
    "from utilities import plot,errors\n"
   ]
  },
  {
   "cell_type": "code",
   "execution_count": 3,
   "metadata": {},
   "outputs": [],
   "source": [
    "try:\n",
    "  import GPy\n",
    "except ModuleNotFoundError:\n",
    "  %pip install GPy\n",
    "  import GPy\n",
    "\n",
    "from probml_utils.blackjax_utils import inference_loop\n",
    "import blackjax\n",
    "import flax\n",
    "from flax import linen as nn\n",
    "from flax.core import unfreeze\n",
    "import jax\n",
    "import jax.numpy as jnp\n",
    "import matplotlib.pyplot as plt\n",
    "import seaborn as sns\n",
    "from datasets import sin_data\n",
    "import tensorflow_probability.substrates.jax as tfp\n",
    "from jax import tree_map\n",
    "from jax.flatten_util import ravel_pytree\n",
    "import tensorflow_probability.substrates.jax as tfp\n",
    "tfd = tfp.distributions\n",
    "from functools import partial\n"
   ]
  },
  {
   "cell_type": "code",
   "execution_count": 4,
   "metadata": {},
   "outputs": [
    {
     "data": {
      "image/png": "[encoded data removed]",
      "text/plain": [
       "<Figure size 180x144 with 1 Axes>"
      ]
     },
     "metadata": {
      "needs_background": "light"
     },
     "output_type": "display_data"
    }
   ],
   "source": [
    "x_train, y_train, x_test, y_test = sin_data.load_data()\n",
    "x_linspace_test = jnp.linspace(-0.5, 1, 300).reshape(-1, 1)\n",
    "plot.plot_actualdata(x_train, y_train, x_test, y_test)"
   ]
  },
  {
   "cell_type": "markdown",
   "metadata": {},
   "source": [
    "## MLP"
   ]
  },
  {
   "cell_type": "code",
   "execution_count": 5,
   "metadata": {},
   "outputs": [],
   "source": [
    "mlp_model = mlp([32,16, 1], [nn.relu] * 2, [0] * 2)\n",
    "mlp_params = mlp_model.init(jax.random.PRNGKey(0), x_train, True)"
   ]
  },
  {
   "cell_type": "code",
   "execution_count": 6,
   "metadata": {},
   "outputs": [],
   "source": [
    "mlp_params, mlp_loss = fit(\n",
    "    mlp_model, mlp_params, x_train, y_train, True, learning_rate=0.001, epochs=2000\n",
    ")"
   ]
  },
  {
   "cell_type": "code",
   "execution_count": null,
   "metadata": {},
   "outputs": [],
   "source": []
  },
  {
   "cell_type": "code",
   "execution_count": 7,
   "metadata": {},
   "outputs": [
    {
     "name": "stderr",
     "output_type": "stream",
     "text": [
      " /home/summer2022/miniconda3/envs/env-00/lib/python3.10/site-packages/probml_utils/plotting.py:69: UserWarning:renaming figures/sindata/MLP.pdf to figures/sindata/MLP_latexified.pdf because LATEXIFY is True\n"
     ]
    },
    {
     "name": "stdout",
     "output_type": "stream",
     "text": [
      "saving image to figures/sindata/MLP_latexified.pdf\n",
      "Figure size: [2.5 2. ]\n"
     ]
    },
    {
     "data": {
      "image/png": "[encoded data removed]",
      "text/plain": [
       "<Figure size 180x144 with 1 Axes>"
      ]
     },
     "metadata": {
      "needs_background": "light"
     },
     "output_type": "display_data"
    }
   ],
   "source": [
    "n_points = 300\n",
    "y_hat = mlp_model.apply(mlp_params, x_linspace_test, True)\n",
    "y_hat_train = mlp_model.apply(mlp_params, x_train, True)\n",
    "y_hat_test = mlp_model.apply(mlp_params, x_test, True)\n",
    "y_hat = y_hat.reshape(n_points)\n",
    "loss_train = jnp.mean((y_train - y_hat_train) ** 2)\n",
    "loss_test  = jnp.mean((y_test- y_hat_test) ** 2)\n",
    "ax = plot.plot_prediction_reg(\n",
    "    x_train, y_train, x_test, y_test, x_linspace_test, y_hat, 0, y_min=-1,y_max=2,title=\n",
    "    f'Train {loss_train:.2f} Test {loss_test:.2f}'\n",
    ")\n",
    "\n",
    "savefig('MLP.pdf')"
   ]
  },
  {
   "cell_type": "markdown",
   "metadata": {},
   "source": [
    "## Gaussian MLP"
   ]
  },
  {
   "cell_type": "code",
   "execution_count": 8,
   "metadata": {},
   "outputs": [],
   "source": [
    "gmlp_model = gmlp(features=[32,16], activations=[nn.relu] * 2, dropout_rate=[0.01] * 2)"
   ]
  },
  {
   "cell_type": "code",
   "execution_count": 9,
   "metadata": {},
   "outputs": [],
   "source": [
    "gmlp_params = gmlp_model.init(jax.random.PRNGKey(11), x_train, True)"
   ]
  },
  {
   "cell_type": "code",
   "execution_count": 10,
   "metadata": {},
   "outputs": [],
   "source": [
    "gmlp_params, loss = fit(\n",
    "    gmlp_model,\n",
    "    gmlp_params,\n",
    "    x_train,\n",
    "    y_train,\n",
    "    deterministic=False,\n",
    "    learning_rate=0.001,\n",
    "    epochs=2000,\n",
    ")"
   ]
  },
  {
   "cell_type": "code",
   "execution_count": 11,
   "metadata": {},
   "outputs": [],
   "source": [
    "gmlp_mean, gmlp_sigma = gmlp_model.apply(gmlp_params, x_linspace_test, True)\n",
    "gmlp_mean_test, gmlp_sigma_test = gmlp_model.apply(gmlp_params, x_test, True)\n",
    "gmlp_mean_train, gmlp_sigma_train = gmlp_model.apply(gmlp_params, x_train, True)\n",
    "gmlp_train_loss = gmlp_model.loss_fn(gmlp_params, x_train,y_train, True, jax.random.PRNGKey(0))\n",
    "gmlp_test_loss =  gmlp_model.loss_fn(gmlp_params, x_test, y_test, True, jax.random.PRNGKey(0))"
   ]
  },
  {
   "cell_type": "code",
   "execution_count": 12,
   "metadata": {},
   "outputs": [
    {
     "name": "stderr",
     "output_type": "stream",
     "text": [
      " /home/summer2022/miniconda3/envs/env-00/lib/python3.10/site-packages/probml_utils/plotting.py:69: UserWarning:renaming figures/sindata/GMLP.pdf to figures/sindata/GMLP_latexified.pdf because LATEXIFY is True\n"
     ]
    },
    {
     "name": "stdout",
     "output_type": "stream",
     "text": [
      "saving image to figures/sindata/GMLP_latexified.pdf\n",
      "Figure size: [2.5 2. ]\n"
     ]
    },
    {
     "data": {
      "image/png": "[encoded data removed]",
      "text/plain": [
       "<Figure size 180x144 with 1 Axes>"
      ]
     },
     "metadata": {
      "needs_background": "light"
     },
     "output_type": "display_data"
    }
   ],
   "source": [
    "ax= plot.plot_prediction_reg(\n",
    "    x_train,\n",
    "    y_train,\n",
    "    x_test,\n",
    "    y_test,\n",
    "    x_linspace_test,\n",
    "    gmlp_mean,\n",
    "    gmlp_sigma,\n",
    "    f\"Train {gmlp_train_loss:.2f} Test {gmlp_test_loss:.2f}\",y_min=-1,y_max=2,\n",
    ")\n",
    "ax.legend(ncol=2,labelspacing=0.1,columnspacing=0.2,handletextpad=0.2,loc='upper left')\n",
    "# ax.set_axis_off()\n",
    "savefig('GMLP.pdf')"
   ]
  },
  {
   "cell_type": "code",
   "execution_count": 13,
   "metadata": {},
   "outputs": [
    {
     "name": "stderr",
     "output_type": "stream",
     "text": [
      " /home/summer2022/miniconda3/envs/env-00/lib/python3.10/site-packages/probml_utils/plotting.py:69: UserWarning:renaming figures/sindata/Calibration_GMLP.pdf to figures/sindata/Calibration_GMLP_latexified.pdf because LATEXIFY is True\n"
     ]
    },
    {
     "name": "stdout",
     "output_type": "stream",
     "text": [
      "saving image to figures/sindata/Calibration_GMLP_latexified.pdf\n",
      "Figure size: [2.5 2. ]\n"
     ]
    },
    {
     "data": {
      "image/png": "[encoded data removed]",
      "text/plain": [
       "<Figure size 180x144 with 1 Axes>"
      ]
     },
     "metadata": {
      "needs_background": "light"
     },
     "output_type": "display_data"
    }
   ],
   "source": [
    "fig, ax = plt.subplots(1)\n",
    "\n",
    "_, df_test = plot.calibration_regression(\n",
    "    gmlp_mean_test, gmlp_sigma_test, y_test,\"Test\", \"blue\", ax\n",
    ")\n",
    "_, df_train = plot.calibration_regression(\n",
    "    gmlp_mean_train, gmlp_sigma_train, y_train, \"Train\", \"black\", ax\n",
    ")\n",
    "ax.set_title(f\"Train {errors.ace(df_train):.2f} Test {errors.ace(df_test):.2f}\")\n",
    "k = jnp.arange(0, 1.1, 0.1)\n",
    "ax.plot(k,k,label='Ideal',color='Green')\n",
    "ax.legend()\n",
    "\n",
    "savefig('Calibration_GMLP.pdf')"
   ]
  },
  {
   "cell_type": "markdown",
   "metadata": {},
   "source": [
    "## Bootstrap"
   ]
  },
  {
   "cell_type": "code",
   "execution_count": 14,
   "metadata": {},
   "outputs": [],
   "source": [
    "params_list = []\n",
    "losses_list = []\n",
    "n_models = 10\n",
    "keys = jax.random.split(jax.random.PRNGKey(0),n_models)\n",
    "for i in range(n_models):\n",
    "    ids = jax.random.choice(keys[i], jnp.array(range(len(x_train))), (x_train.shape))\n",
    "    x, y = x_train[ids].reshape(-1,1), y_train[ids].reshape(-1,1)\n",
    "    params = gmlp_model.init(jax.random.PRNGKey(i), x_train, deterministic = True)\n",
    "    params, loss =  fit(gmlp_model, params, x, y, deterministic=True, learning_rate=0.003, epochs=2000)\n",
    "    params_list.append(params)\n",
    "    losses_list.append(loss)"
   ]
  },
  {
   "cell_type": "code",
   "execution_count": 15,
   "metadata": {},
   "outputs": [],
   "source": [
    "means_list,sigmas_list = predict(n_models, gmlp_model, params_list, x_linspace_test)\n",
    "bs_mean, bs_sigma = gmm_mean_var(means_list,sigmas_list)\n",
    "\n",
    "means_list,sigmas_list = predict(n_models, gmlp_model, params_list, x_test)\n",
    "bs_mean_test, bs_sigma_test= gmm_mean_var(means_list,sigmas_list)\n",
    "\n",
    "means_list,sigmas_list = predict(n_models, gmlp_model, params_list, x_train)\n",
    "bs_mean_train, bs_sigma_train = gmm_mean_var(means_list,sigmas_list)"
   ]
  },
  {
   "cell_type": "code",
   "execution_count": 16,
   "metadata": {},
   "outputs": [],
   "source": [
    "bs_mean, bs_sigma = bs_mean.reshape(n_points),bs_sigma.reshape(n_points)"
   ]
  },
  {
   "cell_type": "code",
   "execution_count": 17,
   "metadata": {},
   "outputs": [
    {
     "name": "stderr",
     "output_type": "stream",
     "text": [
      " /home/summer2022/miniconda3/envs/env-00/lib/python3.10/site-packages/probml_utils/plotting.py:69: UserWarning:renaming figures/sindata/Bootstrap.pdf to figures/sindata/Bootstrap_latexified.pdf because LATEXIFY is True\n"
     ]
    },
    {
     "name": "stdout",
     "output_type": "stream",
     "text": [
      "saving image to figures/sindata/Bootstrap_latexified.pdf\n",
      "Figure size: [2.5 2. ]\n"
     ]
    },
    {
     "data": {
      "image/png": "[encoded data removed]",
      "text/plain": [
       "<Figure size 180x144 with 1 Axes>"
      ]
     },
     "metadata": {
      "needs_background": "light"
     },
     "output_type": "display_data"
    }
   ],
   "source": [
    "ax =plot.plot_prediction_reg(x_train,y_train,x_test,y_test,x_linspace_test,bs_mean,bs_sigma,\n",
    " f\"Train {errors.loss(bs_mean_train,bs_sigma_train,y_train):.2f} Test {errors.loss(bs_mean_test,bs_sigma_test,y_test):.2f}\",y_min=-1,y_max=2)\n",
    "# ax.set_axis_off()\n",
    "savefig('Bootstrap.pdf')"
   ]
  },
  {
   "cell_type": "code",
   "execution_count": 18,
   "metadata": {},
   "outputs": [
    {
     "name": "stderr",
     "output_type": "stream",
     "text": [
      " /home/summer2022/miniconda3/envs/env-00/lib/python3.10/site-packages/probml_utils/plotting.py:69: UserWarning:renaming figures/sindata/Calibration_Bootstrap.pdf to figures/sindata/Calibration_Bootstrap_latexified.pdf because LATEXIFY is True\n"
     ]
    },
    {
     "name": "stdout",
     "output_type": "stream",
     "text": [
      "saving image to figures/sindata/Calibration_Bootstrap_latexified.pdf\n",
      "Figure size: [2.5 2. ]\n"
     ]
    },
    {
     "data": {
      "image/png": "[encoded data removed]",
      "text/plain": [
       "<Figure size 180x144 with 1 Axes>"
      ]
     },
     "metadata": {
      "needs_background": "light"
     },
     "output_type": "display_data"
    }
   ],
   "source": [
    "fig, ax = plt.subplots(1)\n",
    "_, df_test= plot.calibration_regression(\n",
    "    bs_mean_test, bs_sigma_test, y_test, \"Test\", \"blue\", ax\n",
    ")\n",
    "_, df_train = plot.calibration_regression(\n",
    "    bs_mean_train, bs_sigma_train, y_train, \"Train\", \"black\", ax\n",
    ")\n",
    "ax.set_title(f\"Train {errors.ace(df_train):.2f} Test {errors.ace(df_test):.2f}\")\n",
    "# ax.set_axis_off()\n",
    "savefig('Calibration_Bootstrap.pdf')"
   ]
  },
  {
   "cell_type": "markdown",
   "metadata": {},
   "source": [
    "## MC Dropout Gaussian MLP"
   ]
  },
  {
   "cell_type": "code",
   "execution_count": 19,
   "metadata": {},
   "outputs": [],
   "source": [
    "n_stacks = 100\n",
    "fn = lambda x, i: gmlp_model.apply(\n",
    "    gmlp_params, x, deterministic=False, rngs={\"dropout\": jax.random.PRNGKey(i)}\n",
    ")\n"
   ]
  },
  {
   "cell_type": "code",
   "execution_count": 20,
   "metadata": {},
   "outputs": [],
   "source": [
    "y_stacks = jax.vmap(fn, in_axes=(None, 0))(x_linspace_test, jnp.arange(n_stacks))\n",
    "mc_mean, mc_sigma = gmm_mean_var(y_stacks[0], y_stacks[1])\n",
    "y_stacks = jax.vmap(fn, in_axes=(None, 0))(x_test, jnp.arange(n_stacks))\n",
    "mc_mean_test, mc_sigma_test = gmm_mean_var(y_stacks[0], y_stacks[1])\n",
    "y_stacks = jax.vmap(fn, in_axes=(None, 0))(x_train, jnp.arange(n_stacks))\n",
    "mc_mean_train, mc_sigma_train = gmm_mean_var(y_stacks[0], y_stacks[1])"
   ]
  },
  {
   "cell_type": "code",
   "execution_count": 21,
   "metadata": {},
   "outputs": [
    {
     "name": "stderr",
     "output_type": "stream",
     "text": [
      " /home/summer2022/miniconda3/envs/env-00/lib/python3.10/site-packages/probml_utils/plotting.py:69: UserWarning:renaming figures/sindata/Calibration_MC.pdf to figures/sindata/Calibration_MC_latexified.pdf because LATEXIFY is True\n"
     ]
    },
    {
     "name": "stdout",
     "output_type": "stream",
     "text": [
      "saving image to figures/sindata/Calibration_MC_latexified.pdf\n",
      "Figure size: [2.5 2. ]\n"
     ]
    },
    {
     "data": {
      "image/png": "[encoded data removed]",
      "text/plain": [
       "<Figure size 180x144 with 1 Axes>"
      ]
     },
     "metadata": {
      "needs_background": "light"
     },
     "output_type": "display_data"
    }
   ],
   "source": [
    "fig, ax = plt.subplots(1)\n",
    "_, df_test = plot.calibration_regression(\n",
    "    mc_mean_test, mc_sigma_test, y_test, \"Test\", \"blue\", ax\n",
    ")\n",
    "_, df_train = plot.calibration_regression(\n",
    "    mc_mean_train, mc_sigma_train, y_train, \"Train\", \"black\", ax\n",
    ")\n",
    "ax.set_title(f\"Train {errors.ace(df_train):.2f} Test {errors.ace(df_test):.2f}\")\n",
    "savefig(\"Calibration_MC.pdf\")"
   ]
  },
  {
   "cell_type": "code",
   "execution_count": 22,
   "metadata": {},
   "outputs": [
    {
     "name": "stdout",
     "output_type": "stream",
     "text": [
      "saving image to figures/sindata/MC_Dropout_latexified.pdf\n",
      "Figure size: [2.5 2. ]\n"
     ]
    },
    {
     "name": "stderr",
     "output_type": "stream",
     "text": [
      " /home/summer2022/miniconda3/envs/env-00/lib/python3.10/site-packages/probml_utils/plotting.py:69: UserWarning:renaming figures/sindata/MC_Dropout.pdf to figures/sindata/MC_Dropout_latexified.pdf because LATEXIFY is True\n"
     ]
    },
    {
     "data": {
      "image/png": "[encoded data removed]",
      "text/plain": [
       "<Figure size 180x144 with 1 Axes>"
      ]
     },
     "metadata": {
      "needs_background": "light"
     },
     "output_type": "display_data"
    }
   ],
   "source": [
    "mc_mean, mc_sigma = mc_mean.reshape(n_points), mc_sigma.reshape(n_points)\n",
    "plot.plot_prediction_reg(\n",
    "    x_train,\n",
    "    y_train,\n",
    "    x_test,\n",
    "    y_test,\n",
    "    x_linspace_test,\n",
    "    mc_mean,\n",
    "    mc_sigma,\n",
    "    f\"Train {errors.loss(mc_mean_train,mc_sigma_train,y_train):.2f} Test {errors.loss(mc_mean_test,mc_sigma_test,y_test):.2f}\",y_min=-1,y_max=2\n",
    ")\n",
    "savefig('MC_Dropout.pdf')"
   ]
  },
  {
   "cell_type": "markdown",
   "metadata": {},
   "source": [
    "## Deep Ensemble Gaussian MLP"
   ]
  },
  {
   "cell_type": "code",
   "execution_count": 24,
   "metadata": {},
   "outputs": [],
   "source": [
    "params_list = []\n",
    "losses_list = []\n",
    "n_models = 5\n",
    "for i in range(n_models):\n",
    "    params = gmlp_model.init(jax.random.PRNGKey(4*i), x_train, deterministic=True)\n",
    "    params, loss = fit(\n",
    "        gmlp_model,\n",
    "        params,\n",
    "        x_train,\n",
    "        y_train,\n",
    "        deterministic=True,\n",
    "        learning_rate=0.001,\n",
    "        epochs=2000,\n",
    "    )\n",
    "    params_list.append(params)\n",
    "    losses_list.append(loss)"
   ]
  },
  {
   "cell_type": "code",
   "execution_count": 25,
   "metadata": {},
   "outputs": [],
   "source": [
    "means_list, sigmas_list = predict(n_models, gmlp_model, params_list, x_linspace_test)\n",
    "de_mean, de_sigma = gmm_mean_var(means_list, sigmas_list)\n",
    "means_list, sigmas_list = predict(n_models, gmlp_model, params_list, x_test)\n",
    "de_mean_test, de_sigma_test = gmm_mean_var(means_list, sigmas_list)\n",
    "means_list, sigmas_list = predict(n_models, gmlp_model, params_list, x_train)\n",
    "de_mean_train, de_sigma_train = gmm_mean_var(means_list, sigmas_list)"
   ]
  },
  {
   "cell_type": "code",
   "execution_count": 26,
   "metadata": {},
   "outputs": [
    {
     "name": "stdout",
     "output_type": "stream",
     "text": [
      "saving image to figures/sindata/Deep Ensemble_latexified.pdf\n",
      "Figure size: [2.5 2. ]\n"
     ]
    },
    {
     "name": "stderr",
     "output_type": "stream",
     "text": [
      " /home/summer2022/miniconda3/envs/env-00/lib/python3.10/site-packages/probml_utils/plotting.py:69: UserWarning:renaming figures/sindata/Deep Ensemble.pdf to figures/sindata/Deep Ensemble_latexified.pdf because LATEXIFY is True\n"
     ]
    },
    {
     "data": {
      "image/png": "[encoded data removed]",
      "text/plain": [
       "<Figure size 180x144 with 1 Axes>"
      ]
     },
     "metadata": {
      "needs_background": "light"
     },
     "output_type": "display_data"
    }
   ],
   "source": [
    "de_mean, de_sigma = de_mean.reshape(n_points), de_sigma.reshape(n_points)\n",
    "plot.plot_prediction_reg(\n",
    "    x_train,\n",
    "    y_train,\n",
    "    x_test,\n",
    "    y_test,\n",
    "    x_linspace_test,\n",
    "    de_mean,\n",
    "    de_sigma,\n",
    "     f\"Train {errors.loss(de_mean_train,de_sigma_train,y_train):.2f} Test {errors.loss(de_mean_test,de_sigma_test,y_test):.2f}\",\n",
    "y_min=-1,y_max=2\n",
    ")\n",
    "savefig('Deep Ensemble.pdf')"
   ]
  },
  {
   "cell_type": "code",
   "execution_count": 27,
   "metadata": {},
   "outputs": [
    {
     "name": "stderr",
     "output_type": "stream",
     "text": [
      " /home/summer2022/miniconda3/envs/env-00/lib/python3.10/site-packages/probml_utils/plotting.py:69: UserWarning:renaming figures/sindata/Calibration_GMLP Deep Ensemble.pdf to figures/sindata/Calibration_GMLP Deep Ensemble_latexified.pdf because LATEXIFY is True\n"
     ]
    },
    {
     "name": "stdout",
     "output_type": "stream",
     "text": [
      "saving image to figures/sindata/Calibration_GMLP Deep Ensemble_latexified.pdf\n",
      "Figure size: [2.5 2. ]\n"
     ]
    },
    {
     "data": {
      "image/png": "[encoded data removed]",
      "text/plain": [
       "<Figure size 180x144 with 1 Axes>"
      ]
     },
     "metadata": {
      "needs_background": "light"
     },
     "output_type": "display_data"
    }
   ],
   "source": [
    "fig, ax = plt.subplots(1)\n",
    "_, df_test= plot.calibration_regression(\n",
    "    de_mean_test, de_sigma_test, y_test, \"Test\", \"blue\", ax\n",
    ")\n",
    "_, df_train = plot.calibration_regression(\n",
    "    de_mean_train, de_sigma_train, y_train, \"Train\", \"black\", ax\n",
    ")\n",
    "ax.set_title(f\"Train {errors.ace(df_train):.2f} Test {errors.ace(df_test):.2f}\")\n",
    "savefig('Calibration_GMLP Deep Ensemble.pdf')"
   ]
  },
  {
   "cell_type": "code",
   "execution_count": 28,
   "metadata": {},
   "outputs": [],
   "source": [
    "key = jax.random.PRNGKey(42)\n",
    "sigmaf = 1.0\n",
    "len_scale = 1.0\n",
    "kernel = GPy.kern.RBF(1, sigmaf, len_scale)"
   ]
  },
  {
   "cell_type": "code",
   "execution_count": 29,
   "metadata": {},
   "outputs": [
    {
     "data": {
      "application/vnd.jupyter.widget-view+json": {
       "model_id": "caf06ff96a674dd88694d33ba36fab6f",
       "version_major": 2,
       "version_minor": 0
      },
      "text/plain": [
       "HBox(children=(VBox(children=(IntProgress(value=0, max=1000), HTML(value=''))), Box(children=(HTML(value=''),)…"
      ]
     },
     "metadata": {},
     "output_type": "display_data"
    },
    {
     "name": "stdout",
     "output_type": "stream",
     "text": [
      "Optimization restart 1/5, f = -114.02371215820312\n",
      "Optimization restart 2/5, f = -114.02371215820312\n",
      "Optimization restart 3/5, f = -114.02366638183594\n",
      "Optimization restart 4/5, f = -114.02371978759766\n",
      "Optimization restart 5/5, f = -114.02371215820312\n"
     ]
    },
    {
     "data": {
      "text/plain": [
       "[<paramz.optimization.optimization.opt_lbfgsb at 0x7f109819e320>,\n",
       " <paramz.optimization.optimization.opt_lbfgsb at 0x7f10981b2950>,\n",
       " <paramz.optimization.optimization.opt_lbfgsb at 0x7f10982675b0>,\n",
       " <paramz.optimization.optimization.opt_lbfgsb at 0x7f10981b32e0>,\n",
       " <paramz.optimization.optimization.opt_lbfgsb at 0x7f10981b3190>,\n",
       " <paramz.optimization.optimization.opt_lbfgsb at 0x7f10981b0a00>]"
      ]
     },
     "execution_count": 29,
     "metadata": {},
     "output_type": "execute_result"
    }
   ],
   "source": [
    "# %%capture\n",
    "model_gp = GPy.models.GPRegression(x_train, y_train, kernel, normalizer=False)\n",
    "model_gp.Gaussian_noise = 1.0\n",
    "model_gp.optimize(messages=True)\n",
    "model_gp.optimize_restarts(num_restarts=5)"
   ]
  },
  {
   "cell_type": "code",
   "execution_count": 30,
   "metadata": {},
   "outputs": [
    {
     "name": "stderr",
     "output_type": "stream",
     "text": [
      " /home/summer2022/miniconda3/envs/env-00/lib/python3.10/site-packages/jax/_src/numpy/lax_numpy.py:4459: UserWarning:Explicitly requested dtype float requested in astype is not available, and will be truncated to dtype float32. To enable more dtypes, set the jax_enable_x64 configuration option or the JAX_ENABLE_X64 shell environment variable. See https://github.com/google/jax#current-gotchas for more.\n"
     ]
    }
   ],
   "source": [
    "# %%capture\n",
    "mu_gp, cov_gp = model_gp.predict(x_linspace_test)\n",
    "mu_gp_train, cov_gp_train = model_gp.predict(x_train)\n",
    "mu_gp_test, cov_gp_test = model_gp.predict(x_test)\n",
    "mu_gp = mu_gp.reshape(n_points)\n",
    "sigma_gp = jnp.sqrt(cov_gp).reshape(n_points)"
   ]
  },
  {
   "cell_type": "code",
   "execution_count": 31,
   "metadata": {},
   "outputs": [
    {
     "name": "stderr",
     "output_type": "stream",
     "text": [
      " /home/summer2022/miniconda3/envs/env-00/lib/python3.10/site-packages/probml_utils/plotting.py:69: UserWarning:renaming figures/sindata/calibration_gp.pdf to figures/sindata/calibration_gp_latexified.pdf because LATEXIFY is True\n"
     ]
    },
    {
     "name": "stdout",
     "output_type": "stream",
     "text": [
      "saving image to figures/sindata/calibration_gp_latexified.pdf\n",
      "Figure size: [2.5 2. ]\n"
     ]
    },
    {
     "data": {
      "image/png": "[encoded data removed]",
      "text/plain": [
       "<Figure size 180x144 with 1 Axes>"
      ]
     },
     "metadata": {
      "needs_background": "light"
     },
     "output_type": "display_data"
    }
   ],
   "source": [
    "fig, ax = plt.subplots(1)\n",
    "_, df_test = plot.calibration_regression(\n",
    "    mu_gp_test.reshape(-1), jnp.sqrt(cov_gp_test).reshape(-1), y_test, \"Test\", \"blue\", ax\n",
    ")\n",
    "_, df_train = plot.calibration_regression(\n",
    "    mu_gp_train.reshape(-1),\n",
    "    jnp.sqrt(cov_gp_train).reshape(-1),\n",
    "    y_train,\n",
    "    \"Train\",\n",
    "    'black',\n",
    "    ax=ax,\n",
    ")\n",
    "ax.set_title(f\"Train {errors.ace(df_train):.2f} Test {errors.ace(df_test):.2f}\")\n",
    "savefig('calibration_gp.pdf')"
   ]
  },
  {
   "cell_type": "code",
   "execution_count": 32,
   "metadata": {},
   "outputs": [
    {
     "name": "stderr",
     "output_type": "stream",
     "text": [
      " /home/summer2022/miniconda3/envs/env-00/lib/python3.10/site-packages/probml_utils/plotting.py:69: UserWarning:renaming figures/sindata/GP.pdf to figures/sindata/GP_latexified.pdf because LATEXIFY is True\n"
     ]
    },
    {
     "name": "stdout",
     "output_type": "stream",
     "text": [
      "saving image to figures/sindata/GP_latexified.pdf\n",
      "Figure size: [2.5 2. ]\n"
     ]
    },
    {
     "data": {
      "image/png": "[encoded data removed]",
      "text/plain": [
       "<Figure size 180x144 with 1 Axes>"
      ]
     },
     "metadata": {
      "needs_background": "light"
     },
     "output_type": "display_data"
    }
   ],
   "source": [
    "plot.plot_prediction_reg(\n",
    "    x_train,\n",
    "    y_train,\n",
    "    x_test,\n",
    "    y_test,\n",
    "    x_linspace_test,\n",
    "    mu_gp,\n",
    "    sigma_gp,\n",
    "     f\"Train {errors.loss(mu_gp_train,jnp.sqrt(cov_gp_train),y_train):.2f} Test {errors.loss(mu_gp_test,jnp.sqrt(cov_gp_test),y_test):.2f}\",\n",
    "y_min=-1,y_max=2\n",
    ")\n",
    "savefig('GP.pdf')"
   ]
  },
  {
   "cell_type": "code",
   "execution_count": 33,
   "metadata": {},
   "outputs": [
    {
     "data": {
      "text/plain": [
       "DeviceArray(-888.8474, dtype=float32)"
      ]
     },
     "execution_count": 33,
     "metadata": {},
     "output_type": "execute_result"
    }
   ],
   "source": [
    "def bnn_log_joint(params, X, y, model):\n",
    "    mean, sigma = model.apply(params, X, deterministic=True)\n",
    "\n",
    "    flatten_params, _ = ravel_pytree(params)\n",
    "    log_prior = tfd.Normal(0.0, 2.0).log_prob(flatten_params).sum()\n",
    "    # log_likelihood = tfd.Bernoulli(logits=logits).log_prob(y).sum()\n",
    "    log_likelihood = tfd.Normal(mean, sigma).log_prob(y.reshape((-1,))).sum()\n",
    "    log_joint = log_prior + log_likelihood\n",
    "    return log_joint\n",
    "\n",
    "\n",
    "bnn_log_joint_partial = partial(bnn_log_joint, X=x_train, y=y_train, model=gmlp_model)\n",
    "bnn_log_joint_partial(params)"
   ]
  },
  {
   "cell_type": "code",
   "execution_count": 34,
   "metadata": {},
   "outputs": [],
   "source": [
    "num_warmup = 3000\n",
    "potential = bnn_log_joint_partial\n",
    "key = jax.random.PRNGKey(314)\n",
    "key_samples, key_init, key_warmup, key = jax.random.split(key, 4)\n",
    "adapt = blackjax.window_adaptation(blackjax.nuts, potential, num_warmup)\n",
    "final_state, kernel, _ = adapt.run(key_warmup, params)\n",
    "num_samples = 1000\n",
    "states, infos = inference_loop(key_samples, kernel, final_state, num_samples)"
   ]
  },
  {
   "cell_type": "code",
   "execution_count": 36,
   "metadata": {},
   "outputs": [],
   "source": [
    "def x_one_step(x):\n",
    "    def one_step(carry, state):\n",
    "        params_cur = state.position\n",
    "        mean, sigma = gmlp_model.apply(params_cur, x, deterministic=True)\n",
    "        return carry, (mean, sigma)\n",
    "    return one_step\n",
    "\n",
    "one_step_lin = x_one_step(x_linspace_test)\n",
    "one_step_test = x_one_step(x_test)\n",
    "one_step_train = x_one_step(x_train)\n",
    "_, (mean_stacks, sigma_stacks) = jax.lax.scan(one_step_lin, None, states)\n",
    "_, (mean_stacks_test, sigma_stacks_test) = jax.lax.scan(one_step_test, None, states)\n",
    "_, (mean_stacks_train, sigma_stacks_train) = jax.lax.scan(one_step_train, None, states)"
   ]
  },
  {
   "cell_type": "code",
   "execution_count": 37,
   "metadata": {},
   "outputs": [],
   "source": [
    "mean_mcmc, sigma_mcmc = gmm_mean_var(mean_stacks, sigma_stacks)\n",
    "mean_mcmc_test, sigma_mcmc_test = gmm_mean_var(mean_stacks_test, sigma_stacks_test)\n",
    "mean_mcmc_train, sigma_mcmc_train = gmm_mean_var(mean_stacks_train, sigma_stacks_train)"
   ]
  },
  {
   "cell_type": "code",
   "execution_count": 38,
   "metadata": {},
   "outputs": [
    {
     "name": "stderr",
     "output_type": "stream",
     "text": [
      " /home/summer2022/miniconda3/envs/env-00/lib/python3.10/site-packages/probml_utils/plotting.py:69: UserWarning:renaming figures/sindata/MCMC_calibration.pdf to figures/sindata/MCMC_calibration_latexified.pdf because LATEXIFY is True\n"
     ]
    },
    {
     "name": "stdout",
     "output_type": "stream",
     "text": [
      "saving image to figures/sindata/MCMC_calibration_latexified.pdf\n",
      "Figure size: [2.5 2. ]\n"
     ]
    },
    {
     "data": {
      "image/png": "[encoded data removed]",
      "text/plain": [
       "<Figure size 180x144 with 1 Axes>"
      ]
     },
     "metadata": {
      "needs_background": "light"
     },
     "output_type": "display_data"
    }
   ],
   "source": [
    "fig, ax = plt.subplots(1)\n",
    "_, df_test = plot.calibration_regression(\n",
    "    mean_mcmc_test, sigma_mcmc_test, y_test, \"Test\", \"blue\", ax\n",
    ")\n",
    "_, df_train = plot.calibration_regression(\n",
    "    mean_mcmc_train, sigma_mcmc_train, y_train, \"Train\", \"black\", ax\n",
    ")\n",
    "ax.set_title(f\"Train {errors.ace(df_train):.2f} Test {errors.ace(df_test):.2f}\")\n",
    "savefig('MCMC_calibration.pdf')"
   ]
  },
  {
   "cell_type": "code",
   "execution_count": 39,
   "metadata": {},
   "outputs": [
    {
     "name": "stderr",
     "output_type": "stream",
     "text": [
      " /home/summer2022/miniconda3/envs/env-00/lib/python3.10/site-packages/probml_utils/plotting.py:69: UserWarning:renaming figures/sindata/MCMC.pdf to figures/sindata/MCMC_latexified.pdf because LATEXIFY is True\n"
     ]
    },
    {
     "name": "stdout",
     "output_type": "stream",
     "text": [
      "saving image to figures/sindata/MCMC_latexified.pdf\n",
      "Figure size: [2.5 2. ]\n"
     ]
    },
    {
     "data": {
      "image/png": "[encoded data removed]",
      "text/plain": [
       "<Figure size 180x144 with 1 Axes>"
      ]
     },
     "metadata": {
      "needs_background": "light"
     },
     "output_type": "display_data"
    }
   ],
   "source": [
    "plot.plot_prediction_reg(\n",
    "    x_train,\n",
    "    y_train,\n",
    "    x_test,\n",
    "    y_test,\n",
    "    x_linspace_test,\n",
    "    mean_mcmc,\n",
    "    sigma_mcmc,\n",
    "    f\"Train {errors.loss(mean_mcmc_train,sigma_mcmc_train,y_train):.2f} Test {errors.loss(mean_mcmc_test,sigma_mcmc_test,y_test):.2f}\",\n",
    "y_min=-1,y_max=2\n",
    ")\n",
    "savefig('MCMC.pdf')"
   ]
  },
  {
   "cell_type": "code",
   "execution_count": 40,
   "metadata": {},
   "outputs": [
    {
     "name": "stdout",
     "output_type": "stream",
     "text": [
      "saving image to figures/sindata/empty_latexified.pdf\n",
      "Figure size: [2.5 2. ]\n"
     ]
    },
    {
     "data": {
      "image/png": "[encoded data removed]",
      "text/plain": [
       "<Figure size 180x144 with 1 Axes>"
      ]
     },
     "metadata": {
      "needs_background": "light"
     },
     "output_type": "display_data"
    }
   ],
   "source": [
    "plt.plot()\n",
    "sns.despine()\n",
    "plt.axis('off')\n",
    "savefig('empty')"
   ]
  },
  {
   "cell_type": "code",
   "execution_count": null,
   "metadata": {},
   "outputs": [],
   "source": []
  }
 ],
 "metadata": {
  "kernelspec": {
   "display_name": "Python 3.10.4 ('env-00')",
   "language": "python",
   "name": "python3"
  },
  "language_info": {
   "codemirror_mode": {
    "name": "ipython",
    "version": 3
   },
   "file_extension": ".py",
   "mimetype": "text/x-python",
   "name": "python",
   "nbconvert_exporter": "python",
   "pygments_lexer": "ipython3",
   "version": "3.10.4"
  },
  "vscode": {
   "interpreter": {
    "hash": "d1d8c77f09ee36b52e36a2a0ca7bf206edbe012965f6b1f404f5b7dde400380a"
   }
  }
 },
 "nbformat": 4,
 "nbformat_minor": 2
}
