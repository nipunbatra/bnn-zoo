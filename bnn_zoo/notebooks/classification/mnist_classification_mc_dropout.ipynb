{
 "cells": [
  {
   "cell_type": "code",
   "execution_count": null,
   "id": "rRs3cdaO5ii1",
   "metadata": {
    "id": "rRs3cdaO5ii1"
   },
   "outputs": [],
   "source": [
    "# %pip install --upgrade -q \"jax[tpu]>=0.2.16\" -f https://storage.googleapis.com/jax-releases/libtpu_releases.html\n",
    "# import jax.tools.colab_tpu\n",
    "# jax.tools.colab_tpu.setup_tpu()\n",
    "# jax.devices()"
   ]
  },
  {
   "cell_type": "code",
   "execution_count": null,
   "id": "b781dfc2",
   "metadata": {
    "id": "b781dfc2"
   },
   "outputs": [],
   "source": [
    "try :\n",
    "    import flax.linen as nn\n",
    "except:\n",
    "    %pip install -q flax\n",
    "    import flax.linen as nn\n",
    "\n",
    "from flax.core import unfreeze\n",
    "\n",
    "from flax.training import train_state \n",
    "\n",
    "import jax\n",
    "import jax.numpy as jnp\n",
    "from jax.config import config\n",
    "import optax\n",
    "\n",
    "import matplotlib.pyplot as plt\n",
    "import seaborn as sns\n",
    "from matplotlib.offsetbox import OffsetImage,AnnotationBbox\n",
    "\n",
    "try:\n",
    "    from probml_utils import latexify, savefig, is_latexify_enabled\n",
    "except ModuleNotFoundError:\n",
    "    %pip install -qq git+https://github.com/probml/probml-utils.git\n",
    "    from probml_utils import latexify, savefig, is_latexify_enabled\n",
    "\n",
    "from scipy.ndimage import rotate\n",
    "\n",
    "import tensorflow.keras.datasets as tfds\n",
    "# %pip install tensorflow_probability\n",
    "import tensorflow_probability as tfp\n",
    "\n",
    "from functools import partial\n",
    "from tqdm import tqdm\n",
    "import pandas as pd"
   ]
  },
  {
   "cell_type": "code",
   "execution_count": null,
   "id": "AosMkGEk-LVP",
   "metadata": {
    "colab": {
     "base_uri": "https://localhost:8080/"
    },
    "id": "AosMkGEk-LVP",
    "outputId": "fcffd943-e3c8-4bc0-fe7c-62d05122daee"
   },
   "outputs": [
    {
     "name": "stdout",
     "output_type": "stream",
     "text": [
      "env: LATEXIFY=1\n",
      "env: FIG_DIR=\"figures/\"\n"
     ]
    }
   ],
   "source": [
    "%env LATEXIFY= 1\n",
    "%env FIG_DIR=\"figures/\""
   ]
  },
  {
   "cell_type": "code",
   "execution_count": null,
   "id": "1mZUQUwE-ZJJ",
   "metadata": {
    "colab": {
     "base_uri": "https://localhost:8080/"
    },
    "id": "1mZUQUwE-ZJJ",
    "outputId": "cb2de41e-f931-4eca-a162-d85a12913652"
   },
   "outputs": [
    {
     "data": {
      "text/plain": [
       "True"
      ]
     },
     "execution_count": 41,
     "metadata": {},
     "output_type": "execute_result"
    }
   ],
   "source": [
    "is_latexify_enabled()"
   ]
  },
  {
   "cell_type": "code",
   "execution_count": null,
   "id": "F1KKkkPzDqUd",
   "metadata": {
    "id": "F1KKkkPzDqUd"
   },
   "outputs": [],
   "source": [
    "latexify(width_scale_factor=1, fig_height=2)"
   ]
  },
  {
   "cell_type": "code",
   "execution_count": null,
   "id": "dEfjED2FSwA2",
   "metadata": {
    "id": "dEfjED2FSwA2"
   },
   "outputs": [],
   "source": [
    "dist = tfp.distributions"
   ]
  },
  {
   "cell_type": "code",
   "execution_count": null,
   "id": "9BDJXK39UKhX",
   "metadata": {
    "id": "9BDJXK39UKhX"
   },
   "outputs": [],
   "source": [
    "config.update(\"jax_enable_x64\", True)"
   ]
  },
  {
   "cell_type": "code",
   "execution_count": null,
   "id": "5351b28e",
   "metadata": {
    "id": "5351b28e"
   },
   "outputs": [],
   "source": [
    "class LeNet(nn.Module):\n",
    "    @nn.compact\n",
    "    def __call__(self, x, deterministic):\n",
    "\n",
    "        # 1 layer\n",
    "        x = nn.Conv(features=6, kernel_size=(5, 5), name=\"conv2d_1\")(x)\n",
    "        # x = nn.tanh(x)\n",
    "        x = nn.relu(x)\n",
    "        x = nn.avg_pool(x, window_shape=(2, 2))\n",
    "\n",
    "        # 2 layer\n",
    "        x = nn.Conv(features=16, kernel_size=(5, 5), name=\"conv2d_2\")(x)\n",
    "        # x = nn.tanh(x)\n",
    "        x = nn.relu(x)\n",
    "        x = nn.avg_pool(x, window_shape=(2, 2))\n",
    "\n",
    "        # 3 layer\n",
    "        x = nn.Conv(features=120, kernel_size=(5, 5), name=\"conv2d_3\")(x)\n",
    "        # x = nn.tanh(x)\n",
    "        x = nn.relu(x)\n",
    "        x = nn.avg_pool(x, window_shape=(2, 2))\n",
    "\n",
    "        x = x.reshape((x.shape[0], -1))  # flatten\n",
    "        # 4 fully connected layer\n",
    "        x = nn.Dense(84, name=\"Dense_1_84\")(x)\n",
    "        # x = nn.tanh(x)\n",
    "        x = nn.relu(x)\n",
    "        x = nn.Dropout(rate=0.5, deterministic=deterministic)(x)\n",
    "\n",
    "        # 5 fully connected layer\n",
    "        x = nn.Dense(10, name=\"Dense_2_10\")(x)\n",
    "        # x = nn.softmax(x)\n",
    "\n",
    "        return x"
   ]
  },
  {
   "cell_type": "code",
   "execution_count": null,
   "id": "51c7bfdc",
   "metadata": {
    "id": "51c7bfdc"
   },
   "outputs": [],
   "source": [
    "def get_datasets():\n",
    "    train_dataset, test_dataset = tfds.mnist.load_data()\n",
    "    X_train, y_train = train_dataset\n",
    "    x_test, y_test = test_dataset\n",
    "\n",
    "    X_train = jnp.array(X_train / 255)\n",
    "    x_test = jnp.array(x_test / 255)\n",
    "\n",
    "    X_train = X_train[..., jnp.newaxis]\n",
    "    x_test = x_test[..., jnp.newaxis]\n",
    "\n",
    "    return [X_train, jnp.array(y_train)], [x_test, jnp.array(y_test)]"
   ]
  },
  {
   "cell_type": "code",
   "execution_count": null,
   "id": "fa5c3c30",
   "metadata": {
    "id": "fa5c3c30"
   },
   "outputs": [],
   "source": [
    "def cross_entropy_loss(params, x, y, deterministic, rng=jax.random.PRNGKey(0)):\n",
    "    labels_onehot = jax.nn.one_hot(y, num_classes=10)\n",
    "    logits = model.apply(params, x, deterministic=deterministic, rngs={\"dropout\": rng})\n",
    "    return (\n",
    "        jnp.mean(optax.softmax_cross_entropy(logits=logits, labels=labels_onehot)),\n",
    "        logits,\n",
    "    )"
   ]
  },
  {
   "cell_type": "code",
   "execution_count": null,
   "id": "b413f812",
   "metadata": {
    "id": "b413f812"
   },
   "outputs": [],
   "source": [
    "def fit(params, X, Y, batch_size, learning_rate=0.01, epochs=10, verbose=False):\n",
    "    # opt = optax.adamw(learning_rate=learning_rate)\n",
    "    opt = optax.sgd(learning_rate, 0.75)\n",
    "    opt_state = opt.init(params)\n",
    "\n",
    "    lg_fn = jax.value_and_grad(cross_entropy_loss, has_aux=True)\n",
    "\n",
    "    rng, _ = jax.random.split(jax.random.PRNGKey(0))\n",
    "    losses = []\n",
    "\n",
    "    train_ds_size = len(X)\n",
    "    steps_per_epoch = train_ds_size // batch_size\n",
    "\n",
    "    for i in range(epochs):\n",
    "        rng, _ = jax.random.split(rng)\n",
    "\n",
    "        @jax.jit\n",
    "        def one_step(params, x, y, opt_state, rng):\n",
    "            (loss_val, logits), grads = lg_fn(params, x, y, False, rng=rng)\n",
    "            updates, opt_state = opt.update(grads, opt_state, params)\n",
    "            params = optax.apply_updates(params, updates)\n",
    "            acc_val = jnp.mean(jnp.argmax(logits, -1) == y)\n",
    "            return params, opt_state, loss_val, logits, acc_val\n",
    "\n",
    "        # _ , rng = jax.random.split(rng)\n",
    "        perms = jax.random.permutation(rng, train_ds_size)\n",
    "        perms = perms[: steps_per_epoch * batch_size]  # skip incomplete batch\n",
    "        perms = perms.reshape((steps_per_epoch, batch_size))\n",
    "        accuracy = []\n",
    "        losses = []\n",
    "\n",
    "        for perm in perms:\n",
    "            rng, _ = jax.random.split(rng)\n",
    "            x, y = X[perm], Y[perm]\n",
    "            params, opt_state, loss_val, logits, acc_val = one_step(\n",
    "                params, x, y, opt_state, rng\n",
    "            )\n",
    "            losses.append(loss_val)\n",
    "            accuracy.append(acc_val)\n",
    "\n",
    "        # if verbose and i % (epochs/10) == 0:\n",
    "        print(\n",
    "            \"train epoch: %d, loss: %.4f, accuracy: %.2f\"\n",
    "            % (i, jnp.mean(jnp.array(losses)), jnp.mean(jnp.array(accuracy)))\n",
    "        )\n",
    "    return params, losses"
   ]
  },
  {
   "cell_type": "code",
   "execution_count": null,
   "id": "36bc0c7d",
   "metadata": {
    "id": "36bc0c7d"
   },
   "outputs": [],
   "source": [
    "train_ds, test_ds = get_datasets()\n",
    "X_train, y_train = train_ds\n",
    "x_test, y_test = test_ds"
   ]
  },
  {
   "cell_type": "code",
   "execution_count": null,
   "id": "3a3f64c6",
   "metadata": {
    "id": "3a3f64c6"
   },
   "outputs": [],
   "source": [
    "batch = 32\n",
    "rng = jax.random.PRNGKey(0)\n",
    "rng, init_rng = jax.random.split(rng)\n",
    "model = LeNet()\n",
    "params = model.init(init_rng, jnp.ones([1, 28, 28, 1]), deterministic=True)"
   ]
  },
  {
   "cell_type": "code",
   "execution_count": null,
   "id": "eab20c3d",
   "metadata": {
    "colab": {
     "base_uri": "https://localhost:8080/"
    },
    "id": "eab20c3d",
    "outputId": "8ac62dfd-ce31-4469-86f9-df66bd7e9745"
   },
   "outputs": [
    {
     "name": "stdout",
     "output_type": "stream",
     "text": [
      "train epoch: 0, loss: 0.3680, accuracy: 0.89\n",
      "train epoch: 1, loss: 0.1323, accuracy: 0.96\n",
      "train epoch: 2, loss: 0.0984, accuracy: 0.97\n",
      "train epoch: 3, loss: 0.0805, accuracy: 0.98\n",
      "train epoch: 4, loss: 0.0694, accuracy: 0.98\n",
      "train epoch: 5, loss: 0.0611, accuracy: 0.98\n",
      "train epoch: 6, loss: 0.0560, accuracy: 0.98\n",
      "train epoch: 7, loss: 0.0490, accuracy: 0.99\n",
      "train epoch: 8, loss: 0.0463, accuracy: 0.99\n",
      "train epoch: 9, loss: 0.0413, accuracy: 0.99\n"
     ]
    }
   ],
   "source": [
    "params, losses = fit(params, X_train, y_train, batch, learning_rate=0.003, epochs=10)"
   ]
  },
  {
   "cell_type": "code",
   "execution_count": null,
   "id": "EUnEKpcljMBv",
   "metadata": {
    "id": "EUnEKpcljMBv"
   },
   "outputs": [],
   "source": [
    "pd.to_pickle(params, \"mnist_params.pkl\")"
   ]
  },
  {
   "cell_type": "markdown",
   "id": "2yRGP_YtmLGn",
   "metadata": {
    "id": "2yRGP_YtmLGn"
   },
   "source": [
    "# Figure"
   ]
  },
  {
   "cell_type": "code",
   "execution_count": null,
   "id": "40hlH-zkmIVg",
   "metadata": {
    "id": "40hlH-zkmIVg"
   },
   "outputs": [],
   "source": [
    "one_img = x_test[2]\n",
    "one_img = rotate(one_img, 30, reshape=False)"
   ]
  },
  {
   "cell_type": "code",
   "execution_count": null,
   "id": "UiWVa2nZmISZ",
   "metadata": {
    "colab": {
     "base_uri": "https://localhost:8080/",
     "height": 282
    },
    "id": "UiWVa2nZmISZ",
    "outputId": "8a854447-dcc6-42c8-f2c7-4455203e2b9e"
   },
   "outputs": [
    {
     "data": {
      "text/plain": [
       "<matplotlib.image.AxesImage at 0x7f362e1392d0>"
      ]
     },
     "execution_count": 23,
     "metadata": {},
     "output_type": "execute_result"
    },
    {
     "data": {
      "image/png": "[encoded data removed]",
      "text/plain": [
       "<Figure size 432x288 with 1 Axes>"
      ]
     },
     "metadata": {
      "needs_background": "light"
     },
     "output_type": "display_data"
    }
   ],
   "source": [
    "plt.imshow(one_img.squeeze())"
   ]
  },
  {
   "cell_type": "code",
   "execution_count": null,
   "id": "w-P6jRramIP3",
   "metadata": {
    "id": "w-P6jRramIP3"
   },
   "outputs": [],
   "source": [
    "imgs = jnp.array([rotate(one_img, 5.5 * i, reshape=False) for i in range(12)])"
   ]
  },
  {
   "cell_type": "code",
   "execution_count": null,
   "id": "trFiREC2rYGN",
   "metadata": {
    "id": "trFiREC2rYGN"
   },
   "outputs": [],
   "source": [
    "# for i in imgs:\n",
    "#   plt.imshow(i.squeeze())\n",
    "#   plt.show()"
   ]
  },
  {
   "cell_type": "code",
   "execution_count": null,
   "id": "8kTX_j3PmINW",
   "metadata": {
    "colab": {
     "base_uri": "https://localhost:8080/"
    },
    "id": "8kTX_j3PmINW",
    "outputId": "a51576e4-e011-4fb3-9ea2-f40a484ead58"
   },
   "outputs": [
    {
     "data": {
      "text/plain": [
       "DeviceArray([1, 1, 1, 1, 1, 1, 1, 7, 7, 7, 7, 7], dtype=int64)"
      ]
     },
     "execution_count": 26,
     "metadata": {},
     "output_type": "execute_result"
    }
   ],
   "source": [
    "pred = model.apply(\n",
    "    params, imgs, deterministic=False, rngs={\"dropout\": jax.random.PRNGKey(0)}\n",
    ")\n",
    "jnp.argmax(pred, axis=1)"
   ]
  },
  {
   "cell_type": "markdown",
   "id": "6oopzXtAZpmx",
   "metadata": {
    "id": "6oopzXtAZpmx"
   },
   "source": [
    "# MC Dropout"
   ]
  },
  {
   "cell_type": "code",
   "execution_count": null,
   "id": "to6xsKEZn6zn",
   "metadata": {
    "id": "to6xsKEZn6zn"
   },
   "outputs": [],
   "source": [
    "n_stacks = 100\n",
    "y_stacks = []\n",
    "fn = lambda i: model.apply(\n",
    "    params, imgs, deterministic=False, rngs={\"dropout\": jax.random.PRNGKey(i)}\n",
    ")\n",
    "y_stacks = jax.vmap(jax.jit(fn), in_axes=(0))(jnp.arange(n_stacks))"
   ]
  },
  {
   "cell_type": "code",
   "execution_count": null,
   "id": "ufxKdRlXoWT2",
   "metadata": {
    "id": "ufxKdRlXoWT2"
   },
   "outputs": [],
   "source": [
    "stacks = y_stacks[:, :, (1, 3, 7)]"
   ]
  },
  {
   "cell_type": "code",
   "execution_count": null,
   "id": "S4plQJYPm6aL",
   "metadata": {
    "id": "S4plQJYPm6aL"
   },
   "outputs": [],
   "source": [
    "mean = stacks.mean(axis=0)\n",
    "std = stacks.std(axis=0)"
   ]
  },
  {
   "cell_type": "code",
   "execution_count": null,
   "id": "FDYEyaFqDeJA",
   "metadata": {
    "id": "FDYEyaFqDeJA"
   },
   "outputs": [],
   "source": [
    "soft_stacks = nn.softmax(stacks, axis=-1)"
   ]
  },
  {
   "cell_type": "code",
   "execution_count": null,
   "id": "VhFKx6b1EP4V",
   "metadata": {
    "id": "VhFKx6b1EP4V"
   },
   "outputs": [],
   "source": [
    "soft_mean = soft_stacks.mean(axis=0)\n",
    "soft_std = soft_stacks.std(axis=0)"
   ]
  },
  {
   "cell_type": "code",
   "execution_count": null,
   "id": "P6tIOGODjg0n",
   "metadata": {
    "id": "P6tIOGODjg0n"
   },
   "outputs": [],
   "source": [
    "def offset_image(coord, i, ax, low_img, low_index):\n",
    "    img = imgs[i]\n",
    "    im = OffsetImage(img.squeeze(), zoom=0.4)\n",
    "    im.image.axes = ax\n",
    "\n",
    "    ab = AnnotationBbox(\n",
    "        im,\n",
    "        (coord, low_img),\n",
    "        xybox=(0.0, low_index),\n",
    "        frameon=False,\n",
    "        boxcoords=\"offset points\",\n",
    "    )\n",
    "    ax.add_artist(ab)"
   ]
  },
  {
   "cell_type": "code",
   "execution_count": null,
   "id": "sHSBfgMnpYwm",
   "metadata": {
    "colab": {
     "base_uri": "https://localhost:8080/",
     "height": 210
    },
    "id": "sHSBfgMnpYwm",
    "outputId": "12f154b9-bae0-4aae-ea21-dec60a31e7dd"
   },
   "outputs": [
    {
     "name": "stdout",
     "output_type": "stream",
     "text": [
      "saving image to \"figures/\"/Mnist_with_MC_Dropout_latexified.pdf\n",
      "Figure size: [6. 2.]\n"
     ]
    },
    {
     "data": {
      "image/png": "[encoded data removed]",
      "text/plain": [
       "<Figure size 432x144 with 2 Axes>"
      ]
     },
     "metadata": {
      "needs_background": "light"
     },
     "output_type": "display_data"
    }
   ],
   "source": [
    "if is_latexify_enabled():\n",
    "    fig, ax = plt.subplots(1, 2)\n",
    "else:\n",
    "    fig, ax = plt.subplots(1, 2, figsize=(20, 5))\n",
    "index = jnp.arange(12)\n",
    "for i in range(12):\n",
    "    ax[0].eventplot(\n",
    "        stacks[:, i, 0],\n",
    "        orientation=\"vertical\",\n",
    "        lineoffsets=i,\n",
    "        linelengths=0.8,\n",
    "        colors=\"green\",\n",
    "        alpha=0.75,\n",
    "    )\n",
    "    ax[0].eventplot(\n",
    "        stacks[:, i, 1],\n",
    "        orientation=\"vertical\",\n",
    "        lineoffsets=i,\n",
    "        linelengths=0.8,\n",
    "        colors=\"orange\",\n",
    "        alpha=0.75,\n",
    "    )\n",
    "    ax[0].eventplot(\n",
    "        stacks[:, i, 2],\n",
    "        orientation=\"vertical\",\n",
    "        lineoffsets=i,\n",
    "        linelengths=0.8,\n",
    "        colors=\"blue\",\n",
    "        alpha=0.6,\n",
    "    )\n",
    "\n",
    "ax[0].set_xticks(index)\n",
    "ax[0].set_xticklabels(index + 1)\n",
    "ax[0].tick_params(axis=\"x\", which=\"major\", pad=6)\n",
    "ax[0].set_ylabel(\"Logits\")\n",
    "l, h = ax[0].get_ylim()\n",
    "for i in index:\n",
    "    offset_image(i, i, ax[0], l, l + 2)\n",
    "ax[0].legend([\"logit[1]\", \"logit[5]\", \"logit[7]\"], bbox_to_anchor=(0.7, 1.05))\n",
    "ax[0].set_title(\"Softmax input scatter for 100 passes\")\n",
    "\n",
    "\n",
    "for i in range(12):\n",
    "    ax[1].eventplot(\n",
    "        soft_stacks[:, i, 0].sort()[:75],\n",
    "        orientation=\"vertical\",\n",
    "        lineoffsets=i,\n",
    "        linelengths=0.8,\n",
    "        colors=\"green\",\n",
    "        alpha=0.75,\n",
    "    )\n",
    "    ax[1].eventplot(\n",
    "        soft_stacks[:, i, 1].sort()[:75],\n",
    "        orientation=\"vertical\",\n",
    "        lineoffsets=i,\n",
    "        linelengths=0.8,\n",
    "        colors=\"orange\",\n",
    "        alpha=0.75,\n",
    "    )\n",
    "    ax[1].eventplot(\n",
    "        soft_stacks[:, i, 2].sort()[:75],\n",
    "        orientation=\"vertical\",\n",
    "        lineoffsets=i,\n",
    "        linelengths=0.8,\n",
    "        colors=\"blue\",\n",
    "        alpha=0.6,\n",
    "    )\n",
    "\n",
    "ax[1].set_xticks(index)\n",
    "ax[1].set_xticklabels(index + 1)\n",
    "ax[1].tick_params(axis=\"x\", which=\"major\", pad=6)\n",
    "ax[1].set_ylabel(\"Probability\")\n",
    "l, h = ax[1].get_ylim()\n",
    "for i in index:\n",
    "    offset_image(i, i, ax[1], l, l - 10)\n",
    "\n",
    "ax[1].legend([\"prob[1]\", \"prob[5]\", \"prob[7]\"], loc=\"best\", bbox_to_anchor=(0.37, 0.6))\n",
    "ax[1].set_title(\"Softmax output scatter for 100 passes\")\n",
    "\n",
    "sns.despine()\n",
    "savefig(\"Mnist_with_MC_Dropout\", tight_bbox=True, pad=1)\n",
    "plt.show()"
   ]
  },
  {
   "cell_type": "markdown",
   "id": "jMqeKK_wGHY1",
   "metadata": {
    "id": "jMqeKK_wGHY1"
   },
   "source": [
    "# OOD FMnist"
   ]
  },
  {
   "cell_type": "code",
   "execution_count": null,
   "id": "hP7BBdUQGJ-C",
   "metadata": {
    "id": "hP7BBdUQGJ-C"
   },
   "outputs": [],
   "source": [
    "def get_fmnist_datasets():\n",
    "    train_dataset, test_dataset = tfds.fashion_mnist.load_data()\n",
    "    X_train, y_train = train_dataset\n",
    "    x_test, y_test = test_dataset\n",
    "\n",
    "    # X_train = jnp.array(X_train/255)\n",
    "    x_test = jnp.array(x_test / 255)\n",
    "\n",
    "    # X_train = X_train[..., jnp.newaxis]\n",
    "    x_test = x_test[..., jnp.newaxis]\n",
    "\n",
    "    return [X_train, jnp.array(y_train)], [x_test, jnp.array(y_test)]"
   ]
  },
  {
   "cell_type": "code",
   "execution_count": null,
   "id": "4NYkxZviIRqs",
   "metadata": {
    "id": "4NYkxZviIRqs"
   },
   "outputs": [],
   "source": [
    "_, test_fmnist_ds = get_fmnist_datasets()\n",
    "x_test_fmnist, y_test_fmnist = test_fmnist_ds"
   ]
  },
  {
   "cell_type": "code",
   "execution_count": null,
   "id": "g59eACg_Ybe7",
   "metadata": {
    "id": "g59eACg_Ybe7"
   },
   "outputs": [],
   "source": [
    "# 8\n",
    "mnist_img = x_test[110]\n",
    "fmnist_img = x_test_fmnist[1]"
   ]
  },
  {
   "cell_type": "code",
   "execution_count": null,
   "id": "svN39UWVhQMJ",
   "metadata": {
    "id": "svN39UWVhQMJ"
   },
   "outputs": [],
   "source": [
    "mnist_img = mnist_img[jnp.newaxis, :, :, :]\n",
    "fmnist_img = fmnist_img[jnp.newaxis, :, :, :]"
   ]
  },
  {
   "cell_type": "code",
   "execution_count": null,
   "id": "ay4PW48le8jI",
   "metadata": {
    "id": "ay4PW48le8jI"
   },
   "outputs": [],
   "source": [
    "plt.imshow(fmnist_img.squeeze())"
   ]
  },
  {
   "cell_type": "code",
   "execution_count": null,
   "id": "zv3YgH21YgYu",
   "metadata": {
    "id": "zv3YgH21YgYu"
   },
   "outputs": [],
   "source": [
    "n_stacks = 100\n",
    "y_stacks = []\n",
    "fn = lambda i, img: model.apply(\n",
    "    params, img, deterministic=False, rngs={\"dropout\": jax.random.PRNGKey(i)}\n",
    ")\n",
    "y_mnist_stacks = jax.vmap(jax.jit(fn), in_axes=(0, None))(\n",
    "    jnp.arange(n_stacks), mnist_img\n",
    ")\n",
    "y_fmnist_stacks = jax.vmap(jax.jit(fn), in_axes=(0, None))(\n",
    "    jnp.arange(n_stacks), fmnist_img\n",
    ")"
   ]
  },
  {
   "cell_type": "code",
   "execution_count": null,
   "id": "Wsn0LyTwZyk9",
   "metadata": {
    "id": "Wsn0LyTwZyk9"
   },
   "outputs": [],
   "source": [
    "y_mnist_stacks = nn.softmax(y_mnist_stacks, axis=-1)\n",
    "y_fmnist_stacks = nn.softmax(y_fmnist_stacks, axis=-1)"
   ]
  },
  {
   "cell_type": "code",
   "execution_count": null,
   "id": "TYo7NTySYuk1",
   "metadata": {
    "id": "TYo7NTySYuk1"
   },
   "outputs": [],
   "source": [
    "mnist_mean, mnist_sigma = y_mnist_stacks.mean(axis=0), y_mnist_stacks.std(axis=0)\n",
    "fmnist_mean, fmnist_sigma = y_fmnist_stacks.mean(axis=0), y_fmnist_stacks.std(axis=0)"
   ]
  },
  {
   "cell_type": "code",
   "execution_count": null,
   "id": "nKTENzihZX17",
   "metadata": {
    "id": "nKTENzihZX17"
   },
   "outputs": [],
   "source": [
    "mnist_mean = mnist_mean.squeeze()\n",
    "mnist_sigma = mnist_sigma.squeeze()\n",
    "fmnist_mean = fmnist_mean.squeeze()\n",
    "fmnist_sigma = fmnist_sigma.squeeze()"
   ]
  },
  {
   "cell_type": "code",
   "execution_count": null,
   "id": "mzJhtcUHmMnt",
   "metadata": {
    "id": "mzJhtcUHmMnt"
   },
   "outputs": [],
   "source": [
    "y_mnist_stacks.shape"
   ]
  },
  {
   "cell_type": "code",
   "execution_count": null,
   "id": "tZgdgMkGoRUm",
   "metadata": {
    "id": "tZgdgMkGoRUm"
   },
   "outputs": [],
   "source": [
    "y_mnist_stacks[:, 0, 8].min()"
   ]
  },
  {
   "cell_type": "code",
   "execution_count": null,
   "id": "iFZ04qSLoHZr",
   "metadata": {
    "id": "iFZ04qSLoHZr"
   },
   "outputs": [],
   "source": [
    "sns.kdeplot(y_mnist_stacks[:, 0, 8], bw=1)\n",
    "plt.show()"
   ]
  },
  {
   "cell_type": "code",
   "execution_count": null,
   "id": "GyPHoBHOiier",
   "metadata": {
    "id": "GyPHoBHOiier"
   },
   "outputs": [],
   "source": [
    "plt.rc(\"font\", size=20)\n",
    "fig, ax = plt.subplots(2, 2, figsize=(20, 8))\n",
    "\n",
    "ax[0, 0].imshow(mnist_img.squeeze())\n",
    "idx = mnist_mean.argmax()\n",
    "X = jnp.linspace(-0.5, 1.5, 100)\n",
    "Y = dist.Normal(loc=mnist_mean[idx], scale=mnist_sigma[idx]).prob(X)\n",
    "# ax[0,1].plot(X, Y)\n",
    "sns.kdeplot(y_mnist_stacks[:, 0, 8], ax=ax[0, 1], bw=0.1)\n",
    "\n",
    "ax[1, 0].imshow(fmnist_img.squeeze())\n",
    "idx = fmnist_mean.argmax()\n",
    "X = jnp.linspace(0, 1, 100)\n",
    "# Y = dist.Normal(loc=fmnist_mean[idx], scale=fmnist_sigma[idx]).prob(X)\n",
    "sns.kdeplot(y_fmnist_stacks[:, 0, 8], ax=ax[1, 1], bw=0.1)\n",
    "# ax[1,1].plot(X, Y)\n",
    "\n",
    "sns.despine()\n",
    "plt.savefig(\"kdeplot.jpg\")"
   ]
  },
  {
   "cell_type": "code",
   "execution_count": null,
   "id": "uBZJ1qD8Igut",
   "metadata": {
    "id": "uBZJ1qD8Igut"
   },
   "outputs": [],
   "source": [
    "plt.rc(\"font\", size=10)\n",
    "fig, ax = plt.subplots(2, 11, figsize=(30, 6))\n",
    "ax = ax.flatten()\n",
    "c = 0\n",
    "d = 0\n",
    "ax[0].imshow(mnist_img.squeeze())\n",
    "for i in range(1, 11):\n",
    "    sns.kdeplot(y_mnist_stacks[:, 0, c], ax=ax[i])\n",
    "    ax[i].text(\n",
    "        0.5, 0.5, f\"{c}\", fontsize=15, fontweight=\"bold\", transform=ax[i].transAxes\n",
    "    )\n",
    "    c += 1\n",
    "\n",
    "ax[11].imshow(fmnist_img.squeeze())\n",
    "for i in range(12, 22):\n",
    "    sns.kdeplot(y_fmnist_stacks[:, 0, d], ax=ax[i])\n",
    "    ax[i].text(\n",
    "        0.5, 0.5, f\"{d}\", fontsize=15, fontweight=\"bold\", transform=ax[i].transAxes\n",
    "    )\n",
    "    d += 1\n",
    "\n",
    "fig.tight_layout()\n",
    "plt.savefig(\"horizontal.jpg\", bbox_inches=\"tight\")"
   ]
  },
  {
   "cell_type": "code",
   "execution_count": null,
   "id": "BpI0HZUHByr9",
   "metadata": {
    "id": "BpI0HZUHByr9"
   },
   "outputs": [],
   "source": [
    "plt.rc(\"font\", size=10)\n",
    "fig, ax = plt.subplots(11, 2, figsize=(10, 20))\n",
    "ax = ax.flatten()\n",
    "c = 0\n",
    "d = 0\n",
    "ax[0].imshow(mnist_img.squeeze())\n",
    "ax[1].imshow(fmnist_img.squeeze())\n",
    "for i in range(2, 22):\n",
    "    if i % 2 == 0:\n",
    "        sns.kdeplot(y_mnist_stacks[:, 0, c], ax=ax[i])\n",
    "        ax[i].text(\n",
    "            0.5, 0.5, f\"{c}\", fontsize=15, fontweight=\"bold\", transform=ax[i].transAxes\n",
    "        )\n",
    "        c += 1\n",
    "    else:\n",
    "        sns.kdeplot(y_fmnist_stacks[:, 0, d], ax=ax[i])\n",
    "        ax[i].text(\n",
    "            0.5, 0.5, f\"{d}\", fontsize=15, fontweight=\"bold\", transform=ax[i].transAxes\n",
    "        )\n",
    "        d += 1\n",
    "fig.tight_layout()\n",
    "plt.savefig(\"layout.jpg\", bbox_inches=\"tight\")"
   ]
  },
  {
   "cell_type": "code",
   "execution_count": null,
   "id": "5vfsqRJSBMDF",
   "metadata": {
    "id": "5vfsqRJSBMDF"
   },
   "outputs": [],
   "source": [
    "afor i in range(10):\n",
    "    sns.kdeplot(y_fmnist_stacks[:,0,i])\n",
    "    plt.show()"
   ]
  },
  {
   "cell_type": "code",
   "execution_count": null,
   "id": "Mq4pCeWEp676",
   "metadata": {
    "id": "Mq4pCeWEp676"
   },
   "outputs": [],
   "source": [
    "y_fmnist_stacks[:, 0, 8].max()"
   ]
  },
  {
   "cell_type": "code",
   "execution_count": null,
   "id": "vl3mhMlDADgu",
   "metadata": {
    "id": "vl3mhMlDADgu"
   },
   "outputs": [],
   "source": [
    "mean = y_fmnist_stacks.mean(axis=0)\n",
    "sigma = y_fmnist_stacks.std(axis=0)"
   ]
  },
  {
   "cell_type": "code",
   "execution_count": null,
   "id": "BB2VO85YKuMn",
   "metadata": {
    "id": "BB2VO85YKuMn"
   },
   "outputs": [],
   "source": [
    "mean = y_fmnist_stacks.mean(axis=0)\n",
    "\n",
    "fig = plt.figure(figsize=(20, 6))\n",
    "fig, ax = plt.subplots(figsize=(20, 6))\n",
    "for i in range(10):\n",
    "    X = jnp.linspace(-1, 2, 100)\n",
    "    Y = dist.Normal(loc=mean[0][i], scale=sigma[0][i]).prob(X)\n",
    "    ax.plot(X, Y + i, color=\"k\", linewidth=0.75, zorder=100 - i)\n",
    "    ax.fill_between(X, Y + i, i, color=\"orange\", zorder=100 - i)\n",
    "ax.yaxis.set_tick_params(tick1On=False)\n",
    "# ax.set_xlim(-1, 1)\n",
    "ax.set_ylim(1, 15)\n",
    "# ax.axvline(0.0, ls=\"--\", lw=0.75, color=\"black\", zorder=250)\n",
    "ax.yaxis.set_tick_params(labelleft=True)\n",
    "ax.set_yticks(jnp.arange(10))\n",
    "ax.set_yticklabels([\"Prob %d\" % i for i in range(10)])\n",
    "\n",
    "for tick in ax.yaxis.get_major_ticks():\n",
    "    tick.label.set_fontsize(10)\n",
    "    tick.label.set_verticalalignment(\"bottom\")\n",
    "sns.despine()\n",
    "plt.savefig(\"test.pdf\")"
   ]
  }
 ],
 "metadata": {
  "accelerator": "GPU",
  "colab": {
   "collapsed_sections": [],
   "name": "mc_dropout_classification_task.ipynb",
   "provenance": []
  },
  "gpuClass": "standard",
  "kernelspec": {
   "display_name": "Python 3 (ipykernel)",
   "language": "python",
   "name": "python3"
  },
  "language_info": {
   "codemirror_mode": {
    "name": "ipython",
    "version": 3
   },
   "file_extension": ".py",
   "mimetype": "text/x-python",
   "name": "python",
   "nbconvert_exporter": "python",
   "pygments_lexer": "ipython3",
   "version": "3.7.13"
  }
 },
 "nbformat": 4,
 "nbformat_minor": 5
}
