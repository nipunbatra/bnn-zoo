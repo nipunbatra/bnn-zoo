{
 "cells": [
  {
   "cell_type": "code",
   "execution_count": 1,
   "id": "bb2e9c60",
   "metadata": {
    "id": "bb2e9c60"
   },
   "outputs": [],
   "source": [
    "# import os\n",
    "# os.chdir('../') #if we are in notebooks folder"
   ]
  },
  {
   "cell_type": "code",
   "execution_count": 2,
   "id": "neuJ_OD1pHhO",
   "metadata": {
    "colab": {
     "base_uri": "https://localhost:8080/"
    },
    "id": "neuJ_OD1pHhO",
    "outputId": "dca4e4c6-489d-48f4-8a1c-3d80dd345984"
   },
   "outputs": [
    {
     "name": "stdout",
     "output_type": "stream",
     "text": [
      "\u001b[K     |████████████████████████████████| 197 kB 7.4 MB/s \n",
      "\u001b[K     |████████████████████████████████| 596 kB 53.1 MB/s \n",
      "\u001b[K     |████████████████████████████████| 140 kB 73.0 MB/s \n",
      "\u001b[K     |████████████████████████████████| 217 kB 65.7 MB/s \n",
      "\u001b[K     |████████████████████████████████| 51 kB 9.0 MB/s \n",
      "\u001b[K     |████████████████████████████████| 72 kB 728 kB/s \n",
      "\u001b[?25h"
     ]
    }
   ],
   "source": [
    "%pip install -q flax\n",
    "# %pip install -q \"jax[tpu]>=0.2.16\" -f https://storage.googleapis.com/jax-releases/libtpu_releases.html"
   ]
  },
  {
   "cell_type": "code",
   "execution_count": 3,
   "id": "rbNa_WbjKH6C",
   "metadata": {
    "id": "rbNa_WbjKH6C"
   },
   "outputs": [],
   "source": [
    "# import jax.tools.colab_tpu\n",
    "# jax.tools.colab_tpu.setup_tpu()"
   ]
  },
  {
   "cell_type": "code",
   "execution_count": 4,
   "id": "5990cabd",
   "metadata": {
    "colab": {
     "base_uri": "https://localhost:8080/"
    },
    "id": "5990cabd",
    "outputId": "276a1f64-d2e8-4d11-c986-27de3f5f214b"
   },
   "outputs": [
    {
     "name": "stdout",
     "output_type": "stream",
     "text": [
      "  Installing build dependencies ... \u001b[?25l\u001b[?25hdone\n",
      "  Getting requirements to build wheel ... \u001b[?25l\u001b[?25hdone\n",
      "    Preparing wheel metadata ... \u001b[?25l\u001b[?25hdone\n",
      "\u001b[K     |████████████████████████████████| 272 kB 9.4 MB/s \n",
      "\u001b[K     |████████████████████████████████| 88 kB 8.4 MB/s \n",
      "\u001b[K     |████████████████████████████████| 119 kB 70.3 MB/s \n",
      "\u001b[K     |████████████████████████████████| 1.1 MB 59.7 MB/s \n",
      "\u001b[?25h  Building wheel for probml-utils (PEP 517) ... \u001b[?25l\u001b[?25hdone\n",
      "  Building wheel for TexSoup (setup.py) ... \u001b[?25l\u001b[?25hdone\n",
      "  Building wheel for umap-learn (setup.py) ... \u001b[?25l\u001b[?25hdone\n",
      "  Building wheel for pynndescent (setup.py) ... \u001b[?25l\u001b[?25hdone\n"
     ]
    }
   ],
   "source": [
    "import flax\n",
    "import flax.linen as nn\n",
    "import tensorflow_probability.substrates.jax as tfp\n",
    "\n",
    "\n",
    "import jax\n",
    "import jax.numpy as jnp\n",
    "import optax\n",
    "\n",
    "import matplotlib.pyplot as plt\n",
    "import seaborn as sns\n",
    "\n",
    "import pandas as pd\n",
    "\n",
    "from sklearn import datasets\n",
    "from sklearn import preprocessing as sp\n",
    "\n",
    "try:\n",
    "    from probml_utils import latexify, savefig, is_latexify_enabled\n",
    "except ModuleNotFoundError:\n",
    "    %pip install -qq git+https://github.com/probml/probml-utils.git\n",
    "    from probml_utils import latexify, savefig, is_latexify_enabled\n",
    "\n",
    "# from models import mc_dropout\n",
    "# from utils import fit\n",
    "\n",
    "from functools import partial"
   ]
  },
  {
   "cell_type": "code",
   "execution_count": 35,
   "id": "b6xZ1vtzcrwf",
   "metadata": {
    "id": "b6xZ1vtzcrwf"
   },
   "outputs": [],
   "source": [
    "latexify(fig_height=2)"
   ]
  },
  {
   "cell_type": "code",
   "execution_count": 7,
   "id": "8MEdqPmriTtJ",
   "metadata": {
    "id": "8MEdqPmriTtJ"
   },
   "outputs": [],
   "source": [
    "dist = tfp.distributions"
   ]
  },
  {
   "cell_type": "code",
   "execution_count": 8,
   "id": "e563f60e",
   "metadata": {
    "id": "e563f60e"
   },
   "outputs": [],
   "source": [
    "co2_dataset = datasets.fetch_openml(data_id=41187, as_frame=True)"
   ]
  },
  {
   "cell_type": "code",
   "execution_count": 9,
   "id": "3f9fc81e",
   "metadata": {
    "colab": {
     "base_uri": "https://localhost:8080/",
     "height": 206
    },
    "id": "3f9fc81e",
    "outputId": "2f995fa3-1986-4c26-b61a-8ebac1546e38"
   },
   "outputs": [
    {
     "data": {
      "text/html": [
       "<div>\n",
       "<style scoped>\n",
       "    .dataframe tbody tr th:only-of-type {\n",
       "        vertical-align: middle;\n",
       "    }\n",
       "\n",
       "    .dataframe tbody tr th {\n",
       "        vertical-align: top;\n",
       "    }\n",
       "\n",
       "    .dataframe thead th {\n",
       "        text-align: right;\n",
       "    }\n",
       "</style>\n",
       "<table border=\"1\" class=\"dataframe\">\n",
       "  <thead>\n",
       "    <tr style=\"text-align: right;\">\n",
       "      <th></th>\n",
       "      <th>year</th>\n",
       "      <th>month</th>\n",
       "      <th>day</th>\n",
       "      <th>weight</th>\n",
       "      <th>flag</th>\n",
       "      <th>station</th>\n",
       "      <th>co2</th>\n",
       "    </tr>\n",
       "  </thead>\n",
       "  <tbody>\n",
       "    <tr>\n",
       "      <th>0</th>\n",
       "      <td>1958.0</td>\n",
       "      <td>3.0</td>\n",
       "      <td>29.0</td>\n",
       "      <td>4.0</td>\n",
       "      <td>0.0</td>\n",
       "      <td>MLO</td>\n",
       "      <td>316.1</td>\n",
       "    </tr>\n",
       "    <tr>\n",
       "      <th>1</th>\n",
       "      <td>1958.0</td>\n",
       "      <td>4.0</td>\n",
       "      <td>5.0</td>\n",
       "      <td>6.0</td>\n",
       "      <td>0.0</td>\n",
       "      <td>MLO</td>\n",
       "      <td>317.3</td>\n",
       "    </tr>\n",
       "    <tr>\n",
       "      <th>2</th>\n",
       "      <td>1958.0</td>\n",
       "      <td>4.0</td>\n",
       "      <td>12.0</td>\n",
       "      <td>4.0</td>\n",
       "      <td>0.0</td>\n",
       "      <td>MLO</td>\n",
       "      <td>317.6</td>\n",
       "    </tr>\n",
       "    <tr>\n",
       "      <th>3</th>\n",
       "      <td>1958.0</td>\n",
       "      <td>4.0</td>\n",
       "      <td>19.0</td>\n",
       "      <td>6.0</td>\n",
       "      <td>0.0</td>\n",
       "      <td>MLO</td>\n",
       "      <td>317.5</td>\n",
       "    </tr>\n",
       "    <tr>\n",
       "      <th>4</th>\n",
       "      <td>1958.0</td>\n",
       "      <td>4.0</td>\n",
       "      <td>26.0</td>\n",
       "      <td>2.0</td>\n",
       "      <td>0.0</td>\n",
       "      <td>MLO</td>\n",
       "      <td>316.4</td>\n",
       "    </tr>\n",
       "  </tbody>\n",
       "</table>\n",
       "</div>"
      ],
      "text/plain": [
       "     year  month   day  weight  flag station    co2\n",
       "0  1958.0    3.0  29.0     4.0   0.0     MLO  316.1\n",
       "1  1958.0    4.0   5.0     6.0   0.0     MLO  317.3\n",
       "2  1958.0    4.0  12.0     4.0   0.0     MLO  317.6\n",
       "3  1958.0    4.0  19.0     6.0   0.0     MLO  317.5\n",
       "4  1958.0    4.0  26.0     2.0   0.0     MLO  316.4"
      ]
     },
     "execution_count": 9,
     "metadata": {},
     "output_type": "execute_result"
    }
   ],
   "source": [
    "co2_dataset.frame.head()"
   ]
  },
  {
   "cell_type": "code",
   "execution_count": 10,
   "id": "94ea62a1",
   "metadata": {
    "id": "94ea62a1"
   },
   "outputs": [],
   "source": [
    "co2_df = co2_dataset.frame\n",
    "co2_df[\"date\"] = pd.to_datetime(co2_df[[\"year\", \"month\", \"day\"]])\n",
    "co2_df = co2_df[[\"date\", \"co2\"]].set_index(\"date\")"
   ]
  },
  {
   "cell_type": "code",
   "execution_count": 11,
   "id": "250ad427",
   "metadata": {
    "colab": {
     "base_uri": "https://localhost:8080/",
     "height": 237
    },
    "id": "250ad427",
    "outputId": "f5b5c25f-fd22-4bc7-93fa-249f5e3a44b0"
   },
   "outputs": [
    {
     "data": {
      "text/html": [
       "<div>\n",
       "<style scoped>\n",
       "    .dataframe tbody tr th:only-of-type {\n",
       "        vertical-align: middle;\n",
       "    }\n",
       "\n",
       "    .dataframe tbody tr th {\n",
       "        vertical-align: top;\n",
       "    }\n",
       "\n",
       "    .dataframe thead th {\n",
       "        text-align: right;\n",
       "    }\n",
       "</style>\n",
       "<table border=\"1\" class=\"dataframe\">\n",
       "  <thead>\n",
       "    <tr style=\"text-align: right;\">\n",
       "      <th></th>\n",
       "      <th>co2</th>\n",
       "    </tr>\n",
       "    <tr>\n",
       "      <th>date</th>\n",
       "      <th></th>\n",
       "    </tr>\n",
       "  </thead>\n",
       "  <tbody>\n",
       "    <tr>\n",
       "      <th>1958-03-29</th>\n",
       "      <td>316.1</td>\n",
       "    </tr>\n",
       "    <tr>\n",
       "      <th>1958-04-05</th>\n",
       "      <td>317.3</td>\n",
       "    </tr>\n",
       "    <tr>\n",
       "      <th>1958-04-12</th>\n",
       "      <td>317.6</td>\n",
       "    </tr>\n",
       "    <tr>\n",
       "      <th>1958-04-19</th>\n",
       "      <td>317.5</td>\n",
       "    </tr>\n",
       "    <tr>\n",
       "      <th>1958-04-26</th>\n",
       "      <td>316.4</td>\n",
       "    </tr>\n",
       "  </tbody>\n",
       "</table>\n",
       "</div>"
      ],
      "text/plain": [
       "              co2\n",
       "date             \n",
       "1958-03-29  316.1\n",
       "1958-04-05  317.3\n",
       "1958-04-12  317.6\n",
       "1958-04-19  317.5\n",
       "1958-04-26  316.4"
      ]
     },
     "execution_count": 11,
     "metadata": {},
     "output_type": "execute_result"
    }
   ],
   "source": [
    "co2_df.head()"
   ]
  },
  {
   "cell_type": "code",
   "execution_count": 12,
   "id": "2a0c3090",
   "metadata": {
    "id": "2a0c3090"
   },
   "outputs": [],
   "source": [
    "co2_df = co2_df.resample(\"M\").mean().dropna(axis=\"index\", how=\"any\")"
   ]
  },
  {
   "cell_type": "code",
   "execution_count": 13,
   "id": "9dbab652",
   "metadata": {
    "colab": {
     "base_uri": "https://localhost:8080/",
     "height": 334
    },
    "id": "9dbab652",
    "outputId": "30004445-8f14-4dda-b70b-67ea0795bdb9"
   },
   "outputs": [
    {
     "data": {
      "image/png": "[encoded data removed]",
      "text/plain": [
       "<Figure size 1008x360 with 1 Axes>"
      ]
     },
     "metadata": {
      "needs_background": "light"
     },
     "output_type": "display_data"
    }
   ],
   "source": [
    "co2_df.plot(figsize=(14, 5))\n",
    "plt.ylabel(\"CO$_2$ concentration (ppm)\")\n",
    "_ = plt.title(\"Raw air samples measurements from the Mauna Loa Observatory\")\n",
    "sns.despine()"
   ]
  },
  {
   "cell_type": "code",
   "execution_count": 14,
   "id": "c2c932d3",
   "metadata": {
    "id": "c2c932d3"
   },
   "outputs": [],
   "source": [
    "X = (co2_df.index.year + co2_df.index.month / 12).to_numpy().reshape(-1, 1)"
   ]
  },
  {
   "cell_type": "code",
   "execution_count": 15,
   "id": "643f2443",
   "metadata": {
    "id": "643f2443"
   },
   "outputs": [],
   "source": [
    "s = 200\n",
    "n = 450\n",
    "scaler = sp.StandardScaler()\n",
    "scaler = scaler.fit(X[s:n])\n",
    "x = scaler.transform(X[s:n])"
   ]
  },
  {
   "cell_type": "code",
   "execution_count": 16,
   "id": "fc84d8f9",
   "metadata": {
    "id": "fc84d8f9"
   },
   "outputs": [],
   "source": [
    "y = jnp.array(co2_df[\"co2\"][s:n])\n",
    "min_max = sp.MinMaxScaler(feature_range=(0, 5))\n",
    "min_max = min_max.fit(y.reshape(-1, 1))\n",
    "y = min_max.transform(y.reshape(-1, 1))"
   ]
  },
  {
   "cell_type": "code",
   "execution_count": 17,
   "id": "4752901d",
   "metadata": {
    "colab": {
     "base_uri": "https://localhost:8080/",
     "height": 341
    },
    "id": "4752901d",
    "outputId": "9f96ae83-15c5-432a-d1ed-cf8e55dc1e60"
   },
   "outputs": [
    {
     "data": {
      "image/png": "[encoded data removed]",
      "text/plain": [
       "<Figure size 720x360 with 1 Axes>"
      ]
     },
     "metadata": {
      "needs_background": "light"
     },
     "output_type": "display_data"
    }
   ],
   "source": [
    "plt.figure(figsize=(10, 5))\n",
    "plt.plot(x, y)\n",
    "plt.ylim(-20, 20)\n",
    "plt.xlabel(\"Time\", fontsize=12)\n",
    "plt.ylabel(\"Concentration\", fontsize=12)\n",
    "sns.despine()"
   ]
  },
  {
   "cell_type": "markdown",
   "id": "615cf415",
   "metadata": {
    "id": "615cf415"
   },
   "source": [
    "# Train"
   ]
  },
  {
   "cell_type": "code",
   "execution_count": 18,
   "id": "dab2cefa",
   "metadata": {
    "id": "dab2cefa"
   },
   "outputs": [],
   "source": [
    "class mc_dropout(nn.Module):\n",
    "    features: list\n",
    "\n",
    "    @nn.compact\n",
    "    def __call__(self, x, deterministic=True, rate=0.1):\n",
    "\n",
    "        for i, feature in enumerate(self.features):\n",
    "            x = nn.Dense(feature)(x)\n",
    "            x = nn.relu(x)\n",
    "            x = nn.Dropout(rate=rate, deterministic=deterministic)(x)\n",
    "\n",
    "        x = nn.Dense(1)(x)\n",
    "        return x\n",
    "\n",
    "    def loss_fn(\n",
    "        self, params, x, y, deterministic=False, rate=0.1, rng=jax.random.PRNGKey(0)\n",
    "    ):\n",
    "        # key = jax.random.PRNGKey(0)\n",
    "        y_pred = self.apply(params, x, deterministic, rate, rngs={\"dropout\": rng})\n",
    "        loss = jnp.mean((y - y_pred) ** 2)\n",
    "        return loss"
   ]
  },
  {
   "cell_type": "code",
   "execution_count": 19,
   "id": "bd7cafbe",
   "metadata": {
    "id": "bd7cafbe"
   },
   "outputs": [],
   "source": [
    "def fit(model, params, auxs, learning_rate=0.01, epochs=1000, verbose=False):\n",
    "    opt = optax.adam(learning_rate=learning_rate)\n",
    "    opt_state = opt.init(params)\n",
    "\n",
    "    partial_loss_fn = partial(\n",
    "        model.loss_fn, deterministic=auxs[\"deterministic\"], rate=auxs[\"rate\"]\n",
    "    )\n",
    "    loss_grad_fn = jax.jit(jax.value_and_grad(partial_loss_fn))\n",
    "    losses = []\n",
    "    upd = jax.jit(opt.update)\n",
    "    x, y = auxs[\"X\"], auxs[\"y\"]\n",
    "    rng = jax.random.PRNGKey(0)\n",
    "    try:\n",
    "        for i in range(epochs):\n",
    "            rng, _ = jax.random.split(rng)\n",
    "            loss_val, grads = loss_grad_fn(params, x, y, rng=rng)\n",
    "            updates, opt_state = upd(grads, opt_state, params)\n",
    "            params = optax.apply_updates(params, updates)\n",
    "            losses.append(loss_val)\n",
    "            if verbose and i % (epochs / 10) == 0:\n",
    "                print(\"Loss step {}: \".format(i), loss_val)\n",
    "    except KeyboardInterrupt:\n",
    "        print(\"got it.\")\n",
    "        return params, jnp.array(losses)\n",
    "    return params, jnp.array(losses)"
   ]
  },
  {
   "cell_type": "code",
   "execution_count": 20,
   "id": "598a0992",
   "metadata": {
    "id": "598a0992"
   },
   "outputs": [],
   "source": [
    "# load the model\n",
    "model = mc_dropout(features=[256, 512, 256, 128])"
   ]
  },
  {
   "cell_type": "code",
   "execution_count": 21,
   "id": "94369dce",
   "metadata": {
    "id": "94369dce"
   },
   "outputs": [],
   "source": [
    "# initialize model\n",
    "params = model.init(jax.random.PRNGKey(0), x)"
   ]
  },
  {
   "cell_type": "code",
   "execution_count": 22,
   "id": "6631c912",
   "metadata": {
    "id": "6631c912"
   },
   "outputs": [],
   "source": [
    "# model.tabulate(jax.random.PRNGKey(1), x, deterministic=True)"
   ]
  },
  {
   "cell_type": "code",
   "execution_count": 23,
   "id": "c6a91236",
   "metadata": {
    "colab": {
     "base_uri": "https://localhost:8080/"
    },
    "id": "c6a91236",
    "outputId": "3b99432b-b523-42c2-f57d-77d26db553b6"
   },
   "outputs": [
    {
     "name": "stdout",
     "output_type": "stream",
     "text": [
      "Loss step 0:  7.9703736\n",
      "Loss step 10000:  0.082933635\n",
      "Loss step 20000:  0.069000244\n",
      "Loss step 30000:  0.04705535\n",
      "Loss step 40000:  0.04445836\n",
      "Loss step 50000:  0.033236522\n",
      "Loss step 60000:  0.031122293\n",
      "Loss step 70000:  0.029002804\n",
      "Loss step 80000:  0.028685274\n",
      "Loss step 90000:  0.026861954\n"
     ]
    }
   ],
   "source": [
    "auxs = {\"X\": x, \"y\": y, \"deterministic\": False, \"rate\": 0.1}\n",
    "params, losses = fit(\n",
    "    model, params, auxs, learning_rate=0.0005, epochs=100000, verbose=True\n",
    ")"
   ]
  },
  {
   "cell_type": "code",
   "execution_count": 24,
   "id": "00c6c0ae",
   "metadata": {
    "colab": {
     "base_uri": "https://localhost:8080/",
     "height": 496
    },
    "id": "00c6c0ae",
    "outputId": "52a02a9d-ac07-496a-fbb7-f47ecef7257a"
   },
   "outputs": [
    {
     "name": "stderr",
     "output_type": "stream",
     "text": [
      "/usr/local/lib/python3.7/dist-packages/probml_utils/plotting.py:80: UserWarning: set FIG_DIR environment variable to save figures\n",
      "  warnings.warn(\"set FIG_DIR environment variable to save figures\")\n"
     ]
    },
    {
     "data": {
      "image/png": "[encoded data removed]",
      "text/plain": [
       "<Figure size 720x504 with 1 Axes>"
      ]
     },
     "metadata": {
      "needs_background": "light"
     },
     "output_type": "display_data"
    }
   ],
   "source": [
    "x_grid = jnp.linspace(-1.5, 1.5, 200).reshape(-1, 1)\n",
    "plt.figure(figsize=(10, 7))\n",
    "_ = plt.title(\"Raw air samples measurements from the Mauna Loa Observatory\")\n",
    "plt.plot(x, y, linewidth=7, label=\"True\")\n",
    "\n",
    "plt.plot(x_grid, model.apply(params, x_grid), \"orange\", label=\"Predicted\")\n",
    "sns.despine()\n",
    "plt.legend(fontsize=15)\n",
    "plt.xlabel(\"Time\", fontsize=12)\n",
    "plt.ylabel(\"Concentration\", fontsize=12)\n",
    "plt.xlim(-1.5, 1.5)\n",
    "plt.ylim(-20, 20)\n",
    "savefig(\"Mauna_loa_CO2_\")"
   ]
  },
  {
   "cell_type": "markdown",
   "id": "g73rhLTIQ_1Z",
   "metadata": {
    "id": "g73rhLTIQ_1Z"
   },
   "source": [
    "# MC_Dropout\n"
   ]
  },
  {
   "cell_type": "code",
   "execution_count": 41,
   "id": "xwgrfyRpRY5r",
   "metadata": {
    "id": "xwgrfyRpRY5r"
   },
   "outputs": [],
   "source": [
    "def eval(params, x, deterministic=False, rate=0.1, rng=jax.random.PRNGKey(0)):\n",
    "    return model.apply(params, x, deterministic=False, rate=0.1, rngs={\"dropout\": rng})"
   ]
  },
  {
   "cell_type": "code",
   "execution_count": 42,
   "id": "d7f7abfc",
   "metadata": {
    "id": "d7f7abfc"
   },
   "outputs": [],
   "source": [
    "x_test = jnp.linspace(-1.5, 3, 200).reshape(-1, 1)\n",
    "n_stacks = 100\n",
    "y_stacks = []\n",
    "partial_eval_fn = partial(eval, deterministic=False, rate=0.1)\n",
    "evaluate = jax.jit(partial_eval_fn)\n",
    "for i in range(n_stacks):\n",
    "    y_stacks.append(evaluate(params, x_test, rng=jax.random.PRNGKey(i)))"
   ]
  },
  {
   "cell_type": "code",
   "execution_count": 43,
   "id": "YrgJzmm6SOgC",
   "metadata": {
    "id": "YrgJzmm6SOgC"
   },
   "outputs": [],
   "source": [
    "y_stacks = jnp.array(y_stacks)"
   ]
  },
  {
   "cell_type": "code",
   "execution_count": 44,
   "id": "YkIuE8rSSnX9",
   "metadata": {
    "colab": {
     "base_uri": "https://localhost:8080/",
     "height": 210
    },
    "id": "YkIuE8rSSnX9",
    "outputId": "56e552ff-c1ad-48be-b23a-391649977906"
   },
   "outputs": [
    {
     "name": "stdout",
     "output_type": "stream",
     "text": [
      "saving image to \"figure/\"/Uncertain_Co2_Prediction_latexified.pdf\n",
      "Figure size: [6. 2.]\n"
     ]
    },
    {
     "data": {
      "image/png": "[encoded data removed]",
      "text/plain": [
       "<Figure size 432x144 with 1 Axes>"
      ]
     },
     "metadata": {
      "needs_background": "light"
     },
     "output_type": "display_data"
    }
   ],
   "source": [
    "plt.figure()\n",
    "plt.title(\"MC dropout with ReLU non-linearities\", fontsize=10)\n",
    "plt.plot(x, y, linewidth=2)\n",
    "mean = (y_stacks.mean(axis=0)).squeeze()\n",
    "std = (y_stacks.std(axis=0)).squeeze()\n",
    "for i in range(1, 4):\n",
    "    plt.fill_between(\n",
    "        x_test.squeeze(),\n",
    "        mean - i * std,\n",
    "        mean + i * std,\n",
    "        color=\"orange\",\n",
    "        alpha=1 / (i * 3),\n",
    "        label=f\"mean $\\pm$ {i}*std\",\n",
    "    )\n",
    "plt.legend(loc=\"upper left\")\n",
    "sns.despine()\n",
    "plt.xlabel(\"Time\")\n",
    "plt.ylabel(\"Concentration\")\n",
    "plt.ylim(-5, 10)\n",
    "plt.xlim(-1.5, 3)\n",
    "savefig(\"Uncertain_Co2_Prediction\", bbox_inches=\"tight\", pad=1)"
   ]
  },
  {
   "cell_type": "code",
   "execution_count": 29,
   "id": "9iLgkHUfceJU",
   "metadata": {
    "id": "9iLgkHUfceJU"
   },
   "outputs": [],
   "source": [
    "x_test = jnp.linspace(-1.5, 3.5, 200).reshape(-1, 1)\n",
    "n_stacks = 100\n",
    "y_stacks = []\n",
    "partial_eval_fn = partial(eval, deterministic=False, rate=0.1)\n",
    "evaluate = jax.jit(partial_eval_fn)\n",
    "for i in range(n_stacks):\n",
    "    r_y = evaluate(params, x_test, rng=jax.random.PRNGKey(i))\n",
    "    r_y = min_max.inverse_transform(r_y)\n",
    "    y_stacks.append(r_y)"
   ]
  },
  {
   "cell_type": "code",
   "execution_count": 30,
   "id": "N2k7pB7kd69w",
   "metadata": {
    "id": "N2k7pB7kd69w"
   },
   "outputs": [],
   "source": [
    "y_stacks = jnp.array(y_stacks)"
   ]
  },
  {
   "cell_type": "code",
   "execution_count": 31,
   "id": "RhuIsb1Jsxn3",
   "metadata": {
    "id": "RhuIsb1Jsxn3"
   },
   "outputs": [],
   "source": [
    "mean = (y_stacks.mean(axis=0)).squeeze()\n",
    "std = (y_stacks.std(axis=0)).squeeze()"
   ]
  },
  {
   "cell_type": "code",
   "execution_count": 32,
   "id": "M6elJSRYsyXY",
   "metadata": {
    "id": "M6elJSRYsyXY"
   },
   "outputs": [],
   "source": [
    "r_x = scaler.inverse_transform(x)\n",
    "x_test = scaler.inverse_transform(x_test)\n",
    "r_y = co2_df[\"co2\"][s:n]"
   ]
  },
  {
   "cell_type": "code",
   "execution_count": 39,
   "id": "t565EtfVbHtF",
   "metadata": {
    "colab": {
     "base_uri": "https://localhost:8080/",
     "height": 210
    },
    "id": "t565EtfVbHtF",
    "outputId": "ae2e4ad8-1a6b-4c67-dd6e-d262780d9ab9"
   },
   "outputs": [
    {
     "name": "stdout",
     "output_type": "stream",
     "text": [
      "saving image to \"figure/\"/Uncertain_Co2_Prediction_rescale_latexified.pdf\n",
      "Figure size: [6. 2.]\n"
     ]
    },
    {
     "data": {
      "image/png": "[encoded data removed]",
      "text/plain": [
       "<Figure size 432x144 with 1 Axes>"
      ]
     },
     "metadata": {
      "needs_background": "light"
     },
     "output_type": "display_data"
    }
   ],
   "source": [
    "plt.figure()\n",
    "plt.title(\"MC dropout with ReLU non-linearities\")\n",
    "plt.plot(r_x, r_y, linewidth=2)\n",
    "\n",
    "for i in range(1, 4):\n",
    "    plt.fill_between(\n",
    "        x_test.squeeze(),\n",
    "        mean - i * std,\n",
    "        mean + i * std,\n",
    "        color=\"orange\",\n",
    "        alpha=1 / (i * 3),\n",
    "        label=f\"mean $\\pm$ {i}*std\",\n",
    "    )\n",
    "plt.legend(loc=\"upper left\")\n",
    "sns.despine()\n",
    "plt.xlabel(\"Time\")\n",
    "plt.ylabel(\"Concentration\")\n",
    "plt.ylim(300, 400)\n",
    "plt.xlim(1975, 2005)\n",
    "savefig(\"Uncertain_Co2_Prediction_rescale\", bbox_inches=\"tight\", pad=1)"
   ]
  },
  {
   "cell_type": "code",
   "execution_count": 33,
   "id": "H8aQKuUtd3u_",
   "metadata": {
    "id": "H8aQKuUtd3u_"
   },
   "outputs": [],
   "source": []
  }
 ],
 "metadata": {
  "accelerator": "GPU",
  "colab": {
   "collapsed_sections": [],
   "name": "Mauna Loa Co2 Classification MC_Dropout.ipynb",
   "provenance": []
  },
  "gpuClass": "standard",
  "kernelspec": {
   "display_name": "Python 3 (ipykernel)",
   "language": "python",
   "name": "python3"
  },
  "language_info": {
   "codemirror_mode": {
    "name": "ipython",
    "version": 3
   },
   "file_extension": ".py",
   "mimetype": "text/x-python",
   "name": "python",
   "nbconvert_exporter": "python",
   "pygments_lexer": "ipython3",
   "version": "3.8.10"
  }
 },
 "nbformat": 4,
 "nbformat_minor": 5
}
